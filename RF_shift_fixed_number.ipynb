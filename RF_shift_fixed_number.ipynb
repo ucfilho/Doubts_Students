{
  "nbformat": 4,
  "nbformat_minor": 0,
  "metadata": {
    "colab": {
      "provenance": [],
      "include_colab_link": true
    },
    "kernelspec": {
      "name": "python3",
      "display_name": "Python 3"
    },
    "language_info": {
      "name": "python"
    }
  },
  "cells": [
    {
      "cell_type": "markdown",
      "metadata": {
        "id": "view-in-github",
        "colab_type": "text"
      },
      "source": [
        "<a href=\"https://colab.research.google.com/github/ucfilho/Doubts_Students/blob/master/RF_shift_fixed_number.ipynb\" target=\"_parent\"><img src=\"https://colab.research.google.com/assets/colab-badge.svg\" alt=\"Open In Colab\"/></a>"
      ]
    },
    {
      "cell_type": "code",
      "metadata": {
        "id": "G6_52vHnr34h"
      },
      "source": [
        "import pandas as pd\n",
        "import numpy as np\n",
        "from google.colab import files\n",
        "import matplotlib.pyplot as plt\n",
        "from sklearn.model_selection import train_test_split\n",
        "from sklearn.preprocessing import MinMaxScaler\n",
        "from sklearn.metrics import mean_squared_error\n",
        "from sklearn.metrics import r2_score"
      ],
      "execution_count": 1,
      "outputs": []
    },
    {
      "cell_type": "code",
      "metadata": {
        "id": "d7MsJQI2mdaz"
      },
      "source": [
        "from keras.models import Sequential\n",
        "from keras.layers import Dense\n",
        "from keras.layers import LSTM\n",
        "from sklearn.ensemble import RandomForestRegressor"
      ],
      "execution_count": 2,
      "outputs": []
    },
    {
      "cell_type": "code",
      "metadata": {
        "colab": {
          "base_uri": "https://localhost:8080/"
        },
        "id": "HOWF51hxrhhP",
        "outputId": "6b4c9c25-7bf2-4559-9079-08b005c93946"
      },
      "source": [
        "!git clone https://github.com/ucfilho/Machine_Learning_DataSet\n",
        "%cd Machine_Learning_DataSet"
      ],
      "execution_count": 3,
      "outputs": [
        {
          "output_type": "stream",
          "name": "stdout",
          "text": [
            "fatal: destination path 'Machine_Learning_DataSet' already exists and is not an empty directory.\n",
            "/content/Machine_Learning_DataSet\n"
          ]
        }
      ]
    },
    {
      "cell_type": "code",
      "metadata": {
        "colab": {
          "base_uri": "https://localhost:8080/"
        },
        "id": "j6Lc6V7EroT-",
        "outputId": "df8c034d-940b-4253-bd86-fd02aec08f3d"
      },
      "source": [
        "# df = pd.read_csv(\"Superstore.csv\", encoding='windows-1252')\n",
        "df = pd.read_csv(\"dados_precipitacao_teste.csv\")\n",
        "print(df.head(3)) # shows headers with top 3 rows"
      ],
      "execution_count": 4,
      "outputs": [
        {
          "output_type": "stream",
          "name": "stdout",
          "text": [
            "         data  Ent62_SSTtSSA  1_SF  2_SF  3_SF  4_SF      5_SF      7_SF  \\\n",
            "0  2022-11-03       7.454262   0.0   0.0   0.0   0.0  0.000000  0.266250   \n",
            "1  2022-11-04       6.578652   0.0   0.0   0.0   0.0  0.000000  0.234375   \n",
            "2  2022-11-05      12.633390   0.0   0.0   0.0   0.0  0.017083  0.254792   \n",
            "\n",
            "       8_SF      9_SF  ...  Sai62_BalPop  Sai63_BalPop  EntCresc_BalPop  \\\n",
            "0  0.513333  0.807500  ...  7.257745e+14  8.463053e+14     1.572063e+15   \n",
            "1  0.492917  0.791875  ...  5.409959e+14  7.163564e+14     1.257348e+15   \n",
            "2  0.454167  0.677708  ...  7.171353e+14  7.372483e+14     1.454377e+15   \n",
            "\n",
            "      SG_BalPop  SaiCresc_BalPop    End_BalPop  44_Hidrato  \\\n",
            "0  3.535153e+14     1.909924e+15  1.114866e+15    1.483333   \n",
            "1  5.563443e+14     1.814094e+15  1.709214e+15    2.070000   \n",
            "2  3.163980e+14     1.771134e+15  1.224233e+15    2.153333   \n",
            "\n",
            "   DensAparente_Alumina  25_44_SF  25_44_SF_2  \n",
            "0                 936.0  0.146731    0.021530  \n",
            "1                 940.0  0.166737    0.027801  \n",
            "2                 940.0  0.152118    0.023140  \n",
            "\n",
            "[3 rows x 242 columns]\n"
          ]
        }
      ]
    },
    {
      "cell_type": "code",
      "source": [
        "time = df['data'].values\n",
        "X = df.drop(['data','25_44_SF'],axis=1)\n",
        "#X.index = time\n",
        "y = df[['25_44_SF']]\n",
        "nomes = ['25_44_SF']\n",
        "y.index = time\n",
        "P = 7 # numero de periodos para tras (trocar pelo desejado)\n",
        "y_new = {}\n",
        "y_new[nomes[0]]=y.values\n",
        "for i in range(P):\n",
        "  w = '25_44_SF' + str(i+1)\n",
        "  nomes.append(w)\n",
        "  y_new[w]= y.shift(i+1).values\n"
      ],
      "metadata": {
        "id": "xblzDUwte_cZ"
      },
      "execution_count": 5,
      "outputs": []
    },
    {
      "cell_type": "code",
      "source": [
        "dic_ ={}\n",
        "for i in range(P):\n",
        "  dic_[nomes[i]] = list(y_new[nomes[i]].reshape(-1))\n",
        "\n",
        "y = pd.DataFrame(dic_)\n",
        "#y = np.array(y)"
      ],
      "metadata": {
        "id": "cAW8sTCCdd-E"
      },
      "execution_count": 6,
      "outputs": []
    },
    {
      "cell_type": "code",
      "source": [
        "rows, cols = X.shape\n",
        "X=X.iloc[P:rows,:].copy().reset_index()\n",
        "y= y.iloc[P:rows,:].copy().reset_index()"
      ],
      "metadata": {
        "id": "2bLt9vanm-WG"
      },
      "execution_count": 7,
      "outputs": []
    },
    {
      "cell_type": "code",
      "metadata": {
        "id": "mbvaQKvuEWTQ"
      },
      "source": [
        "rows, cols = X.shape\n",
        "ntrain = int(rows*0.8)\n",
        "X_train=X.iloc[0:ntrain,:].copy()\n",
        "y_train= y.iloc[0:ntrain,:].copy()\n",
        "X_test=X.drop(X_train.index)\n",
        "y_test=y.drop(y_train.index)\n",
        "y_train = np.array(y_train)\n",
        "y_test = np.array(y_test)"
      ],
      "execution_count": 8,
      "outputs": []
    },
    {
      "cell_type": "code",
      "source": [
        "y_train"
      ],
      "metadata": {
        "id": "O644Rwp1jfz2",
        "outputId": "5cabb572-6d4d-439a-b797-5304d3189961",
        "colab": {
          "base_uri": "https://localhost:8080/"
        }
      },
      "execution_count": 9,
      "outputs": [
        {
          "output_type": "execute_result",
          "data": {
            "text/plain": [
              "array([[7.00000000e+00, 2.12468871e-01, 2.63493341e-01, ...,\n",
              "        2.32127695e-01, 1.52118151e-01, 1.66737013e-01],\n",
              "       [8.00000000e+00, 2.52638580e-01, 2.12468871e-01, ...,\n",
              "        2.44579106e-01, 2.32127695e-01, 1.52118151e-01],\n",
              "       [9.00000000e+00, 2.52495541e-01, 2.52638580e-01, ...,\n",
              "        2.73297257e-01, 2.44579106e-01, 2.32127695e-01],\n",
              "       ...,\n",
              "       [2.13000000e+02, 2.67734090e-01, 2.52341143e-01, ...,\n",
              "        2.16623142e-01, 2.30820108e-01, 2.42358354e-01],\n",
              "       [2.14000000e+02, 2.52527948e-01, 2.67734090e-01, ...,\n",
              "        2.23772625e-01, 2.16623142e-01, 2.30820108e-01],\n",
              "       [2.15000000e+02, 3.29259326e-01, 2.52527948e-01, ...,\n",
              "        2.38396957e-01, 2.23772625e-01, 2.16623142e-01]])"
            ]
          },
          "metadata": {},
          "execution_count": 9
        }
      ]
    },
    {
      "cell_type": "code",
      "source": [
        "variaveis = X.columns"
      ],
      "metadata": {
        "id": "TRKwGU4foofP"
      },
      "execution_count": 10,
      "outputs": []
    },
    {
      "cell_type": "code",
      "source": [
        "X_train.shape # voce tem 241 variaveis: é muita coisa so tem 209 linhas"
      ],
      "metadata": {
        "colab": {
          "base_uri": "https://localhost:8080/"
        },
        "id": "Kk0TBRywuxx4",
        "outputId": "7d0c6197-7497-48f8-b58d-537be770015c"
      },
      "execution_count": 11,
      "outputs": [
        {
          "output_type": "execute_result",
          "data": {
            "text/plain": [
              "(209, 241)"
            ]
          },
          "metadata": {},
          "execution_count": 11
        }
      ]
    },
    {
      "cell_type": "code",
      "metadata": {
        "id": "B6N5k_BVCdri"
      },
      "source": [
        "#, X_test, y_train, y_test = train_test_split(X, y, test_size=0.2, random_state=101)\n",
        "#X_train\n",
        "scalerX = MinMaxScaler()\n",
        "scalerY = MinMaxScaler()\n",
        "scalerX.fit(X_train)\n",
        "scalerY.fit(y_train)\n",
        "X_train = scalerX.transform(X_train)\n",
        "X_test = scalerX.transform(X_test)\n",
        "y_train= scalerY.transform(y_train)\n",
        "y_test= scalerY.transform(y_test)"
      ],
      "execution_count": 12,
      "outputs": []
    },
    {
      "cell_type": "code",
      "source": [
        "model= RandomForestRegressor()\n",
        "model.fit(X_train, y_train)\n",
        "y_pred = model.predict(X_test)\n",
        "rows,cols = y_test.shape\n",
        "dic_02 = {}\n",
        "for j in range(cols):\n",
        "  print(r2_score(y_test[:,j], y_pred[:,j]))\n",
        "  dic_02[nomes[j]] = r2_score(y_test[:,j], y_pred[:,j])"
      ],
      "metadata": {
        "id": "IrV2MvXZhmKG",
        "outputId": "bc2988d4-2f96-4771-b451-676977661d44",
        "colab": {
          "base_uri": "https://localhost:8080/"
        }
      },
      "execution_count": 13,
      "outputs": [
        {
          "output_type": "stream",
          "name": "stdout",
          "text": [
            "-17.672257345589408\n",
            "0.5015196422971104\n",
            "0.3178280147762874\n",
            "0.2918465367380553\n",
            "0.19310471885353875\n",
            "0.0888831047233839\n",
            "0.047540545610927465\n",
            "0.06505181955985129\n"
          ]
        }
      ]
    },
    {
      "cell_type": "code",
      "source": [
        "pd.Series(dic_02)"
      ],
      "metadata": {
        "colab": {
          "base_uri": "https://localhost:8080/"
        },
        "id": "6HvBARa6pdxm",
        "outputId": "0273e0d5-f334-467f-f25d-179b54b353c6"
      },
      "execution_count": 23,
      "outputs": [
        {
          "output_type": "execute_result",
          "data": {
            "text/plain": [
              "25_44_SF    -17.672257\n",
              "25_44_SF1     0.501520\n",
              "25_44_SF2     0.317828\n",
              "25_44_SF3     0.291847\n",
              "25_44_SF4     0.193105\n",
              "25_44_SF5     0.088883\n",
              "25_44_SF6     0.047541\n",
              "25_44_SF7     0.065052\n",
              "dtype: float64"
            ]
          },
          "metadata": {},
          "execution_count": 23
        }
      ]
    },
    {
      "cell_type": "code",
      "source": [
        "y_test.shape"
      ],
      "metadata": {
        "id": "pandKG7QjyPI",
        "colab": {
          "base_uri": "https://localhost:8080/"
        },
        "outputId": "fd8e9ba9-d635-47ab-ccf5-5288a19666f8"
      },
      "execution_count": 15,
      "outputs": [
        {
          "output_type": "execute_result",
          "data": {
            "text/plain": [
              "(53, 8)"
            ]
          },
          "metadata": {},
          "execution_count": 15
        }
      ]
    },
    {
      "cell_type": "code",
      "source": [
        "importances = list(model.feature_importances_)\n",
        "#print(importances)\n",
        "dic_03 = {}\n",
        "k = 0\n",
        "for w in importances:\n",
        "  dic_03[variaveis[k]] = w\n",
        "  k += 1\n"
      ],
      "metadata": {
        "id": "dE-ywCfJhr7O"
      },
      "execution_count": 16,
      "outputs": []
    },
    {
      "cell_type": "code",
      "source": [
        "df1 = pd.Series(dic_03).sort_values(ascending=False)"
      ],
      "metadata": {
        "id": "3FoZ_If-pvSV"
      },
      "execution_count": 21,
      "outputs": []
    },
    {
      "cell_type": "code",
      "source": [
        "df1.head(10)"
      ],
      "metadata": {
        "colab": {
          "base_uri": "https://localhost:8080/"
        },
        "id": "LGsuByP1rpQ1",
        "outputId": "6ba89911-e320-46e1-df5a-840bada1d623"
      },
      "execution_count": 22,
      "outputs": [
        {
          "output_type": "execute_result",
          "data": {
            "text/plain": [
              "index              0.280775\n",
              "Sai63_BalPop       0.081860\n",
              "25_44_SF_2         0.072666\n",
              "SaiCresc_BalPop    0.010053\n",
              "138_SG             0.009550\n",
              "30.2_SF            0.009521\n",
              "91.2_SG            0.009330\n",
              "5_SF               0.008417\n",
              "HXTQ81I_Q          0.008262\n",
              "Sai62_BalPop       0.007913\n",
              "dtype: float64"
            ]
          },
          "metadata": {},
          "execution_count": 22
        }
      ]
    }
  ]
}