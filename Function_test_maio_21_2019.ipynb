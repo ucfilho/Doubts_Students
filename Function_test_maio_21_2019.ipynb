{
  "nbformat": 4,
  "nbformat_minor": 0,
  "metadata": {
    "colab": {
      "name": "Untitled",
      "version": "0.3.2",
      "provenance": [],
      "include_colab_link": true
    },
    "kernelspec": {
      "name": "python3",
      "display_name": "Python 3"
    }
  },
  "cells": [
    {
      "cell_type": "markdown",
      "metadata": {
        "id": "view-in-github",
        "colab_type": "text"
      },
      "source": [
        "<a href=\"https://colab.research.google.com/github/ucfilho/Doubts_Students/blob/master/Function_test_maio_21_2019.ipynb\" target=\"_parent\"><img src=\"https://colab.research.google.com/assets/colab-badge.svg\" alt=\"Open In Colab\"/></a>"
      ]
    },
    {
      "cell_type": "code",
      "metadata": {
        "id": "fLkFzTrJo8Fb",
        "colab_type": "code",
        "colab": {}
      },
      "source": [
        "import os\n",
        "import numpy as np\n",
        "import pandas as pd\n",
        "import matplotlib.pyplot as plt"
      ],
      "execution_count": 0,
      "outputs": []
    },
    {
      "cell_type": "code",
      "metadata": {
        "id": "WfIu4B3YpFB0",
        "colab_type": "code",
        "outputId": "593bcfbd-0bb2-4c5e-b332-766adde20e05",
        "colab": {
          "base_uri": "https://localhost:8080/",
          "height": 287
        }
      },
      "source": [
        "Num=200\n",
        "fx=[]\n",
        "gx=[]\n",
        "w=[]\n",
        "x=[]\n",
        "for i in range(Num):\n",
        "  a=-2.5+i/100\n",
        "  #print(a)\n",
        "  x.append(a)\n",
        "  if(((a+1)>=0) and (a != 0) ) :\n",
        "    w.append(a)\n",
        "    #print(\"terra\")\n",
        "    g=np.sqrt(a+1)/abs(a)\n",
        "  else:\n",
        "    #print(\"ar\")\n",
        "    g=0\n",
        "  gx.append(g)\n",
        "  if((a+2)>=0 and a != 2) :\n",
        "    f=np.sqrt(a+2)/abs(a-2)\n",
        "  else:\n",
        "    f=0\n",
        "  fx.append(f)\n",
        "  \n",
        "  \n",
        "plt.plot(x,fx)\n",
        " \n",
        "  "
      ],
      "execution_count": 0,
      "outputs": [
        {
          "output_type": "execute_result",
          "data": {
            "text/plain": [
              "[<matplotlib.lines.Line2D at 0x7fdb12ba2ef0>]"
            ]
          },
          "metadata": {
            "tags": []
          },
          "execution_count": 2
        },
        {
          "output_type": "display_data",
          "data": {
            "image/png": "[encoded data removed]",
            "text/plain": [
              "<Figure size 432x288 with 1 Axes>"
            ]
          },
          "metadata": {
            "tags": []
          }
        }
      ]
    },
    {
      "cell_type": "code",
      "metadata": {
        "id": "Y-HjvfSYr-Vv",
        "colab_type": "code",
        "outputId": "f5bffb1b-9b37-4d3f-ade6-1382cfe59ff1",
        "colab": {
          "base_uri": "https://localhost:8080/",
          "height": 287
        }
      },
      "source": [
        " plt.plot(x,gx)"
      ],
      "execution_count": 0,
      "outputs": [
        {
          "output_type": "execute_result",
          "data": {
            "text/plain": [
              "[<matplotlib.lines.Line2D at 0x7fdb103409e8>]"
            ]
          },
          "metadata": {
            "tags": []
          },
          "execution_count": 3
        },
        {
          "output_type": "display_data",
          "data": {
            "image/png": "[encoded data removed]",
            "text/plain": [
              "<Figure size 432x288 with 1 Axes>"
            ]
          },
          "metadata": {
            "tags": []
          }
        }
      ]
    },
    {
      "cell_type": "code",
      "metadata": {
        "id": "SVnV7EcYy5IS",
        "colab_type": "code",
        "outputId": "d91a1344-ef19-4934-eab9-73ef975cf1a1",
        "colab": {
          "base_uri": "https://localhost:8080/",
          "height": 287
        }
      },
      "source": [
        "plt.plot(x,gx)\n",
        "plt.plot(x,fx)"
      ],
      "execution_count": 0,
      "outputs": [
        {
          "output_type": "execute_result",
          "data": {
            "text/plain": [
              "[<matplotlib.lines.Line2D at 0x7fdb10340e48>]"
            ]
          },
          "metadata": {
            "tags": []
          },
          "execution_count": 4
        },
        {
          "output_type": "display_data",
          "data": {
            "image/png": "[encoded data removed]",
            "text/plain": [
              "<Figure size 432x288 with 1 Axes>"
            ]
          },
          "metadata": {
            "tags": []
          }
        }
      ]
    }
  ]
}