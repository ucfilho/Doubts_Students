{
  "nbformat": 4,
  "nbformat_minor": 0,
  "metadata": {
    "colab": {
      "provenance": [],
      "authorship_tag": "ABX9TyNN/SGz30FYmEzVnbklM1Ao",
      "include_colab_link": true
    },
    "kernelspec": {
      "name": "python3",
      "display_name": "Python 3"
    },
    "language_info": {
      "name": "python"
    }
  },
  "cells": [
    {
      "cell_type": "markdown",
      "metadata": {
        "id": "view-in-github",
        "colab_type": "text"
      },
      "source": [
        "<a href=\"https://colab.research.google.com/github/ucfilho/Doubts_Students/blob/master/linear_models_normal_lasso_ridge.ipynb\" target=\"_parent\"><img src=\"https://colab.research.google.com/assets/colab-badge.svg\" alt=\"Open In Colab\"/></a>"
      ]
    },
    {
      "cell_type": "code",
      "source": [
        "from sklearn import linear_model\n",
        "from sklearn.metrics import r2_score"
      ],
      "metadata": {
        "id": "l3r19YvGql9d"
      },
      "execution_count": null,
      "outputs": []
    },
    {
      "cell_type": "code",
      "execution_count": null,
      "metadata": {
        "colab": {
          "base_uri": "https://localhost:8080/"
        },
        "id": "fE817Vb8o1R-",
        "outputId": "98bc383b-0307-4970-bd1d-199f83aa1d33"
      },
      "outputs": [
        {
          "output_type": "stream",
          "name": "stdout",
          "text": [
            "[0.5 0.5]\n",
            "1.1102230246251565e-16\n",
            "1.0\n"
          ]
        }
      ],
      "source": [
        "# regressao linear comum\n",
        "reg = linear_model.LinearRegression()\n",
        "reg.fit([[0, 0], [1, 1], [2, 2]], [0, 1, 2])\n",
        "y_pred = reg.predict([[0, 0], [1, 1], [2, 2]])\n",
        "y_test = [0, 1, 2]\n",
        "print(reg.coef_)\n",
        "print(reg.intercept_)\n",
        "print(r2_score(y_test, y_pred))"
      ]
    },
    {
      "cell_type": "code",
      "source": [
        "reg_lasso = linear_model.Lasso(alpha=0.1)\n",
        "reg_lasso.fit([[0,0], [1, 1], [2, 2]], [0, 1, 2])\n",
        "y_pred = reg_lasso.predict([[0,0], [1, 1], [2, 2]])\n",
        "y_test = [0, 1, 2]\n",
        "print(reg_lasso.coef_)\n",
        "print(reg_lasso.intercept_)\n",
        "print(r2_score(y_test, y_pred))"
      ],
      "metadata": {
        "colab": {
          "base_uri": "https://localhost:8080/"
        },
        "id": "rQeXxatEqEwe",
        "outputId": "def8338e-1cf0-44b1-a78b-fee1223b1bc5"
      },
      "execution_count": null,
      "outputs": [
        {
          "output_type": "stream",
          "name": "stdout",
          "text": [
            "[0.85 0.  ]\n",
            "0.15000000000000002\n",
            "0.9775\n"
          ]
        }
      ]
    },
    {
      "cell_type": "code",
      "source": [
        "reg_ridge = linear_model.Ridge(alpha=0.1)\n",
        "reg_ridge.fit([[0,0], [1, 1], [2, 2]], [0, 1, 2])\n",
        "y_pred = reg_ridge.predict([[0,0], [1, 1], [2, 2]])\n",
        "y_test = [0, 1, 2]\n",
        "print(reg_ridge.coef_)\n",
        "print(reg_ridge.intercept_)\n",
        "print(r2_score(y_test, y_pred))"
      ],
      "metadata": {
        "colab": {
          "base_uri": "https://localhost:8080/"
        },
        "id": "_qnqoWcErBs6",
        "outputId": "da8ff2c1-9716-4310-ca3c-3e5724500204"
      },
      "execution_count": null,
      "outputs": [
        {
          "output_type": "stream",
          "name": "stdout",
          "text": [
            "[0.48780488 0.48780488]\n",
            "0.024390243902439157\n",
            "0.9994051160023796\n"
          ]
        }
      ]
    }
  ]
}