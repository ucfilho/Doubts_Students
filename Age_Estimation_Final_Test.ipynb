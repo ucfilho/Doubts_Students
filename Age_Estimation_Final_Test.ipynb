{
  "nbformat": 4,
  "nbformat_minor": 0,
  "metadata": {
    "colab": {
      "provenance": [],
      "include_colab_link": true
    },
    "kernelspec": {
      "name": "python3",
      "display_name": "Python 3"
    },
    "language_info": {
      "name": "python"
    }
  },
  "cells": [
    {
      "cell_type": "markdown",
      "metadata": {
        "id": "view-in-github",
        "colab_type": "text"
      },
      "source": [
        "<a href=\"https://colab.research.google.com/github/ucfilho/Doubts_Students/blob/master/Age_Estimation_Final_Test.ipynb\" target=\"_parent\"><img src=\"https://colab.research.google.com/assets/colab-badge.svg\" alt=\"Open In Colab\"/></a>"
      ]
    },
    {
      "cell_type": "markdown",
      "source": [
        "Idade"
      ],
      "metadata": {
        "id": "Cf6iVWQRuR1v"
      }
    },
    {
      "cell_type": "code",
      "source": [
        "import zipfile\n",
        "import cv2\n",
        "import numpy as np\n",
        "from matplotlib import pyplot as plt\n",
        "import pandas as pd\n",
        "import tensorflow as tf"
      ],
      "metadata": {
        "id": "P20sBuJqlPYL"
      },
      "execution_count": 1,
      "outputs": []
    },
    {
      "cell_type": "code",
      "source": [
        "from google.colab import drive\n",
        "\n",
        "drive.mount('/content/drive')"
      ],
      "metadata": {
        "colab": {
          "base_uri": "https://localhost:8080/"
        },
        "id": "V3pt6D4x1ExD",
        "outputId": "fa551d31-2988-46fb-832b-8e8e6bcaeb10"
      },
      "execution_count": 2,
      "outputs": [
        {
          "output_type": "stream",
          "name": "stdout",
          "text": [
            "Mounted at /content/drive\n"
          ]
        }
      ]
    },
    {
      "cell_type": "code",
      "source": [
        "# Replace with your path!\n",
        "!unzip -q /content/drive/MyDrive/TRY_ME/UTKFace.zip -d data\n"
      ],
      "metadata": {
        "id": "UfJzbM48owsg"
      },
      "execution_count": 3,
      "outputs": []
    },
    {
      "cell_type": "code",
      "source": [
        "# !mv data/UTKFace data/UTKFace"
      ],
      "metadata": {
        "id": "krFcQMFy02Rh"
      },
      "execution_count": 4,
      "outputs": []
    },
    {
      "cell_type": "code",
      "source": [
        "'''\n",
        "!gdown 1XqNOGo6QzeNYeOxsGIwBx-xlPT5_Cl0e\n",
        "\n",
        "FILE='UTKFace.zip'\n",
        "\n",
        "archive = zipfile.ZipFile(FILE, 'r')\n",
        "archive.extractall()\n",
        "\n",
        "img_name=[]\n",
        "with zipfile.ZipFile(FILE, \"r\") as f:\n",
        "    for name in f.namelist():\n",
        "        img_name.append(name)'''"
      ],
      "metadata": {
        "colab": {
          "base_uri": "https://localhost:8080/",
          "height": 54
        },
        "id": "7rYzrTNgpEky",
        "outputId": "0f5fc82c-6a94-496e-c4b5-06d69d7a1d3f"
      },
      "execution_count": 5,
      "outputs": [
        {
          "output_type": "execute_result",
          "data": {
            "text/plain": [
              "'\\n!gdown 1XqNOGo6QzeNYeOxsGIwBx-xlPT5_Cl0e\\n\\nFILE=\\'UTKFace.zip\\'\\n\\narchive = zipfile.ZipFile(FILE, \\'r\\')\\narchive.extractall()\\n\\nimg_name=[]\\nwith zipfile.ZipFile(FILE, \"r\") as f:\\n    for name in f.namelist():\\n        img_name.append(name)'"
            ],
            "application/vnd.google.colaboratory.intrinsic+json": {
              "type": "string"
            }
          },
          "metadata": {},
          "execution_count": 5
        }
      ]
    },
    {
      "cell_type": "code",
      "source": [
        "# para treino\n",
        "!gdown 15dJJp8CJaaJ5JPoBgSlll_vCxy9vCdrV\n",
        "df = pd.read_csv('train-utkface.csv')\n",
        "df_train = df[['filename','age']]\n",
        "\n",
        "# para val\n",
        "!gdown 1l-DyeTfi5Q9tbZ9NgqGW0ABlr1X8kXqk\n",
        "df = pd.read_csv('valid-utkface.csv')\n",
        "df_val = df[['filename','age']]\n",
        "\n",
        "# para test\n",
        "!gdown 1c5W3OWc0fD8L3BAM9P5nNUlNGJHd8ZVv\n",
        "df = pd.read_csv('test-utkface.csv')\n",
        "df_test = df[['filename','age']]\n",
        "\n",
        "# PATH_IMGS = '/sample_data'\n",
        "PATH_IMGS = '/content/data'"
      ],
      "metadata": {
        "colab": {
          "base_uri": "https://localhost:8080/"
        },
        "id": "06qaj5ebpSU8",
        "outputId": "b64dc9e3-9cb5-48e9-ab79-19cd959cad45"
      },
      "execution_count": 6,
      "outputs": [
        {
          "output_type": "stream",
          "name": "stdout",
          "text": [
            "Downloading...\n",
            "From: https://drive.google.com/uc?id=15dJJp8CJaaJ5JPoBgSlll_vCxy9vCdrV\n",
            "To: /content/train-utkface.csv\n",
            "100% 740k/740k [00:00<00:00, 74.2MB/s]\n",
            "Downloading...\n",
            "From: https://drive.google.com/uc?id=1l-DyeTfi5Q9tbZ9NgqGW0ABlr1X8kXqk\n",
            "To: /content/valid-utkface.csv\n",
            "100% 185k/185k [00:00<00:00, 69.1MB/s]\n",
            "Downloading...\n",
            "From: https://drive.google.com/uc?id=1c5W3OWc0fD8L3BAM9P5nNUlNGJHd8ZVv\n",
            "To: /content/test-utkface.csv\n",
            "100% 231k/231k [00:00<00:00, 58.6MB/s]\n"
          ]
        }
      ]
    },
    {
      "cell_type": "code",
      "source": [],
      "metadata": {
        "id": "Yxu9LFUupZ5W"
      },
      "execution_count": 6,
      "outputs": []
    },
    {
      "cell_type": "code",
      "source": [],
      "metadata": {
        "id": "pDzIyzM5vRkh"
      },
      "execution_count": 6,
      "outputs": []
    },
    {
      "cell_type": "code",
      "source": [],
      "metadata": {
        "id": "RkVbTygXpf5n"
      },
      "execution_count": 6,
      "outputs": []
    },
    {
      "cell_type": "code",
      "execution_count": null,
      "metadata": {
        "id": "y87hdqSruHyJ",
        "colab": {
          "base_uri": "https://localhost:8080/"
        },
        "outputId": "b79a7cef-0b51-4d34-9e8b-6f7add1b9e7b"
      },
      "outputs": [
        {
          "output_type": "stream",
          "name": "stdout",
          "text": [
            "Found 15170 validated image filenames.\n",
            "Found 3793 validated image filenames.\n",
            "Found 4742 validated image filenames.\n"
          ]
        },
        {
          "output_type": "stream",
          "name": "stderr",
          "text": [
            "/usr/local/lib/python3.10/dist-packages/keras/src/preprocessing/image.py:1137: UserWarning: Found 2 invalid image filename(s) in x_col=\"filename\". These filename(s) will be ignored.\n",
            "  warnings.warn(\n",
            "/usr/local/lib/python3.10/dist-packages/keras/src/preprocessing/image.py:1137: UserWarning: Found 1 invalid image filename(s) in x_col=\"filename\". These filename(s) will be ignored.\n",
            "  warnings.warn(\n"
          ]
        },
        {
          "output_type": "stream",
          "name": "stdout",
          "text": [
            "Downloading data from https://storage.googleapis.com/tensorflow/keras-applications/resnet/resnet50v2_weights_tf_dim_ordering_tf_kernels_notop.h5\n",
            "94668760/94668760 [==============================] - 1s 0us/step\n",
            "Epoch 1/10\n",
            " 42/949 [>.............................] - ETA: 1:10:16 - loss: 16.7519"
          ]
        }
      ],
      "source": [
        "# PATH_IMGS contém o caminho para a pasta com as imagens\n",
        "# image_size e target_size indicam o tamanho que a imagem será carregada, no exemplo, 128x128x3\n",
        "# Para a regressão, o modelo tem class_mode igual a raw, já que usa os valores que estão na tabela\n",
        "# A coluna age no dataframe tem a idade no formato inteiro\n",
        "# Caso a memória estoure, vale a pena diminuir o batch_size\n",
        "\n",
        "generator = tf.keras.preprocessing.image.ImageDataGenerator(preprocessing_function=tf.keras.applications.resnet_v2.preprocess_input)\n",
        "\n",
        "train_generator = generator.flow_from_dataframe(\n",
        "        df_train, directory=PATH_IMGS, x_col='filename', y_col=['age'], image_size=(128, 128),\n",
        "        target_size=(128, 128), class_mode='raw', batch_size=16, shuffle=True)\n",
        "\n",
        "val_generator = generator.flow_from_dataframe(\n",
        "        df_val, directory=PATH_IMGS, x_col='filename', y_col=['age'], image_size=(128, 128),\n",
        "        target_size=(128, 128), class_mode='raw', batch_size=16, shuffle=False)\n",
        "\n",
        "test_generator = generator.flow_from_dataframe(\n",
        "        df_test, directory=PATH_IMGS, x_col='filename', y_col=['age'], image_size=(128, 128),\n",
        "        target_size=(128, 128), class_mode='raw', batch_size=16, shuffle=False)\n",
        "\n",
        "\n",
        "# Exemplo com ResNet50V2\n",
        "backbone = tf.keras.applications.resnet_v2.ResNet50V2(include_top=False, input_shape=(128,128,3), pooling='avg')\n",
        "\n",
        "for layer in backbone.layers:\n",
        "  layer.trainable = True\n",
        "\n",
        "model = tf.keras.Sequential([\n",
        "    backbone,\n",
        "    tf.keras.layers.Dense(1, activation=None)\n",
        "])\n",
        "\n",
        "model.compile(optimizer='adam', loss=['mae'])\n",
        "\n",
        "model.fit(train_generator, epochs=10, validation_data=val_generator, batch_size=16)"
      ]
    },
    {
      "cell_type": "markdown",
      "source": [
        "Gênero"
      ],
      "metadata": {
        "id": "PYC601ZQvUom"
      }
    },
    {
      "cell_type": "code",
      "source": [
        "# PATH_IMGS contém o caminho para a pasta com as imagens\n",
        "# image_size e target_size indicam o tamanho que a imagem será carregada, no exemplo, 128x128x3\n",
        "# Para a classificação binária, o modelo tem class_mode igual a raw, já que usa os valores que estão na tabela (0 ou 1)\n",
        "# A coluna gender no dataframe tem a idade no formato inteiro\n",
        "# Caso a memória estoure, vale a pena diminuir o batch_size\n",
        "\n",
        "generator = tf.keras.preprocessing.image.ImageDataGenerator(preprocessing_function=tf.keras.applications.resnet_v2.preprocess_input)\n",
        "\n",
        "train_generator = generator.flow_from_dataframe(\n",
        "        df_train, directory=PATH_IMGS, x_col='filename', y_col=['gender'], image_size=(128, 128),\n",
        "        target_size=(128, 128), class_mode='raw', batch_size=16, shuffle=True)\n",
        "\n",
        "val_generator = generator.flow_from_dataframe(\n",
        "        df_val, directory=PATH_IMGS, x_col='filename', y_col=['gender'], image_size=(128, 128),\n",
        "        target_size=(128, 128), class_mode='raw', batch_size=16, shuffle=False)\n",
        "\n",
        "test_generator = generator.flow_from_dataframe(\n",
        "        df_test, directory=PATH_IMGS, x_col='filename', y_col=['gender'], image_size=(128, 128),\n",
        "        target_size=(128, 128), class_mode='raw', batch_size=16, shuffle=False)\n",
        "\n",
        "\n",
        "# Exemplo com ResNet50V2\n",
        "backbone = tf.keras.applications.resnet_v2.ResNet50V2(include_top=False, input_shape=(128,128,3), pooling='avg')\n",
        "\n",
        "for layer in backbone.layers:\n",
        "  layer.trainable = True\n",
        "\n",
        "model = tf.keras.Sequential([\n",
        "    backbone,\n",
        "    tf.keras.layers.Dense(1, activation='sigmoid')\n",
        "])\n",
        "\n",
        "model.compile(optimizer='adam', loss=['binary_crossentropy'])\n",
        "\n",
        "model.fit(train_generator, epochs=10, validation_data=val_generator, batch_size=16)"
      ],
      "metadata": {
        "id": "vM6IVJewvVRE"
      },
      "execution_count": null,
      "outputs": []
    },
    {
      "cell_type": "markdown",
      "source": [
        "Raça"
      ],
      "metadata": {
        "id": "Q_H45dCQv9e7"
      }
    },
    {
      "cell_type": "code",
      "source": [
        "# PATH_IMGS contém o caminho para a pasta com as imagens\n",
        "# image_size e target_size indicam o tamanho que a imagem será carregada, no exemplo, 128x128x3\n",
        "# Para a classificação multi-classe, o modelo pode usar class_mode igual a raw, porém adicionando a loss sparse_categorical_crossentropy, para tratar as classes como 0, 1, 2, 3, 4\n",
        "# A coluna race no dataframe tem a idade no formato inteiro\n",
        "# Caso a memória estoure, vale a pena diminuir o batch_size\n",
        "\n",
        "generator = tf.keras.preprocessing.image.ImageDataGenerator(preprocessing_function=tf.keras.applications.resnet_v2.preprocess_input)\n",
        "\n",
        "train_generator = generator.flow_from_dataframe(\n",
        "        df_train, directory=PATH_IMGS, x_col='filename', y_col=['race'], image_size=(128, 128),\n",
        "        target_size=(128, 128), class_mode='raw', batch_size=16, shuffle=True)\n",
        "\n",
        "val_generator = generator.flow_from_dataframe(\n",
        "        df_val, directory=PATH_IMGS, x_col='filename', y_col=['race'], image_size=(128, 128),\n",
        "        target_size=(128, 128), class_mode='raw', batch_size=16, shuffle=False)\n",
        "\n",
        "test_generator = generator.flow_from_dataframe(\n",
        "        df_test, directory=PATH_IMGS, x_col='filename', y_col=['race'], image_size=(128, 128),\n",
        "        target_size=(128, 128), class_mode='raw', batch_size=16, shuffle=False)\n",
        "\n",
        "\n",
        "# Exemplo com ResNet50V2\n",
        "backbone = tf.keras.applications.resnet_v2.ResNet50V2(include_top=False, input_shape=(128,128,3), pooling='avg')\n",
        "\n",
        "for layer in backbone.layers:\n",
        "  layer.trainable = True\n",
        "\n",
        "model = tf.keras.Sequential([\n",
        "    backbone,\n",
        "    tf.keras.layers.Dense(5, activation='softmax')\n",
        "])\n",
        "\n",
        "model.compile(optimizer='adam', loss=['sparse_categorical_crossentropy'])\n",
        "\n",
        "model.fit(train_generator, epochs=10, validation_data=val_generator, batch_size=16)"
      ],
      "metadata": {
        "id": "o_QHlgl1v-h8"
      },
      "execution_count": null,
      "outputs": []
    }
  ]
}