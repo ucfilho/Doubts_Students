{
  "nbformat": 4,
  "nbformat_minor": 0,
  "metadata": {
    "colab": {
      "provenance": [],
      "include_colab_link": true
    },
    "kernelspec": {
      "display_name": "Python 3",
      "language": "python",
      "name": "python3"
    }
  },
  "cells": [
    {
      "cell_type": "markdown",
      "metadata": {
        "id": "view-in-github",
        "colab_type": "text"
      },
      "source": [
        "<a href=\"https://colab.research.google.com/github/ucfilho/Doubts_Students/blob/master/sorgo_ANN_otimiza_test_jan_26_2022.ipynb\" target=\"_parent\"><img src=\"https://colab.research.google.com/assets/colab-badge.svg\" alt=\"Open In Colab\"/></a>"
      ]
    },
    {
      "cell_type": "code",
      "metadata": {
        "id": "8CK0d8tEzkzW"
      },
      "source": [
        "# bibliotecas usadas\n",
        "import os\n",
        "import numpy as np\n",
        "import pandas as pd\n",
        "import matplotlib.pyplot as plt\n",
        "from scipy import optimize\n",
        "from sklearn.neural_network import MLPRegressor\n",
        "from sklearn.metrics import mean_squared_error\n",
        "from sklearn.metrics import r2_score \n",
        "from mpl_toolkits.mplot3d import Axes3D, axes3d\n",
        "from sklearn.preprocessing import StandardScaler\n",
        "from google.colab import files\n",
        "from sklearn.model_selection import train_test_split"
      ],
      "execution_count": 67,
      "outputs": []
    },
    {
      "cell_type": "code",
      "metadata": {
        "id": "hN9aPXQrzkzl",
        "colab": {
          "base_uri": "https://localhost:8080/",
          "height": 94
        },
        "outputId": "35c07bd0-1fdf-4b1e-fa89-e29bcc4bda0a"
      },
      "source": [
        "n = input('Entre sua escolha (0,1 ou 2) para  (ponta negra, 1g100, dbk550:')\n",
        "uploaded = files.upload()"
      ],
      "execution_count": 35,
      "outputs": [
        {
          "name": "stdout",
          "output_type": "stream",
          "text": [
            "Entre sua escolha (0,1 ou 2) para  (ponta negra, 1g100, dbk550:1\n"
          ]
        },
        {
          "output_type": "display_data",
          "data": {
            "text/plain": [
              "<IPython.core.display.HTML object>"
            ],
            "text/html": [
              "\n",
              "     <input type=\"file\" id=\"files-4e37de7a-c08a-4d9c-9e8b-0d856da86f41\" name=\"files[]\" multiple disabled\n",
              "        style=\"border:none\" />\n",
              "     <output id=\"result-4e37de7a-c08a-4d9c-9e8b-0d856da86f41\">\n",
              "      Upload widget is only available when the cell has been executed in the\n",
              "      current browser session. Please rerun this cell to enable.\n",
              "      </output>\n",
              "      <script>// Copyright 2017 Google LLC\n",
              "//\n",
              "// Licensed under the Apache License, Version 2.0 (the \"License\");\n",
              "// you may not use this file except in compliance with the License.\n",
              "// You may obtain a copy of the License at\n",
              "//\n",
              "//      http://www.apache.org/licenses/LICENSE-2.0\n",
              "//\n",
              "// Unless required by applicable law or agreed to in writing, software\n",
              "// distributed under the License is distributed on an \"AS IS\" BASIS,\n",
              "// WITHOUT WARRANTIES OR CONDITIONS OF ANY KIND, either express or implied.\n",
              "// See the License for the specific language governing permissions and\n",
              "// limitations under the License.\n",
              "\n",
              "/**\n",
              " * @fileoverview Helpers for google.colab Python module.\n",
              " */\n",
              "(function(scope) {\n",
              "function span(text, styleAttributes = {}) {\n",
              "  const element = document.createElement('span');\n",
              "  element.textContent = text;\n",
              "  for (const key of Object.keys(styleAttributes)) {\n",
              "    element.style[key] = styleAttributes[key];\n",
              "  }\n",
              "  return element;\n",
              "}\n",
              "\n",
              "// Max number of bytes which will be uploaded at a time.\n",
              "const MAX_PAYLOAD_SIZE = 100 * 1024;\n",
              "\n",
              "function _uploadFiles(inputId, outputId) {\n",
              "  const steps = uploadFilesStep(inputId, outputId);\n",
              "  const outputElement = document.getElementById(outputId);\n",
              "  // Cache steps on the outputElement to make it available for the next call\n",
              "  // to uploadFilesContinue from Python.\n",
              "  outputElement.steps = steps;\n",
              "\n",
              "  return _uploadFilesContinue(outputId);\n",
              "}\n",
              "\n",
              "// This is roughly an async generator (not supported in the browser yet),\n",
              "// where there are multiple asynchronous steps and the Python side is going\n",
              "// to poll for completion of each step.\n",
              "// This uses a Promise to block the python side on completion of each step,\n",
              "// then passes the result of the previous step as the input to the next step.\n",
              "function _uploadFilesContinue(outputId) {\n",
              "  const outputElement = document.getElementById(outputId);\n",
              "  const steps = outputElement.steps;\n",
              "\n",
              "  const next = steps.next(outputElement.lastPromiseValue);\n",
              "  return Promise.resolve(next.value.promise).then((value) => {\n",
              "    // Cache the last promise value to make it available to the next\n",
              "    // step of the generator.\n",
              "    outputElement.lastPromiseValue = value;\n",
              "    return next.value.response;\n",
              "  });\n",
              "}\n",
              "\n",
              "/**\n",
              " * Generator function which is called between each async step of the upload\n",
              " * process.\n",
              " * @param {string} inputId Element ID of the input file picker element.\n",
              " * @param {string} outputId Element ID of the output display.\n",
              " * @return {!Iterable<!Object>} Iterable of next steps.\n",
              " */\n",
              "function* uploadFilesStep(inputId, outputId) {\n",
              "  const inputElement = document.getElementById(inputId);\n",
              "  inputElement.disabled = false;\n",
              "\n",
              "  const outputElement = document.getElementById(outputId);\n",
              "  outputElement.innerHTML = '';\n",
              "\n",
              "  const pickedPromise = new Promise((resolve) => {\n",
              "    inputElement.addEventListener('change', (e) => {\n",
              "      resolve(e.target.files);\n",
              "    });\n",
              "  });\n",
              "\n",
              "  const cancel = document.createElement('button');\n",
              "  inputElement.parentElement.appendChild(cancel);\n",
              "  cancel.textContent = 'Cancel upload';\n",
              "  const cancelPromise = new Promise((resolve) => {\n",
              "    cancel.onclick = () => {\n",
              "      resolve(null);\n",
              "    };\n",
              "  });\n",
              "\n",
              "  // Wait for the user to pick the files.\n",
              "  const files = yield {\n",
              "    promise: Promise.race([pickedPromise, cancelPromise]),\n",
              "    response: {\n",
              "      action: 'starting',\n",
              "    }\n",
              "  };\n",
              "\n",
              "  cancel.remove();\n",
              "\n",
              "  // Disable the input element since further picks are not allowed.\n",
              "  inputElement.disabled = true;\n",
              "\n",
              "  if (!files) {\n",
              "    return {\n",
              "      response: {\n",
              "        action: 'complete',\n",
              "      }\n",
              "    };\n",
              "  }\n",
              "\n",
              "  for (const file of files) {\n",
              "    const li = document.createElement('li');\n",
              "    li.append(span(file.name, {fontWeight: 'bold'}));\n",
              "    li.append(span(\n",
              "        `(${file.type || 'n/a'}) - ${file.size} bytes, ` +\n",
              "        `last modified: ${\n",
              "            file.lastModifiedDate ? file.lastModifiedDate.toLocaleDateString() :\n",
              "                                    'n/a'} - `));\n",
              "    const percent = span('0% done');\n",
              "    li.appendChild(percent);\n",
              "\n",
              "    outputElement.appendChild(li);\n",
              "\n",
              "    const fileDataPromise = new Promise((resolve) => {\n",
              "      const reader = new FileReader();\n",
              "      reader.onload = (e) => {\n",
              "        resolve(e.target.result);\n",
              "      };\n",
              "      reader.readAsArrayBuffer(file);\n",
              "    });\n",
              "    // Wait for the data to be ready.\n",
              "    let fileData = yield {\n",
              "      promise: fileDataPromise,\n",
              "      response: {\n",
              "        action: 'continue',\n",
              "      }\n",
              "    };\n",
              "\n",
              "    // Use a chunked sending to avoid message size limits. See b/62115660.\n",
              "    let position = 0;\n",
              "    do {\n",
              "      const length = Math.min(fileData.byteLength - position, MAX_PAYLOAD_SIZE);\n",
              "      const chunk = new Uint8Array(fileData, position, length);\n",
              "      position += length;\n",
              "\n",
              "      const base64 = btoa(String.fromCharCode.apply(null, chunk));\n",
              "      yield {\n",
              "        response: {\n",
              "          action: 'append',\n",
              "          file: file.name,\n",
              "          data: base64,\n",
              "        },\n",
              "      };\n",
              "\n",
              "      let percentDone = fileData.byteLength === 0 ?\n",
              "          100 :\n",
              "          Math.round((position / fileData.byteLength) * 100);\n",
              "      percent.textContent = `${percentDone}% done`;\n",
              "\n",
              "    } while (position < fileData.byteLength);\n",
              "  }\n",
              "\n",
              "  // All done.\n",
              "  yield {\n",
              "    response: {\n",
              "      action: 'complete',\n",
              "    }\n",
              "  };\n",
              "}\n",
              "\n",
              "scope.google = scope.google || {};\n",
              "scope.google.colab = scope.google.colab || {};\n",
              "scope.google.colab._files = {\n",
              "  _uploadFiles,\n",
              "  _uploadFilesContinue,\n",
              "};\n",
              "})(self);\n",
              "</script> "
            ]
          },
          "metadata": {}
        },
        {
          "output_type": "stream",
          "name": "stdout",
          "text": [
            "Saving Dados 1G100_Pontos novos.xlsx to Dados 1G100_Pontos novos (8).xlsx\n"
          ]
        }
      ]
    },
    {
      "cell_type": "code",
      "metadata": {
        "id": "x_biWwCEzkzp",
        "colab": {
          "base_uri": "https://localhost:8080/"
        },
        "outputId": "2d03d08b-fe3b-4235-f84d-5ffbe54369b3"
      },
      "source": [
        "choose = [\"sorgopontanegra.csv\",\"Sorgo_1G100.csv\",\"Sorgo_DBK550.csv\"]\n",
        "#DAT=pd.read_csv(choose[int(n)])\n",
        "DAT = pd. read_excel('Dados 1G100_Pontos novos.xlsx')\n",
        "print(DAT.head())"
      ],
      "execution_count": 36,
      "outputs": [
        {
          "output_type": "stream",
          "name": "stdout",
          "text": [
            "  Run  SO (g/L)  IN (g/L)  GL (g/L)  Et (g/L)  Ethanol (kg/100kg sorgo)  \\\n",
            "0   1    35.000      15.0   26.4169   12.1970                 34.848571   \n",
            "1   2    35.000      45.0   27.9425   14.6410                 41.831429   \n",
            "2   3   165.000      15.0   86.3195   43.6347                 26.445273   \n",
            "3   4   165.000      45.0   89.0621   43.4471                 26.331576   \n",
            "4   5    25.445      30.0   18.2450    9.7402                 38.279426   \n",
            "\n",
            "   Fi (kg/ 100kg de sorgo)       ST         Y1  \n",
            "0                  29.5200  28.4169  83.995385  \n",
            "1                  26.4942  28.9425  98.995123  \n",
            "2                  58.5103  87.9128  97.131251  \n",
            "3                  52.4981  90.6521  93.791185  \n",
            "4                  27.0320  21.2450  89.720201  \n"
          ]
        }
      ]
    },
    {
      "cell_type": "code",
      "source": [
        "n"
      ],
      "metadata": {
        "colab": {
          "base_uri": "https://localhost:8080/",
          "height": 38
        },
        "id": "rqSs0zldZtZl",
        "outputId": "939cf0dc-58b6-4da7-f955-ad4d2aacd19a"
      },
      "execution_count": 37,
      "outputs": [
        {
          "output_type": "execute_result",
          "data": {
            "text/plain": [
              "'1'"
            ],
            "application/vnd.google.colaboratory.intrinsic+json": {
              "type": "string"
            }
          },
          "metadata": {},
          "execution_count": 37
        }
      ]
    },
    {
      "cell_type": "code",
      "source": [
        "def zscore(x,xold):\n",
        "  x = np.array(x)\n",
        "  xold = np.array(xold)\n",
        "  nrows, ncol = x.shape\n",
        "  for j in range(ncol):\n",
        "    avgx,stdx = np.average(xold[:,j]), np.std(xold[:,j])\n",
        "    x[:,j]=(x[:,j]-avgx)/stdx\n",
        "  return x"
      ],
      "metadata": {
        "id": "Wa-QWwfsTttY"
      },
      "execution_count": 38,
      "outputs": []
    },
    {
      "cell_type": "code",
      "source": [
        "def z2val(x,xold): \n",
        "  x = np.array(x)\n",
        "  xold = np.array(xold)\n",
        "  nrows, ncol = x.shape\n",
        "  for j in range(ncol):\n",
        "    avgx,stdx = np.average(xold[:,j]), np.std(xold[:,j])\n",
        "    x[:,j]=x[:,j]*stdx+avgx\n",
        "  return x"
      ],
      "metadata": {
        "id": "mLw9WvUgTukX"
      },
      "execution_count": 39,
      "outputs": []
    },
    {
      "cell_type": "code",
      "source": [
        "DAT.columns=['Run', 'SO', 'IN', 'GL ', 'Et', 'Et2', 'Fi', 'ST', 'Y1']"
      ],
      "metadata": {
        "id": "CN5jiuuk8FAY"
      },
      "execution_count": 40,
      "outputs": []
    },
    {
      "cell_type": "code",
      "source": [
        "Col_Indep=['SO','IN']\n",
        "#names =[ 'Et']\n",
        "names =[ 'Y1']"
      ],
      "metadata": {
        "id": "rlIOjl-t08GR"
      },
      "execution_count": 41,
      "outputs": []
    },
    {
      "cell_type": "code",
      "source": [
        "nrows, ncols = DAT.shape\n",
        "itrain, itest =train_test_split(range(nrows), test_size=0.2,random_state=14) # 2,3,4,5,6,7,8,9,10,11,22"
      ],
      "metadata": {
        "id": "tD3KXTcOyeE4"
      },
      "execution_count": 42,
      "outputs": []
    },
    {
      "cell_type": "markdown",
      "source": [],
      "metadata": {
        "id": "-3FHW37WCpdg"
      }
    },
    {
      "cell_type": "code",
      "metadata": {
        "id": "XX6YzHtEzkzy"
      },
      "source": [
        "# separa as colunas de interesse\n",
        "x_train=DAT[Col_Indep].iloc[itrain,:].copy()\n",
        "y_train=DAT[names].iloc[itrain,:].copy()\n",
        "x_test = DAT[Col_Indep].iloc[itest,:].copy()\n",
        "y_test = DAT[names].iloc[itest,:].copy()"
      ],
      "execution_count": 43,
      "outputs": []
    },
    {
      "cell_type": "code",
      "source": [
        "xold, yold = DAT[Col_Indep],DAT[names]"
      ],
      "metadata": {
        "id": "JE9tcSQWUKHh"
      },
      "execution_count": 44,
      "outputs": []
    },
    {
      "cell_type": "code",
      "source": [
        "x_train, y_train = zscore(x_train,xold), zscore(y_train,yold)\n",
        "x_test, y_test = zscore(x_test,xold), zscore(y_test,yold)"
      ],
      "metadata": {
        "id": "zuR7kj2nUK9I"
      },
      "execution_count": 45,
      "outputs": []
    },
    {
      "cell_type": "code",
      "source": [
        "x_train"
      ],
      "metadata": {
        "colab": {
          "base_uri": "https://localhost:8080/"
        },
        "id": "R0M9Ju9FfECc",
        "outputId": "4fb8c908-b56f-4f61-dae7-9cba865c8c92"
      },
      "execution_count": 46,
      "outputs": [
        {
          "output_type": "execute_result",
          "data": {
            "text/plain": [
              "array([[ 1.28040331, -1.32787567],\n",
              "       [-1.22016134,  1.32787567],\n",
              "       [ 1.28040331,  0.88525045],\n",
              "       [ 1.46313688,  0.        ],\n",
              "       [-1.22016134, -1.32787567],\n",
              "       [ 0.99187662, -0.88525045],\n",
              "       [ 0.03012098,  0.        ],\n",
              "       [ 0.03012098,  1.52263077],\n",
              "       [ 0.03012098, -1.52263077],\n",
              "       [-1.22016134, -0.88525045],\n",
              "       [ 0.03012098,  0.        ],\n",
              "       [-0.16223014, -0.44262522]])"
            ]
          },
          "metadata": {},
          "execution_count": 46
        }
      ]
    },
    {
      "cell_type": "code",
      "metadata": {
        "id": "V6wOyxX3zk0I"
      },
      "source": [
        "# define a rede neural \n",
        "def optmANN(x_train,x_test,y_train,y_test):\n",
        "  resp_scored = []\n",
        "  for i in range(1,15):\n",
        "    r_calc =[]\n",
        "    N_Hidden = i\n",
        "    clf = MLPRegressor(solver='lbfgs',activation='tanh',\n",
        "                      alpha=1e-5,hidden_layer_sizes=(N_Hidden), \n",
        "                        random_state=1)\n",
        "    clf.fit(x_train, y_train)\n",
        "    y_calc_train=clf.predict(x_train)\n",
        "    y_calc_test=clf.predict(x_test)\n",
        "    y_calc_train=pd.DataFrame(y_calc_train)\n",
        "    y_calc_test=pd.DataFrame(y_calc_test)\n",
        "    r2_test= r2_score(y_test,y_calc_test)\n",
        "    r2_train = r2_score(y_train,y_calc_train)\n",
        "    r_calc.append(i)\n",
        "    r_calc.append(r2_train)\n",
        "    r_calc.append(r2_test)\n",
        "    resp_scored.append(r_calc)\n",
        "\n",
        "  df = pd.DataFrame(resp_scored,columns=['hidden','r2 train','r2 test'])\n",
        "  return df"
      ],
      "execution_count": 47,
      "outputs": []
    },
    {
      "cell_type": "code",
      "source": [
        "df = optmANN(x_train,x_test,y_train,y_test)\n",
        "df"
      ],
      "metadata": {
        "colab": {
          "base_uri": "https://localhost:8080/",
          "height": 1000
        },
        "id": "2U62qN9xxKZu",
        "outputId": "a19231cf-4d21-4248-cfdb-9bc113da51eb"
      },
      "execution_count": 48,
      "outputs": [
        {
          "output_type": "stream",
          "name": "stderr",
          "text": [
            "/usr/local/lib/python3.8/dist-packages/sklearn/neural_network/_multilayer_perceptron.py:1599: DataConversionWarning: A column-vector y was passed when a 1d array was expected. Please change the shape of y to (n_samples, ), for example using ravel().\n",
            "  y = column_or_1d(y, warn=True)\n",
            "/usr/local/lib/python3.8/dist-packages/sklearn/neural_network/_multilayer_perceptron.py:1599: DataConversionWarning: A column-vector y was passed when a 1d array was expected. Please change the shape of y to (n_samples, ), for example using ravel().\n",
            "  y = column_or_1d(y, warn=True)\n",
            "/usr/local/lib/python3.8/dist-packages/sklearn/neural_network/_multilayer_perceptron.py:1599: DataConversionWarning: A column-vector y was passed when a 1d array was expected. Please change the shape of y to (n_samples, ), for example using ravel().\n",
            "  y = column_or_1d(y, warn=True)\n",
            "/usr/local/lib/python3.8/dist-packages/sklearn/neural_network/_multilayer_perceptron.py:549: ConvergenceWarning: lbfgs failed to converge (status=1):\n",
            "STOP: TOTAL NO. of ITERATIONS REACHED LIMIT.\n",
            "\n",
            "Increase the number of iterations (max_iter) or scale the data as shown in:\n",
            "    https://scikit-learn.org/stable/modules/preprocessing.html\n",
            "  self.n_iter_ = _check_optimize_result(\"lbfgs\", opt_res, self.max_iter)\n",
            "/usr/local/lib/python3.8/dist-packages/sklearn/neural_network/_multilayer_perceptron.py:1599: DataConversionWarning: A column-vector y was passed when a 1d array was expected. Please change the shape of y to (n_samples, ), for example using ravel().\n",
            "  y = column_or_1d(y, warn=True)\n",
            "/usr/local/lib/python3.8/dist-packages/sklearn/neural_network/_multilayer_perceptron.py:1599: DataConversionWarning: A column-vector y was passed when a 1d array was expected. Please change the shape of y to (n_samples, ), for example using ravel().\n",
            "  y = column_or_1d(y, warn=True)\n",
            "/usr/local/lib/python3.8/dist-packages/sklearn/neural_network/_multilayer_perceptron.py:1599: DataConversionWarning: A column-vector y was passed when a 1d array was expected. Please change the shape of y to (n_samples, ), for example using ravel().\n",
            "  y = column_or_1d(y, warn=True)\n",
            "/usr/local/lib/python3.8/dist-packages/sklearn/neural_network/_multilayer_perceptron.py:1599: DataConversionWarning: A column-vector y was passed when a 1d array was expected. Please change the shape of y to (n_samples, ), for example using ravel().\n",
            "  y = column_or_1d(y, warn=True)\n",
            "/usr/local/lib/python3.8/dist-packages/sklearn/neural_network/_multilayer_perceptron.py:1599: DataConversionWarning: A column-vector y was passed when a 1d array was expected. Please change the shape of y to (n_samples, ), for example using ravel().\n",
            "  y = column_or_1d(y, warn=True)\n",
            "/usr/local/lib/python3.8/dist-packages/sklearn/neural_network/_multilayer_perceptron.py:1599: DataConversionWarning: A column-vector y was passed when a 1d array was expected. Please change the shape of y to (n_samples, ), for example using ravel().\n",
            "  y = column_or_1d(y, warn=True)\n",
            "/usr/local/lib/python3.8/dist-packages/sklearn/neural_network/_multilayer_perceptron.py:1599: DataConversionWarning: A column-vector y was passed when a 1d array was expected. Please change the shape of y to (n_samples, ), for example using ravel().\n",
            "  y = column_or_1d(y, warn=True)\n",
            "/usr/local/lib/python3.8/dist-packages/sklearn/neural_network/_multilayer_perceptron.py:1599: DataConversionWarning: A column-vector y was passed when a 1d array was expected. Please change the shape of y to (n_samples, ), for example using ravel().\n",
            "  y = column_or_1d(y, warn=True)\n",
            "/usr/local/lib/python3.8/dist-packages/sklearn/neural_network/_multilayer_perceptron.py:1599: DataConversionWarning: A column-vector y was passed when a 1d array was expected. Please change the shape of y to (n_samples, ), for example using ravel().\n",
            "  y = column_or_1d(y, warn=True)\n",
            "/usr/local/lib/python3.8/dist-packages/sklearn/neural_network/_multilayer_perceptron.py:1599: DataConversionWarning: A column-vector y was passed when a 1d array was expected. Please change the shape of y to (n_samples, ), for example using ravel().\n",
            "  y = column_or_1d(y, warn=True)\n",
            "/usr/local/lib/python3.8/dist-packages/sklearn/neural_network/_multilayer_perceptron.py:1599: DataConversionWarning: A column-vector y was passed when a 1d array was expected. Please change the shape of y to (n_samples, ), for example using ravel().\n",
            "  y = column_or_1d(y, warn=True)\n"
          ]
        },
        {
          "output_type": "execute_result",
          "data": {
            "text/plain": [
              "    hidden  r2 train    r2 test\n",
              "0        1  0.383524  -2.823247\n",
              "1        2  0.595600 -63.616719\n",
              "2        3  0.929625  -3.077728\n",
              "3        4  0.929800  -3.052829\n",
              "4        5  0.998722  -9.472962\n",
              "5        6  0.998722  -5.193893\n",
              "6        7  0.998722  -6.599216\n",
              "7        8  0.998722  -4.601883\n",
              "8        9  0.998722  -8.411911\n",
              "9       10  0.998722  -3.602331\n",
              "10      11  0.998722 -15.747692\n",
              "11      12  0.998722  -7.379539\n",
              "12      13  0.998722  -5.159886\n",
              "13      14  0.998722 -12.206121"
            ],
            "text/html": [
              "\n",
              "  <div id=\"df-395b96f9-6aa9-49de-b7cb-e3d88920098b\">\n",
              "    <div class=\"colab-df-container\">\n",
              "      <div>\n",
              "<style scoped>\n",
              "    .dataframe tbody tr th:only-of-type {\n",
              "        vertical-align: middle;\n",
              "    }\n",
              "\n",
              "    .dataframe tbody tr th {\n",
              "        vertical-align: top;\n",
              "    }\n",
              "\n",
              "    .dataframe thead th {\n",
              "        text-align: right;\n",
              "    }\n",
              "</style>\n",
              "<table border=\"1\" class=\"dataframe\">\n",
              "  <thead>\n",
              "    <tr style=\"text-align: right;\">\n",
              "      <th></th>\n",
              "      <th>hidden</th>\n",
              "      <th>r2 train</th>\n",
              "      <th>r2 test</th>\n",
              "    </tr>\n",
              "  </thead>\n",
              "  <tbody>\n",
              "    <tr>\n",
              "      <th>0</th>\n",
              "      <td>1</td>\n",
              "      <td>0.383524</td>\n",
              "      <td>-2.823247</td>\n",
              "    </tr>\n",
              "    <tr>\n",
              "      <th>1</th>\n",
              "      <td>2</td>\n",
              "      <td>0.595600</td>\n",
              "      <td>-63.616719</td>\n",
              "    </tr>\n",
              "    <tr>\n",
              "      <th>2</th>\n",
              "      <td>3</td>\n",
              "      <td>0.929625</td>\n",
              "      <td>-3.077728</td>\n",
              "    </tr>\n",
              "    <tr>\n",
              "      <th>3</th>\n",
              "      <td>4</td>\n",
              "      <td>0.929800</td>\n",
              "      <td>-3.052829</td>\n",
              "    </tr>\n",
              "    <tr>\n",
              "      <th>4</th>\n",
              "      <td>5</td>\n",
              "      <td>0.998722</td>\n",
              "      <td>-9.472962</td>\n",
              "    </tr>\n",
              "    <tr>\n",
              "      <th>5</th>\n",
              "      <td>6</td>\n",
              "      <td>0.998722</td>\n",
              "      <td>-5.193893</td>\n",
              "    </tr>\n",
              "    <tr>\n",
              "      <th>6</th>\n",
              "      <td>7</td>\n",
              "      <td>0.998722</td>\n",
              "      <td>-6.599216</td>\n",
              "    </tr>\n",
              "    <tr>\n",
              "      <th>7</th>\n",
              "      <td>8</td>\n",
              "      <td>0.998722</td>\n",
              "      <td>-4.601883</td>\n",
              "    </tr>\n",
              "    <tr>\n",
              "      <th>8</th>\n",
              "      <td>9</td>\n",
              "      <td>0.998722</td>\n",
              "      <td>-8.411911</td>\n",
              "    </tr>\n",
              "    <tr>\n",
              "      <th>9</th>\n",
              "      <td>10</td>\n",
              "      <td>0.998722</td>\n",
              "      <td>-3.602331</td>\n",
              "    </tr>\n",
              "    <tr>\n",
              "      <th>10</th>\n",
              "      <td>11</td>\n",
              "      <td>0.998722</td>\n",
              "      <td>-15.747692</td>\n",
              "    </tr>\n",
              "    <tr>\n",
              "      <th>11</th>\n",
              "      <td>12</td>\n",
              "      <td>0.998722</td>\n",
              "      <td>-7.379539</td>\n",
              "    </tr>\n",
              "    <tr>\n",
              "      <th>12</th>\n",
              "      <td>13</td>\n",
              "      <td>0.998722</td>\n",
              "      <td>-5.159886</td>\n",
              "    </tr>\n",
              "    <tr>\n",
              "      <th>13</th>\n",
              "      <td>14</td>\n",
              "      <td>0.998722</td>\n",
              "      <td>-12.206121</td>\n",
              "    </tr>\n",
              "  </tbody>\n",
              "</table>\n",
              "</div>\n",
              "      <button class=\"colab-df-convert\" onclick=\"convertToInteractive('df-395b96f9-6aa9-49de-b7cb-e3d88920098b')\"\n",
              "              title=\"Convert this dataframe to an interactive table.\"\n",
              "              style=\"display:none;\">\n",
              "        \n",
              "  <svg xmlns=\"http://www.w3.org/2000/svg\" height=\"24px\"viewBox=\"0 0 24 24\"\n",
              "       width=\"24px\">\n",
              "    <path d=\"M0 0h24v24H0V0z\" fill=\"none\"/>\n",
              "    <path d=\"M18.56 5.44l.94 2.06.94-2.06 2.06-.94-2.06-.94-.94-2.06-.94 2.06-2.06.94zm-11 1L8.5 8.5l.94-2.06 2.06-.94-2.06-.94L8.5 2.5l-.94 2.06-2.06.94zm10 10l.94 2.06.94-2.06 2.06-.94-2.06-.94-.94-2.06-.94 2.06-2.06.94z\"/><path d=\"M17.41 7.96l-1.37-1.37c-.4-.4-.92-.59-1.43-.59-.52 0-1.04.2-1.43.59L10.3 9.45l-7.72 7.72c-.78.78-.78 2.05 0 2.83L4 21.41c.39.39.9.59 1.41.59.51 0 1.02-.2 1.41-.59l7.78-7.78 2.81-2.81c.8-.78.8-2.07 0-2.86zM5.41 20L4 18.59l7.72-7.72 1.47 1.35L5.41 20z\"/>\n",
              "  </svg>\n",
              "      </button>\n",
              "      \n",
              "  <style>\n",
              "    .colab-df-container {\n",
              "      display:flex;\n",
              "      flex-wrap:wrap;\n",
              "      gap: 12px;\n",
              "    }\n",
              "\n",
              "    .colab-df-convert {\n",
              "      background-color: #E8F0FE;\n",
              "      border: none;\n",
              "      border-radius: 50%;\n",
              "      cursor: pointer;\n",
              "      display: none;\n",
              "      fill: #1967D2;\n",
              "      height: 32px;\n",
              "      padding: 0 0 0 0;\n",
              "      width: 32px;\n",
              "    }\n",
              "\n",
              "    .colab-df-convert:hover {\n",
              "      background-color: #E2EBFA;\n",
              "      box-shadow: 0px 1px 2px rgba(60, 64, 67, 0.3), 0px 1px 3px 1px rgba(60, 64, 67, 0.15);\n",
              "      fill: #174EA6;\n",
              "    }\n",
              "\n",
              "    [theme=dark] .colab-df-convert {\n",
              "      background-color: #3B4455;\n",
              "      fill: #D2E3FC;\n",
              "    }\n",
              "\n",
              "    [theme=dark] .colab-df-convert:hover {\n",
              "      background-color: #434B5C;\n",
              "      box-shadow: 0px 1px 3px 1px rgba(0, 0, 0, 0.15);\n",
              "      filter: drop-shadow(0px 1px 2px rgba(0, 0, 0, 0.3));\n",
              "      fill: #FFFFFF;\n",
              "    }\n",
              "  </style>\n",
              "\n",
              "      <script>\n",
              "        const buttonEl =\n",
              "          document.querySelector('#df-395b96f9-6aa9-49de-b7cb-e3d88920098b button.colab-df-convert');\n",
              "        buttonEl.style.display =\n",
              "          google.colab.kernel.accessAllowed ? 'block' : 'none';\n",
              "\n",
              "        async function convertToInteractive(key) {\n",
              "          const element = document.querySelector('#df-395b96f9-6aa9-49de-b7cb-e3d88920098b');\n",
              "          const dataTable =\n",
              "            await google.colab.kernel.invokeFunction('convertToInteractive',\n",
              "                                                     [key], {});\n",
              "          if (!dataTable) return;\n",
              "\n",
              "          const docLinkHtml = 'Like what you see? Visit the ' +\n",
              "            '<a target=\"_blank\" href=https://colab.research.google.com/notebooks/data_table.ipynb>data table notebook</a>'\n",
              "            + ' to learn more about interactive tables.';\n",
              "          element.innerHTML = '';\n",
              "          dataTable['output_type'] = 'display_data';\n",
              "          await google.colab.output.renderOutput(dataTable, element);\n",
              "          const docLink = document.createElement('div');\n",
              "          docLink.innerHTML = docLinkHtml;\n",
              "          element.appendChild(docLink);\n",
              "        }\n",
              "      </script>\n",
              "    </div>\n",
              "  </div>\n",
              "  "
            ]
          },
          "metadata": {},
          "execution_count": 48
        }
      ]
    },
    {
      "cell_type": "code",
      "source": [
        "# define a rede neural \n",
        "N_Hidden= 3\n",
        "clf = MLPRegressor(solver='lbfgs',activation='tanh',alpha=1e-5,hidden_layer_sizes=(N_Hidden), \n",
        "                    random_state=1)\n",
        "clf.fit(x_train, y_train)"
      ],
      "metadata": {
        "colab": {
          "base_uri": "https://localhost:8080/"
        },
        "id": "MwWt-NA2hopK",
        "outputId": "c13f41ce-0709-4952-f5eb-92e6cbdd0570"
      },
      "execution_count": 49,
      "outputs": [
        {
          "output_type": "stream",
          "name": "stderr",
          "text": [
            "/usr/local/lib/python3.8/dist-packages/sklearn/neural_network/_multilayer_perceptron.py:1599: DataConversionWarning: A column-vector y was passed when a 1d array was expected. Please change the shape of y to (n_samples, ), for example using ravel().\n",
            "  y = column_or_1d(y, warn=True)\n",
            "/usr/local/lib/python3.8/dist-packages/sklearn/neural_network/_multilayer_perceptron.py:549: ConvergenceWarning: lbfgs failed to converge (status=1):\n",
            "STOP: TOTAL NO. of ITERATIONS REACHED LIMIT.\n",
            "\n",
            "Increase the number of iterations (max_iter) or scale the data as shown in:\n",
            "    https://scikit-learn.org/stable/modules/preprocessing.html\n",
            "  self.n_iter_ = _check_optimize_result(\"lbfgs\", opt_res, self.max_iter)\n"
          ]
        },
        {
          "output_type": "execute_result",
          "data": {
            "text/plain": [
              "MLPRegressor(activation='tanh', alpha=1e-05, hidden_layer_sizes=3,\n",
              "             random_state=1, solver='lbfgs')"
            ]
          },
          "metadata": {},
          "execution_count": 49
        }
      ]
    },
    {
      "cell_type": "code",
      "metadata": {
        "id": "S-ZMrvP9zk0R"
      },
      "source": [
        "# usa a rede neural treina em calculos para treino e teste\n",
        "y_calc_train=clf.predict(x_train)\n",
        "y_calc_test=clf.predict(x_test)"
      ],
      "execution_count": 50,
      "outputs": []
    },
    {
      "cell_type": "code",
      "metadata": {
        "id": "z0k-MXzVzk0V"
      },
      "source": [
        "# transforma a saida da rede em dataframe \n",
        "y_calc_train=pd.DataFrame(y_calc_train)\n",
        "y_calc_test=pd.DataFrame(y_calc_test)"
      ],
      "execution_count": 51,
      "outputs": []
    },
    {
      "cell_type": "code",
      "metadata": {
        "id": "C-1ktMvKzk0Z"
      },
      "source": [
        "# transforma dos dados calculados na forma original (nao normatizado)\n",
        "y_calc_train, y_calc_test = z2val(y_calc_train,yold), z2val(y_calc_test,yold)\n",
        "y_train, y_test = z2val(y_train,yold), z2val(y_test,yold)"
      ],
      "execution_count": 52,
      "outputs": []
    },
    {
      "cell_type": "code",
      "metadata": {
        "id": "qxgAeFwl64Db",
        "colab": {
          "base_uri": "https://localhost:8080/",
          "height": 279
        },
        "outputId": "93ef629e-be9e-439c-c88a-aacf5ffbe0e3"
      },
      "source": [
        "# expressa os dois dados em figura\n",
        "fig = plt.figure()\n",
        "ax1 = fig.add_subplot(111)\n",
        "\n",
        "ax1.scatter(y_test,y_calc_test, s=10, c='b', marker=\"s\", label='teste')\n",
        "ax1.scatter(y_train,y_calc_train, s=10, c='r', marker=\"o\", label='treino')\n",
        "plt.legend(loc='upper left')\n",
        "plt.ylabel('Y ANN')\n",
        "plt.xlabel('Y real')\n",
        "plt.show()"
      ],
      "execution_count": 53,
      "outputs": [
        {
          "output_type": "display_data",
          "data": {
            "text/plain": [
              "<Figure size 432x288 with 1 Axes>"
            ],
            "image/png": "[encoded data removed]"
          },
          "metadata": {
            "needs_background": "light"
          }
        }
      ]
    },
    {
      "cell_type": "code",
      "source": [
        "r2_test= r2_score(y_test,y_calc_test)\n",
        "r2_train = r2_score(y_train,y_calc_train)\n",
        "print('r2 (train)=',r2_train)\n",
        "print('r2 (test)=',r2_test)"
      ],
      "metadata": {
        "id": "lkzcUc2X_T5K",
        "colab": {
          "base_uri": "https://localhost:8080/"
        },
        "outputId": "4837c961-5a83-4630-8be8-72878c71c344"
      },
      "execution_count": 54,
      "outputs": [
        {
          "output_type": "stream",
          "name": "stdout",
          "text": [
            "r2 (train)= 0.9296245371600738\n",
            "r2 (test)= -3.0777277032108277\n"
          ]
        }
      ]
    },
    {
      "cell_type": "code",
      "source": [
        "y_calc_train"
      ],
      "metadata": {
        "colab": {
          "base_uri": "https://localhost:8080/"
        },
        "id": "xAc0bGdFc5hM",
        "outputId": "4cb122a9-2855-420e-8c5c-87fb740fd0f5"
      },
      "execution_count": 55,
      "outputs": [
        {
          "output_type": "execute_result",
          "data": {
            "text/plain": [
              "array([[97.13169363],\n",
              "       [84.4342267 ],\n",
              "       [83.84234382],\n",
              "       [83.82827907],\n",
              "       [83.99828874],\n",
              "       [83.84382638],\n",
              "       [88.39911385],\n",
              "       [98.64602898],\n",
              "       [82.46115009],\n",
              "       [79.27047383],\n",
              "       [88.39911385],\n",
              "       [76.48720386]])"
            ]
          },
          "metadata": {},
          "execution_count": 55
        }
      ]
    },
    {
      "cell_type": "code",
      "source": [
        "y_train"
      ],
      "metadata": {
        "colab": {
          "base_uri": "https://localhost:8080/"
        },
        "id": "H3At8KB5dvzm",
        "outputId": "f94df102-3f2e-4ccb-c775-25a21f47d824"
      },
      "execution_count": 56,
      "outputs": [
        {
          "output_type": "execute_result",
          "data": {
            "text/plain": [
              "array([[97.13125091],\n",
              "       [84.44399852],\n",
              "       [81.37815589],\n",
              "       [88.61196923],\n",
              "       [83.99538493],\n",
              "       [81.48945277],\n",
              "       [87.85252415],\n",
              "       [98.64340863],\n",
              "       [82.46290144],\n",
              "       [79.26377726],\n",
              "       [88.98202584],\n",
              "       [76.48792217]])"
            ]
          },
          "metadata": {},
          "execution_count": 56
        }
      ]
    },
    {
      "cell_type": "code",
      "source": [
        "DAT"
      ],
      "metadata": {
        "colab": {
          "base_uri": "https://localhost:8080/",
          "height": 551
        },
        "id": "lUUmj7mQdCze",
        "outputId": "7726da37-1884-4ed2-abdd-8c805398a99e"
      },
      "execution_count": 57,
      "outputs": [
        {
          "output_type": "execute_result",
          "data": {
            "text/plain": [
              "   Run       SO    IN         GL          Et        Et2        Fi          ST  \\\n",
              "0    1   35.000  15.0   26.416900  12.197000  34.848571  29.52000   28.416900   \n",
              "1    2   35.000  45.0   27.942500  14.641000  41.831429  26.49420   28.942500   \n",
              "2    3  165.000  15.0   86.319500  43.634700  26.445273  58.51030   87.912800   \n",
              "3    4  165.000  45.0   89.062100  43.447100  26.331576  52.49810   90.652100   \n",
              "4    5   25.445  30.0   18.245000   9.740200  38.279426  27.03200   21.245000   \n",
              "5    6  174.500  30.0  114.536100  52.465000  30.065903  49.56220  115.866100   \n",
              "6    7  100.000  12.8   60.953600  26.523600  26.523600  41.31000   62.943800   \n",
              "7    8  100.000  47.2   60.943800  34.969100  34.969100  44.37400   69.373800   \n",
              "8    9  100.000  30.0   59.275200  27.666200  27.666200  52.59800   60.845200   \n",
              "9   10  100.000  30.0   59.740400  27.505900  27.505900  46.95500   61.270400   \n",
              "10  11  100.000  30.0   60.299800  27.370700  27.370700  48.48710   61.729800   \n",
              "11  12   90.000  25.0   70.120600  27.406867  30.452074  41.58440   70.120600   \n",
              "12  13   35.000  20.0   28.011000  11.345517  32.415762  24.91710   28.011000   \n",
              "13  14  150.000  20.0  103.181767  42.966033  28.644022  42.31400  103.181767   \n",
              "14  15  165.000  40.0  112.035800  46.589233  28.235899  44.27333  112.035800   \n",
              "15  PC   35.000  45.0   29.818200  12.866817  36.762333  27.12000   29.818200   \n",
              "\n",
              "           Y1  \n",
              "0   83.995385  \n",
              "1   98.995123  \n",
              "2   97.131251  \n",
              "3   93.791185  \n",
              "4   89.720201  \n",
              "5   88.611969  \n",
              "6   82.462901  \n",
              "7   98.643409  \n",
              "8   88.982026  \n",
              "9   87.852524  \n",
              "10  86.770107  \n",
              "11  76.487922  \n",
              "12  79.263777  \n",
              "13  81.489453  \n",
              "14  81.378156  \n",
              "15  84.443999  "
            ],
            "text/html": [
              "\n",
              "  <div id=\"df-c0651fa7-09fc-4eb7-898d-4a4cdb5b988c\">\n",
              "    <div class=\"colab-df-container\">\n",
              "      <div>\n",
              "<style scoped>\n",
              "    .dataframe tbody tr th:only-of-type {\n",
              "        vertical-align: middle;\n",
              "    }\n",
              "\n",
              "    .dataframe tbody tr th {\n",
              "        vertical-align: top;\n",
              "    }\n",
              "\n",
              "    .dataframe thead th {\n",
              "        text-align: right;\n",
              "    }\n",
              "</style>\n",
              "<table border=\"1\" class=\"dataframe\">\n",
              "  <thead>\n",
              "    <tr style=\"text-align: right;\">\n",
              "      <th></th>\n",
              "      <th>Run</th>\n",
              "      <th>SO</th>\n",
              "      <th>IN</th>\n",
              "      <th>GL</th>\n",
              "      <th>Et</th>\n",
              "      <th>Et2</th>\n",
              "      <th>Fi</th>\n",
              "      <th>ST</th>\n",
              "      <th>Y1</th>\n",
              "    </tr>\n",
              "  </thead>\n",
              "  <tbody>\n",
              "    <tr>\n",
              "      <th>0</th>\n",
              "      <td>1</td>\n",
              "      <td>35.000</td>\n",
              "      <td>15.0</td>\n",
              "      <td>26.416900</td>\n",
              "      <td>12.197000</td>\n",
              "      <td>34.848571</td>\n",
              "      <td>29.52000</td>\n",
              "      <td>28.416900</td>\n",
              "      <td>83.995385</td>\n",
              "    </tr>\n",
              "    <tr>\n",
              "      <th>1</th>\n",
              "      <td>2</td>\n",
              "      <td>35.000</td>\n",
              "      <td>45.0</td>\n",
              "      <td>27.942500</td>\n",
              "      <td>14.641000</td>\n",
              "      <td>41.831429</td>\n",
              "      <td>26.49420</td>\n",
              "      <td>28.942500</td>\n",
              "      <td>98.995123</td>\n",
              "    </tr>\n",
              "    <tr>\n",
              "      <th>2</th>\n",
              "      <td>3</td>\n",
              "      <td>165.000</td>\n",
              "      <td>15.0</td>\n",
              "      <td>86.319500</td>\n",
              "      <td>43.634700</td>\n",
              "      <td>26.445273</td>\n",
              "      <td>58.51030</td>\n",
              "      <td>87.912800</td>\n",
              "      <td>97.131251</td>\n",
              "    </tr>\n",
              "    <tr>\n",
              "      <th>3</th>\n",
              "      <td>4</td>\n",
              "      <td>165.000</td>\n",
              "      <td>45.0</td>\n",
              "      <td>89.062100</td>\n",
              "      <td>43.447100</td>\n",
              "      <td>26.331576</td>\n",
              "      <td>52.49810</td>\n",
              "      <td>90.652100</td>\n",
              "      <td>93.791185</td>\n",
              "    </tr>\n",
              "    <tr>\n",
              "      <th>4</th>\n",
              "      <td>5</td>\n",
              "      <td>25.445</td>\n",
              "      <td>30.0</td>\n",
              "      <td>18.245000</td>\n",
              "      <td>9.740200</td>\n",
              "      <td>38.279426</td>\n",
              "      <td>27.03200</td>\n",
              "      <td>21.245000</td>\n",
              "      <td>89.720201</td>\n",
              "    </tr>\n",
              "    <tr>\n",
              "      <th>5</th>\n",
              "      <td>6</td>\n",
              "      <td>174.500</td>\n",
              "      <td>30.0</td>\n",
              "      <td>114.536100</td>\n",
              "      <td>52.465000</td>\n",
              "      <td>30.065903</td>\n",
              "      <td>49.56220</td>\n",
              "      <td>115.866100</td>\n",
              "      <td>88.611969</td>\n",
              "    </tr>\n",
              "    <tr>\n",
              "      <th>6</th>\n",
              "      <td>7</td>\n",
              "      <td>100.000</td>\n",
              "      <td>12.8</td>\n",
              "      <td>60.953600</td>\n",
              "      <td>26.523600</td>\n",
              "      <td>26.523600</td>\n",
              "      <td>41.31000</td>\n",
              "      <td>62.943800</td>\n",
              "      <td>82.462901</td>\n",
              "    </tr>\n",
              "    <tr>\n",
              "      <th>7</th>\n",
              "      <td>8</td>\n",
              "      <td>100.000</td>\n",
              "      <td>47.2</td>\n",
              "      <td>60.943800</td>\n",
              "      <td>34.969100</td>\n",
              "      <td>34.969100</td>\n",
              "      <td>44.37400</td>\n",
              "      <td>69.373800</td>\n",
              "      <td>98.643409</td>\n",
              "    </tr>\n",
              "    <tr>\n",
              "      <th>8</th>\n",
              "      <td>9</td>\n",
              "      <td>100.000</td>\n",
              "      <td>30.0</td>\n",
              "      <td>59.275200</td>\n",
              "      <td>27.666200</td>\n",
              "      <td>27.666200</td>\n",
              "      <td>52.59800</td>\n",
              "      <td>60.845200</td>\n",
              "      <td>88.982026</td>\n",
              "    </tr>\n",
              "    <tr>\n",
              "      <th>9</th>\n",
              "      <td>10</td>\n",
              "      <td>100.000</td>\n",
              "      <td>30.0</td>\n",
              "      <td>59.740400</td>\n",
              "      <td>27.505900</td>\n",
              "      <td>27.505900</td>\n",
              "      <td>46.95500</td>\n",
              "      <td>61.270400</td>\n",
              "      <td>87.852524</td>\n",
              "    </tr>\n",
              "    <tr>\n",
              "      <th>10</th>\n",
              "      <td>11</td>\n",
              "      <td>100.000</td>\n",
              "      <td>30.0</td>\n",
              "      <td>60.299800</td>\n",
              "      <td>27.370700</td>\n",
              "      <td>27.370700</td>\n",
              "      <td>48.48710</td>\n",
              "      <td>61.729800</td>\n",
              "      <td>86.770107</td>\n",
              "    </tr>\n",
              "    <tr>\n",
              "      <th>11</th>\n",
              "      <td>12</td>\n",
              "      <td>90.000</td>\n",
              "      <td>25.0</td>\n",
              "      <td>70.120600</td>\n",
              "      <td>27.406867</td>\n",
              "      <td>30.452074</td>\n",
              "      <td>41.58440</td>\n",
              "      <td>70.120600</td>\n",
              "      <td>76.487922</td>\n",
              "    </tr>\n",
              "    <tr>\n",
              "      <th>12</th>\n",
              "      <td>13</td>\n",
              "      <td>35.000</td>\n",
              "      <td>20.0</td>\n",
              "      <td>28.011000</td>\n",
              "      <td>11.345517</td>\n",
              "      <td>32.415762</td>\n",
              "      <td>24.91710</td>\n",
              "      <td>28.011000</td>\n",
              "      <td>79.263777</td>\n",
              "    </tr>\n",
              "    <tr>\n",
              "      <th>13</th>\n",
              "      <td>14</td>\n",
              "      <td>150.000</td>\n",
              "      <td>20.0</td>\n",
              "      <td>103.181767</td>\n",
              "      <td>42.966033</td>\n",
              "      <td>28.644022</td>\n",
              "      <td>42.31400</td>\n",
              "      <td>103.181767</td>\n",
              "      <td>81.489453</td>\n",
              "    </tr>\n",
              "    <tr>\n",
              "      <th>14</th>\n",
              "      <td>15</td>\n",
              "      <td>165.000</td>\n",
              "      <td>40.0</td>\n",
              "      <td>112.035800</td>\n",
              "      <td>46.589233</td>\n",
              "      <td>28.235899</td>\n",
              "      <td>44.27333</td>\n",
              "      <td>112.035800</td>\n",
              "      <td>81.378156</td>\n",
              "    </tr>\n",
              "    <tr>\n",
              "      <th>15</th>\n",
              "      <td>PC</td>\n",
              "      <td>35.000</td>\n",
              "      <td>45.0</td>\n",
              "      <td>29.818200</td>\n",
              "      <td>12.866817</td>\n",
              "      <td>36.762333</td>\n",
              "      <td>27.12000</td>\n",
              "      <td>29.818200</td>\n",
              "      <td>84.443999</td>\n",
              "    </tr>\n",
              "  </tbody>\n",
              "</table>\n",
              "</div>\n",
              "      <button class=\"colab-df-convert\" onclick=\"convertToInteractive('df-c0651fa7-09fc-4eb7-898d-4a4cdb5b988c')\"\n",
              "              title=\"Convert this dataframe to an interactive table.\"\n",
              "              style=\"display:none;\">\n",
              "        \n",
              "  <svg xmlns=\"http://www.w3.org/2000/svg\" height=\"24px\"viewBox=\"0 0 24 24\"\n",
              "       width=\"24px\">\n",
              "    <path d=\"M0 0h24v24H0V0z\" fill=\"none\"/>\n",
              "    <path d=\"M18.56 5.44l.94 2.06.94-2.06 2.06-.94-2.06-.94-.94-2.06-.94 2.06-2.06.94zm-11 1L8.5 8.5l.94-2.06 2.06-.94-2.06-.94L8.5 2.5l-.94 2.06-2.06.94zm10 10l.94 2.06.94-2.06 2.06-.94-2.06-.94-.94-2.06-.94 2.06-2.06.94z\"/><path d=\"M17.41 7.96l-1.37-1.37c-.4-.4-.92-.59-1.43-.59-.52 0-1.04.2-1.43.59L10.3 9.45l-7.72 7.72c-.78.78-.78 2.05 0 2.83L4 21.41c.39.39.9.59 1.41.59.51 0 1.02-.2 1.41-.59l7.78-7.78 2.81-2.81c.8-.78.8-2.07 0-2.86zM5.41 20L4 18.59l7.72-7.72 1.47 1.35L5.41 20z\"/>\n",
              "  </svg>\n",
              "      </button>\n",
              "      \n",
              "  <style>\n",
              "    .colab-df-container {\n",
              "      display:flex;\n",
              "      flex-wrap:wrap;\n",
              "      gap: 12px;\n",
              "    }\n",
              "\n",
              "    .colab-df-convert {\n",
              "      background-color: #E8F0FE;\n",
              "      border: none;\n",
              "      border-radius: 50%;\n",
              "      cursor: pointer;\n",
              "      display: none;\n",
              "      fill: #1967D2;\n",
              "      height: 32px;\n",
              "      padding: 0 0 0 0;\n",
              "      width: 32px;\n",
              "    }\n",
              "\n",
              "    .colab-df-convert:hover {\n",
              "      background-color: #E2EBFA;\n",
              "      box-shadow: 0px 1px 2px rgba(60, 64, 67, 0.3), 0px 1px 3px 1px rgba(60, 64, 67, 0.15);\n",
              "      fill: #174EA6;\n",
              "    }\n",
              "\n",
              "    [theme=dark] .colab-df-convert {\n",
              "      background-color: #3B4455;\n",
              "      fill: #D2E3FC;\n",
              "    }\n",
              "\n",
              "    [theme=dark] .colab-df-convert:hover {\n",
              "      background-color: #434B5C;\n",
              "      box-shadow: 0px 1px 3px 1px rgba(0, 0, 0, 0.15);\n",
              "      filter: drop-shadow(0px 1px 2px rgba(0, 0, 0, 0.3));\n",
              "      fill: #FFFFFF;\n",
              "    }\n",
              "  </style>\n",
              "\n",
              "      <script>\n",
              "        const buttonEl =\n",
              "          document.querySelector('#df-c0651fa7-09fc-4eb7-898d-4a4cdb5b988c button.colab-df-convert');\n",
              "        buttonEl.style.display =\n",
              "          google.colab.kernel.accessAllowed ? 'block' : 'none';\n",
              "\n",
              "        async function convertToInteractive(key) {\n",
              "          const element = document.querySelector('#df-c0651fa7-09fc-4eb7-898d-4a4cdb5b988c');\n",
              "          const dataTable =\n",
              "            await google.colab.kernel.invokeFunction('convertToInteractive',\n",
              "                                                     [key], {});\n",
              "          if (!dataTable) return;\n",
              "\n",
              "          const docLinkHtml = 'Like what you see? Visit the ' +\n",
              "            '<a target=\"_blank\" href=https://colab.research.google.com/notebooks/data_table.ipynb>data table notebook</a>'\n",
              "            + ' to learn more about interactive tables.';\n",
              "          element.innerHTML = '';\n",
              "          dataTable['output_type'] = 'display_data';\n",
              "          await google.colab.output.renderOutput(dataTable, element);\n",
              "          const docLink = document.createElement('div');\n",
              "          docLink.innerHTML = docLinkHtml;\n",
              "          element.appendChild(docLink);\n",
              "        }\n",
              "      </script>\n",
              "    </div>\n",
              "  </div>\n",
              "  "
            ]
          },
          "metadata": {},
          "execution_count": 57
        }
      ]
    },
    {
      "cell_type": "code",
      "metadata": {
        "id": "ffcIWpGGzk0j"
      },
      "source": [
        "def function(x, clf=clf):\n",
        "  n = len(x)\n",
        "  x=x.reshape((1, n))\n",
        "  df = pd.DataFrame(x)\n",
        "  Y=clf.predict(df)\n",
        "  fun=Y*(-1)\n",
        "  return fun\n"
      ],
      "execution_count": 58,
      "outputs": []
    },
    {
      "cell_type": "code",
      "metadata": {
        "id": "hUwDOiuTzk0p"
      },
      "source": [
        "nrows,ncols= x_train.shape\n",
        "bounds = [(-1,1)]*ncols\n",
        "Condicoes = optimize.differential_evolution(function,bounds,\n",
        "                                      init=\"latinhypercube\", # obs: init=\"random\"\n",
        "                                      maxiter=100, popsize=50,recombination=0.5)\n"
      ],
      "execution_count": 59,
      "outputs": []
    },
    {
      "cell_type": "code",
      "source": [
        "n = len(bounds)\n",
        "Condicoes=pd.DataFrame(Condicoes.x.reshape(1, n))\n",
        "Condicoes= z2val(Condicoes,xold)\n",
        "resp = pd.DataFrame(Condicoes,columns=Col_Indep)\n",
        "print(resp)\n",
        "Y=clf.predict(Condicoes).reshape(-1,1)\n",
        "Y =  z2val(Y,yold)\n",
        "print(Y)"
      ],
      "metadata": {
        "id": "w5XI1BFm04nX",
        "colab": {
          "base_uri": "https://localhost:8080/"
        },
        "outputId": "3d72bc23-1813-4445-f5c5-0eb9494d068e"
      },
      "execution_count": 60,
      "outputs": [
        {
          "output_type": "stream",
          "name": "stdout",
          "text": [
            "          SO         IN\n",
            "0  68.458405  41.296238\n",
            "[[83.82508537]]\n"
          ]
        }
      ]
    },
    {
      "cell_type": "code",
      "source": [
        "# separa as colunas de interesse\n",
        "x_train, y_train = DAT[Col_Indep],DAT[names]\n",
        "x_train, y_train = zscore(x_train,xold), zscore(y_train,yold)"
      ],
      "metadata": {
        "id": "xGiIQcHNRl98"
      },
      "execution_count": 61,
      "outputs": []
    },
    {
      "cell_type": "code",
      "source": [
        "df = optmANN(x_train,x_train,y_train,y_train)\n",
        "df"
      ],
      "metadata": {
        "id": "YhjkTEEaSLpE",
        "outputId": "19a2dbfb-b3b0-45ab-b1f0-5739810d0494",
        "colab": {
          "base_uri": "https://localhost:8080/",
          "height": 994
        }
      },
      "execution_count": 62,
      "outputs": [
        {
          "output_type": "stream",
          "name": "stderr",
          "text": [
            "/usr/local/lib/python3.8/dist-packages/sklearn/neural_network/_multilayer_perceptron.py:1599: DataConversionWarning: A column-vector y was passed when a 1d array was expected. Please change the shape of y to (n_samples, ), for example using ravel().\n",
            "  y = column_or_1d(y, warn=True)\n",
            "/usr/local/lib/python3.8/dist-packages/sklearn/neural_network/_multilayer_perceptron.py:1599: DataConversionWarning: A column-vector y was passed when a 1d array was expected. Please change the shape of y to (n_samples, ), for example using ravel().\n",
            "  y = column_or_1d(y, warn=True)\n",
            "/usr/local/lib/python3.8/dist-packages/sklearn/neural_network/_multilayer_perceptron.py:1599: DataConversionWarning: A column-vector y was passed when a 1d array was expected. Please change the shape of y to (n_samples, ), for example using ravel().\n",
            "  y = column_or_1d(y, warn=True)\n",
            "/usr/local/lib/python3.8/dist-packages/sklearn/neural_network/_multilayer_perceptron.py:1599: DataConversionWarning: A column-vector y was passed when a 1d array was expected. Please change the shape of y to (n_samples, ), for example using ravel().\n",
            "  y = column_or_1d(y, warn=True)\n",
            "/usr/local/lib/python3.8/dist-packages/sklearn/neural_network/_multilayer_perceptron.py:1599: DataConversionWarning: A column-vector y was passed when a 1d array was expected. Please change the shape of y to (n_samples, ), for example using ravel().\n",
            "  y = column_or_1d(y, warn=True)\n",
            "/usr/local/lib/python3.8/dist-packages/sklearn/neural_network/_multilayer_perceptron.py:1599: DataConversionWarning: A column-vector y was passed when a 1d array was expected. Please change the shape of y to (n_samples, ), for example using ravel().\n",
            "  y = column_or_1d(y, warn=True)\n",
            "/usr/local/lib/python3.8/dist-packages/sklearn/neural_network/_multilayer_perceptron.py:1599: DataConversionWarning: A column-vector y was passed when a 1d array was expected. Please change the shape of y to (n_samples, ), for example using ravel().\n",
            "  y = column_or_1d(y, warn=True)\n",
            "/usr/local/lib/python3.8/dist-packages/sklearn/neural_network/_multilayer_perceptron.py:1599: DataConversionWarning: A column-vector y was passed when a 1d array was expected. Please change the shape of y to (n_samples, ), for example using ravel().\n",
            "  y = column_or_1d(y, warn=True)\n",
            "/usr/local/lib/python3.8/dist-packages/sklearn/neural_network/_multilayer_perceptron.py:1599: DataConversionWarning: A column-vector y was passed when a 1d array was expected. Please change the shape of y to (n_samples, ), for example using ravel().\n",
            "  y = column_or_1d(y, warn=True)\n",
            "/usr/local/lib/python3.8/dist-packages/sklearn/neural_network/_multilayer_perceptron.py:1599: DataConversionWarning: A column-vector y was passed when a 1d array was expected. Please change the shape of y to (n_samples, ), for example using ravel().\n",
            "  y = column_or_1d(y, warn=True)\n",
            "/usr/local/lib/python3.8/dist-packages/sklearn/neural_network/_multilayer_perceptron.py:1599: DataConversionWarning: A column-vector y was passed when a 1d array was expected. Please change the shape of y to (n_samples, ), for example using ravel().\n",
            "  y = column_or_1d(y, warn=True)\n",
            "/usr/local/lib/python3.8/dist-packages/sklearn/neural_network/_multilayer_perceptron.py:1599: DataConversionWarning: A column-vector y was passed when a 1d array was expected. Please change the shape of y to (n_samples, ), for example using ravel().\n",
            "  y = column_or_1d(y, warn=True)\n",
            "/usr/local/lib/python3.8/dist-packages/sklearn/neural_network/_multilayer_perceptron.py:1599: DataConversionWarning: A column-vector y was passed when a 1d array was expected. Please change the shape of y to (n_samples, ), for example using ravel().\n",
            "  y = column_or_1d(y, warn=True)\n",
            "/usr/local/lib/python3.8/dist-packages/sklearn/neural_network/_multilayer_perceptron.py:1599: DataConversionWarning: A column-vector y was passed when a 1d array was expected. Please change the shape of y to (n_samples, ), for example using ravel().\n",
            "  y = column_or_1d(y, warn=True)\n"
          ]
        },
        {
          "output_type": "execute_result",
          "data": {
            "text/plain": [
              "    hidden  r2 train   r2 test\n",
              "0        1  0.268956  0.268956\n",
              "1        2  0.436845  0.436845\n",
              "2        3  0.595935  0.595935\n",
              "3        4  0.810427  0.810427\n",
              "4        5  0.798114  0.798114\n",
              "5        6  0.846878  0.846878\n",
              "6        7  0.846878  0.846878\n",
              "7        8  0.810765  0.810765\n",
              "8        9  0.846878  0.846878\n",
              "9       10  0.846878  0.846878\n",
              "10      11  0.846878  0.846878\n",
              "11      12  0.846878  0.846878\n",
              "12      13  0.846877  0.846877\n",
              "13      14  0.846878  0.846878"
            ],
            "text/html": [
              "\n",
              "  <div id=\"df-73c1929c-3596-453a-9af0-591239c7312e\">\n",
              "    <div class=\"colab-df-container\">\n",
              "      <div>\n",
              "<style scoped>\n",
              "    .dataframe tbody tr th:only-of-type {\n",
              "        vertical-align: middle;\n",
              "    }\n",
              "\n",
              "    .dataframe tbody tr th {\n",
              "        vertical-align: top;\n",
              "    }\n",
              "\n",
              "    .dataframe thead th {\n",
              "        text-align: right;\n",
              "    }\n",
              "</style>\n",
              "<table border=\"1\" class=\"dataframe\">\n",
              "  <thead>\n",
              "    <tr style=\"text-align: right;\">\n",
              "      <th></th>\n",
              "      <th>hidden</th>\n",
              "      <th>r2 train</th>\n",
              "      <th>r2 test</th>\n",
              "    </tr>\n",
              "  </thead>\n",
              "  <tbody>\n",
              "    <tr>\n",
              "      <th>0</th>\n",
              "      <td>1</td>\n",
              "      <td>0.268956</td>\n",
              "      <td>0.268956</td>\n",
              "    </tr>\n",
              "    <tr>\n",
              "      <th>1</th>\n",
              "      <td>2</td>\n",
              "      <td>0.436845</td>\n",
              "      <td>0.436845</td>\n",
              "    </tr>\n",
              "    <tr>\n",
              "      <th>2</th>\n",
              "      <td>3</td>\n",
              "      <td>0.595935</td>\n",
              "      <td>0.595935</td>\n",
              "    </tr>\n",
              "    <tr>\n",
              "      <th>3</th>\n",
              "      <td>4</td>\n",
              "      <td>0.810427</td>\n",
              "      <td>0.810427</td>\n",
              "    </tr>\n",
              "    <tr>\n",
              "      <th>4</th>\n",
              "      <td>5</td>\n",
              "      <td>0.798114</td>\n",
              "      <td>0.798114</td>\n",
              "    </tr>\n",
              "    <tr>\n",
              "      <th>5</th>\n",
              "      <td>6</td>\n",
              "      <td>0.846878</td>\n",
              "      <td>0.846878</td>\n",
              "    </tr>\n",
              "    <tr>\n",
              "      <th>6</th>\n",
              "      <td>7</td>\n",
              "      <td>0.846878</td>\n",
              "      <td>0.846878</td>\n",
              "    </tr>\n",
              "    <tr>\n",
              "      <th>7</th>\n",
              "      <td>8</td>\n",
              "      <td>0.810765</td>\n",
              "      <td>0.810765</td>\n",
              "    </tr>\n",
              "    <tr>\n",
              "      <th>8</th>\n",
              "      <td>9</td>\n",
              "      <td>0.846878</td>\n",
              "      <td>0.846878</td>\n",
              "    </tr>\n",
              "    <tr>\n",
              "      <th>9</th>\n",
              "      <td>10</td>\n",
              "      <td>0.846878</td>\n",
              "      <td>0.846878</td>\n",
              "    </tr>\n",
              "    <tr>\n",
              "      <th>10</th>\n",
              "      <td>11</td>\n",
              "      <td>0.846878</td>\n",
              "      <td>0.846878</td>\n",
              "    </tr>\n",
              "    <tr>\n",
              "      <th>11</th>\n",
              "      <td>12</td>\n",
              "      <td>0.846878</td>\n",
              "      <td>0.846878</td>\n",
              "    </tr>\n",
              "    <tr>\n",
              "      <th>12</th>\n",
              "      <td>13</td>\n",
              "      <td>0.846877</td>\n",
              "      <td>0.846877</td>\n",
              "    </tr>\n",
              "    <tr>\n",
              "      <th>13</th>\n",
              "      <td>14</td>\n",
              "      <td>0.846878</td>\n",
              "      <td>0.846878</td>\n",
              "    </tr>\n",
              "  </tbody>\n",
              "</table>\n",
              "</div>\n",
              "      <button class=\"colab-df-convert\" onclick=\"convertToInteractive('df-73c1929c-3596-453a-9af0-591239c7312e')\"\n",
              "              title=\"Convert this dataframe to an interactive table.\"\n",
              "              style=\"display:none;\">\n",
              "        \n",
              "  <svg xmlns=\"http://www.w3.org/2000/svg\" height=\"24px\"viewBox=\"0 0 24 24\"\n",
              "       width=\"24px\">\n",
              "    <path d=\"M0 0h24v24H0V0z\" fill=\"none\"/>\n",
              "    <path d=\"M18.56 5.44l.94 2.06.94-2.06 2.06-.94-2.06-.94-.94-2.06-.94 2.06-2.06.94zm-11 1L8.5 8.5l.94-2.06 2.06-.94-2.06-.94L8.5 2.5l-.94 2.06-2.06.94zm10 10l.94 2.06.94-2.06 2.06-.94-2.06-.94-.94-2.06-.94 2.06-2.06.94z\"/><path d=\"M17.41 7.96l-1.37-1.37c-.4-.4-.92-.59-1.43-.59-.52 0-1.04.2-1.43.59L10.3 9.45l-7.72 7.72c-.78.78-.78 2.05 0 2.83L4 21.41c.39.39.9.59 1.41.59.51 0 1.02-.2 1.41-.59l7.78-7.78 2.81-2.81c.8-.78.8-2.07 0-2.86zM5.41 20L4 18.59l7.72-7.72 1.47 1.35L5.41 20z\"/>\n",
              "  </svg>\n",
              "      </button>\n",
              "      \n",
              "  <style>\n",
              "    .colab-df-container {\n",
              "      display:flex;\n",
              "      flex-wrap:wrap;\n",
              "      gap: 12px;\n",
              "    }\n",
              "\n",
              "    .colab-df-convert {\n",
              "      background-color: #E8F0FE;\n",
              "      border: none;\n",
              "      border-radius: 50%;\n",
              "      cursor: pointer;\n",
              "      display: none;\n",
              "      fill: #1967D2;\n",
              "      height: 32px;\n",
              "      padding: 0 0 0 0;\n",
              "      width: 32px;\n",
              "    }\n",
              "\n",
              "    .colab-df-convert:hover {\n",
              "      background-color: #E2EBFA;\n",
              "      box-shadow: 0px 1px 2px rgba(60, 64, 67, 0.3), 0px 1px 3px 1px rgba(60, 64, 67, 0.15);\n",
              "      fill: #174EA6;\n",
              "    }\n",
              "\n",
              "    [theme=dark] .colab-df-convert {\n",
              "      background-color: #3B4455;\n",
              "      fill: #D2E3FC;\n",
              "    }\n",
              "\n",
              "    [theme=dark] .colab-df-convert:hover {\n",
              "      background-color: #434B5C;\n",
              "      box-shadow: 0px 1px 3px 1px rgba(0, 0, 0, 0.15);\n",
              "      filter: drop-shadow(0px 1px 2px rgba(0, 0, 0, 0.3));\n",
              "      fill: #FFFFFF;\n",
              "    }\n",
              "  </style>\n",
              "\n",
              "      <script>\n",
              "        const buttonEl =\n",
              "          document.querySelector('#df-73c1929c-3596-453a-9af0-591239c7312e button.colab-df-convert');\n",
              "        buttonEl.style.display =\n",
              "          google.colab.kernel.accessAllowed ? 'block' : 'none';\n",
              "\n",
              "        async function convertToInteractive(key) {\n",
              "          const element = document.querySelector('#df-73c1929c-3596-453a-9af0-591239c7312e');\n",
              "          const dataTable =\n",
              "            await google.colab.kernel.invokeFunction('convertToInteractive',\n",
              "                                                     [key], {});\n",
              "          if (!dataTable) return;\n",
              "\n",
              "          const docLinkHtml = 'Like what you see? Visit the ' +\n",
              "            '<a target=\"_blank\" href=https://colab.research.google.com/notebooks/data_table.ipynb>data table notebook</a>'\n",
              "            + ' to learn more about interactive tables.';\n",
              "          element.innerHTML = '';\n",
              "          dataTable['output_type'] = 'display_data';\n",
              "          await google.colab.output.renderOutput(dataTable, element);\n",
              "          const docLink = document.createElement('div');\n",
              "          docLink.innerHTML = docLinkHtml;\n",
              "          element.appendChild(docLink);\n",
              "        }\n",
              "      </script>\n",
              "    </div>\n",
              "  </div>\n",
              "  "
            ]
          },
          "metadata": {},
          "execution_count": 62
        }
      ]
    },
    {
      "cell_type": "code",
      "source": [
        "# define a rede neural \n",
        "N_Hidden= 3\n",
        "clf = MLPRegressor(solver='lbfgs',activation='tanh',alpha=1e-5,hidden_layer_sizes=(N_Hidden), \n",
        "                    random_state=1)\n",
        "clf.fit(x_train, y_train)"
      ],
      "metadata": {
        "id": "HOM-6ctSTK_N",
        "outputId": "56e71733-37aa-43e9-f0a8-a471cbaed1c9",
        "colab": {
          "base_uri": "https://localhost:8080/"
        }
      },
      "execution_count": 63,
      "outputs": [
        {
          "output_type": "stream",
          "name": "stderr",
          "text": [
            "/usr/local/lib/python3.8/dist-packages/sklearn/neural_network/_multilayer_perceptron.py:1599: DataConversionWarning: A column-vector y was passed when a 1d array was expected. Please change the shape of y to (n_samples, ), for example using ravel().\n",
            "  y = column_or_1d(y, warn=True)\n"
          ]
        },
        {
          "output_type": "execute_result",
          "data": {
            "text/plain": [
              "MLPRegressor(activation='tanh', alpha=1e-05, hidden_layer_sizes=3,\n",
              "             random_state=1, solver='lbfgs')"
            ]
          },
          "metadata": {},
          "execution_count": 63
        }
      ]
    },
    {
      "cell_type": "code",
      "source": [
        "def function(x, clf=clf):\n",
        "  n = len(x)\n",
        "  x=x.reshape((1, n))\n",
        "  df = pd.DataFrame(x)\n",
        "  Y=clf.predict(df)\n",
        "  fun=Y*(-1)\n",
        "  return fun\n"
      ],
      "metadata": {
        "id": "DoDV64E1TXtK"
      },
      "execution_count": 64,
      "outputs": []
    },
    {
      "cell_type": "code",
      "source": [
        "nrows,ncols= x_train.shape\n",
        "bounds = [(-1,1)]*ncols\n",
        "Condicoes = optimize.differential_evolution(function,bounds,\n",
        "                                      init=\"latinhypercube\", # obs: init=\"random\"\n",
        "                                      maxiter=100, popsize=50,recombination=0.5)"
      ],
      "metadata": {
        "id": "FHofUkpATTKM"
      },
      "execution_count": 65,
      "outputs": []
    },
    {
      "cell_type": "code",
      "source": [
        "n = len(bounds)\n",
        "Condicoes=pd.DataFrame(Condicoes.x.reshape(1, n))\n",
        "Y=clf.predict(Condicoes).reshape(-1,1)\n",
        "\n",
        "Condicoes= z2val(Condicoes,xold)\n",
        "resp = pd.DataFrame(Condicoes,columns=Col_Indep)\n",
        "print(resp)\n",
        "Y =  z2val(Y,yold)\n",
        "print(Y)"
      ],
      "metadata": {
        "id": "0FrR05prTcPj",
        "outputId": "df7a3da0-ee63-4f88-f1b1-aa17fdbd26f2",
        "colab": {
          "base_uri": "https://localhost:8080/"
        }
      },
      "execution_count": 66,
      "outputs": [
        {
          "output_type": "stream",
          "name": "stdout",
          "text": [
            "         SO         IN\n",
            "0  92.26863  41.296238\n",
            "[[99.24511821]]\n"
          ]
        }
      ]
    }
  ]
}