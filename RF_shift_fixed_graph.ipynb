{
  "nbformat": 4,
  "nbformat_minor": 0,
  "metadata": {
    "colab": {
      "provenance": [],
      "include_colab_link": true
    },
    "kernelspec": {
      "name": "python3",
      "display_name": "Python 3"
    },
    "language_info": {
      "name": "python"
    }
  },
  "cells": [
    {
      "cell_type": "markdown",
      "metadata": {
        "id": "view-in-github",
        "colab_type": "text"
      },
      "source": [
        "<a href=\"https://colab.research.google.com/github/ucfilho/Doubts_Students/blob/master/RF_shift_fixed_graph.ipynb\" target=\"_parent\"><img src=\"https://colab.research.google.com/assets/colab-badge.svg\" alt=\"Open In Colab\"/></a>"
      ]
    },
    {
      "cell_type": "code",
      "metadata": {
        "id": "G6_52vHnr34h"
      },
      "source": [
        "import pandas as pd\n",
        "import numpy as np\n",
        "from google.colab import files\n",
        "import matplotlib.pyplot as plt\n",
        "from sklearn.model_selection import train_test_split\n",
        "from sklearn.preprocessing import MinMaxScaler\n",
        "from sklearn.metrics import mean_squared_error\n",
        "from sklearn.metrics import r2_score\n",
        "import matplotlib.pyplot as plt"
      ],
      "execution_count": 1,
      "outputs": []
    },
    {
      "cell_type": "code",
      "metadata": {
        "id": "d7MsJQI2mdaz"
      },
      "source": [
        "from keras.models import Sequential\n",
        "from keras.layers import Dense\n",
        "from keras.layers import LSTM\n",
        "from sklearn.ensemble import RandomForestRegressor"
      ],
      "execution_count": 2,
      "outputs": []
    },
    {
      "cell_type": "code",
      "metadata": {
        "colab": {
          "base_uri": "https://localhost:8080/"
        },
        "id": "HOWF51hxrhhP",
        "outputId": "40d61e75-897e-43cd-d3ea-92ce45eda89a"
      },
      "source": [
        "!git clone https://github.com/ucfilho/Machine_Learning_DataSet\n",
        "%cd Machine_Learning_DataSet"
      ],
      "execution_count": 3,
      "outputs": [
        {
          "output_type": "stream",
          "name": "stdout",
          "text": [
            "fatal: destination path 'Machine_Learning_DataSet' already exists and is not an empty directory.\n",
            "/content/Machine_Learning_DataSet\n"
          ]
        }
      ]
    },
    {
      "cell_type": "code",
      "metadata": {
        "colab": {
          "base_uri": "https://localhost:8080/"
        },
        "id": "j6Lc6V7EroT-",
        "outputId": "79a0ee1c-4165-4c93-ff06-997ff8876d98"
      },
      "source": [
        "# df = pd.read_csv(\"Superstore.csv\", encoding='windows-1252')\n",
        "df = pd.read_csv(\"dados_precipitacao_teste.csv\")\n",
        "print(df.head(3)) # shows headers with top 3 rows"
      ],
      "execution_count": 4,
      "outputs": [
        {
          "output_type": "stream",
          "name": "stdout",
          "text": [
            "         data  Ent62_SSTtSSA  1_SF  2_SF  3_SF  4_SF      5_SF      7_SF  \\\n",
            "0  2022-11-03       7.454262   0.0   0.0   0.0   0.0  0.000000  0.266250   \n",
            "1  2022-11-04       6.578652   0.0   0.0   0.0   0.0  0.000000  0.234375   \n",
            "2  2022-11-05      12.633390   0.0   0.0   0.0   0.0  0.017083  0.254792   \n",
            "\n",
            "       8_SF      9_SF  ...  Sai62_BalPop  Sai63_BalPop  EntCresc_BalPop  \\\n",
            "0  0.513333  0.807500  ...  7.257745e+14  8.463053e+14     1.572063e+15   \n",
            "1  0.492917  0.791875  ...  5.409959e+14  7.163564e+14     1.257348e+15   \n",
            "2  0.454167  0.677708  ...  7.171353e+14  7.372483e+14     1.454377e+15   \n",
            "\n",
            "      SG_BalPop  SaiCresc_BalPop    End_BalPop  44_Hidrato  \\\n",
            "0  3.535153e+14     1.909924e+15  1.114866e+15    1.483333   \n",
            "1  5.563443e+14     1.814094e+15  1.709214e+15    2.070000   \n",
            "2  3.163980e+14     1.771134e+15  1.224233e+15    2.153333   \n",
            "\n",
            "   DensAparente_Alumina  25_44_SF  25_44_SF_2  \n",
            "0                 936.0  0.146731    0.021530  \n",
            "1                 940.0  0.166737    0.027801  \n",
            "2                 940.0  0.152118    0.023140  \n",
            "\n",
            "[3 rows x 242 columns]\n"
          ]
        }
      ]
    },
    {
      "cell_type": "code",
      "source": [
        "time = df['data'].values\n",
        "X = df.drop(['data','25_44_SF'],axis=1)\n",
        "#X.index = time\n",
        "y = df[['25_44_SF']]\n",
        "nomes = ['25_44_SF']\n",
        "y.index = time\n",
        "P = 7 # numero de periodos para tras (trocar pelo desejado)\n",
        "y_new = {}\n",
        "y_new[nomes[0]]=y.values\n",
        "for i in range(P):\n",
        "  w = '25_44_SF' + str(i+1)\n",
        "  nomes.append(w)\n",
        "  y_new[w]= y.shift(i+1).values\n"
      ],
      "metadata": {
        "id": "xblzDUwte_cZ"
      },
      "execution_count": 5,
      "outputs": []
    },
    {
      "cell_type": "code",
      "source": [
        "dic_ ={}\n",
        "for i in range(P):\n",
        "  dic_[nomes[i]] = list(y_new[nomes[i]].reshape(-1))\n",
        "\n",
        "y = pd.DataFrame(dic_)\n",
        "#y = np.array(y)"
      ],
      "metadata": {
        "id": "cAW8sTCCdd-E"
      },
      "execution_count": 6,
      "outputs": []
    },
    {
      "cell_type": "code",
      "source": [
        "rows, cols = X.shape\n",
        "X=X.iloc[P:rows,:].copy().reset_index()\n",
        "y= y.iloc[P:rows,:].copy().reset_index()"
      ],
      "metadata": {
        "id": "2bLt9vanm-WG"
      },
      "execution_count": 7,
      "outputs": []
    },
    {
      "cell_type": "code",
      "metadata": {
        "id": "mbvaQKvuEWTQ"
      },
      "source": [
        "rows, cols = X.shape\n",
        "ntrain = int(rows*0.8)\n",
        "X_train=X.iloc[0:ntrain,:].copy()\n",
        "y_train= y.iloc[0:ntrain,:].copy()\n",
        "X_test=X.drop(X_train.index)\n",
        "y_test=y.drop(y_train.index)\n",
        "y_train = np.array(y_train)\n",
        "y_test = np.array(y_test)"
      ],
      "execution_count": 8,
      "outputs": []
    },
    {
      "cell_type": "code",
      "source": [
        "y_train"
      ],
      "metadata": {
        "id": "O644Rwp1jfz2",
        "outputId": "81d3a952-43dd-4d7a-865c-2e226359733e",
        "colab": {
          "base_uri": "https://localhost:8080/"
        }
      },
      "execution_count": 9,
      "outputs": [
        {
          "output_type": "execute_result",
          "data": {
            "text/plain": [
              "array([[7.00000000e+00, 2.12468871e-01, 2.63493341e-01, ...,\n",
              "        2.32127695e-01, 1.52118151e-01, 1.66737013e-01],\n",
              "       [8.00000000e+00, 2.52638580e-01, 2.12468871e-01, ...,\n",
              "        2.44579106e-01, 2.32127695e-01, 1.52118151e-01],\n",
              "       [9.00000000e+00, 2.52495541e-01, 2.52638580e-01, ...,\n",
              "        2.73297257e-01, 2.44579106e-01, 2.32127695e-01],\n",
              "       ...,\n",
              "       [2.13000000e+02, 2.67734090e-01, 2.52341143e-01, ...,\n",
              "        2.16623142e-01, 2.30820108e-01, 2.42358354e-01],\n",
              "       [2.14000000e+02, 2.52527948e-01, 2.67734090e-01, ...,\n",
              "        2.23772625e-01, 2.16623142e-01, 2.30820108e-01],\n",
              "       [2.15000000e+02, 3.29259326e-01, 2.52527948e-01, ...,\n",
              "        2.38396957e-01, 2.23772625e-01, 2.16623142e-01]])"
            ]
          },
          "metadata": {},
          "execution_count": 9
        }
      ]
    },
    {
      "cell_type": "code",
      "source": [
        "variaveis = X.columns"
      ],
      "metadata": {
        "id": "TRKwGU4foofP"
      },
      "execution_count": 10,
      "outputs": []
    },
    {
      "cell_type": "code",
      "source": [
        "X_train.shape # voce tem 241 variaveis: é muita coisa so tem 209 linhas"
      ],
      "metadata": {
        "colab": {
          "base_uri": "https://localhost:8080/"
        },
        "id": "Kk0TBRywuxx4",
        "outputId": "18e6ceb9-3764-488a-bfdf-8a901fe4eb36"
      },
      "execution_count": 11,
      "outputs": [
        {
          "output_type": "execute_result",
          "data": {
            "text/plain": [
              "(209, 241)"
            ]
          },
          "metadata": {},
          "execution_count": 11
        }
      ]
    },
    {
      "cell_type": "code",
      "metadata": {
        "id": "B6N5k_BVCdri"
      },
      "source": [
        "#, X_test, y_train, y_test = train_test_split(X, y, test_size=0.2, random_state=101)\n",
        "#X_train\n",
        "scalerX = MinMaxScaler()\n",
        "scalerY = MinMaxScaler()\n",
        "scalerX.fit(X_train)\n",
        "scalerY.fit(y_train)\n",
        "X_train = scalerX.transform(X_train)\n",
        "X_test = scalerX.transform(X_test)\n",
        "y_train= scalerY.transform(y_train)\n",
        "y_test= scalerY.transform(y_test)"
      ],
      "execution_count": 12,
      "outputs": []
    },
    {
      "cell_type": "code",
      "source": [
        "model= RandomForestRegressor()\n",
        "model.fit(X_train, y_train)\n",
        "y_pred = model.predict(X_test)\n",
        "rows,cols = y_test.shape\n",
        "dic_02 = {}\n",
        "for j in range(cols):\n",
        "  print(r2_score(y_test[:,j], y_pred[:,j]))\n",
        "  dic_02[nomes[j]] = r2_score(y_test[:,j], y_pred[:,j])"
      ],
      "metadata": {
        "id": "IrV2MvXZhmKG",
        "outputId": "51741b28-0377-403a-eefb-39a681aa9f9e",
        "colab": {
          "base_uri": "https://localhost:8080/"
        }
      },
      "execution_count": 13,
      "outputs": [
        {
          "output_type": "stream",
          "name": "stdout",
          "text": [
            "-17.14945689404933\n",
            "0.5120586904074842\n",
            "0.32235813597521135\n",
            "0.2767350694724744\n",
            "0.20312156201536335\n",
            "0.10560249577772585\n",
            "0.09354884205684488\n",
            "0.12106267259800207\n"
          ]
        }
      ]
    },
    {
      "cell_type": "code",
      "source": [
        "pd.Series(dic_02)"
      ],
      "metadata": {
        "colab": {
          "base_uri": "https://localhost:8080/"
        },
        "id": "6HvBARa6pdxm",
        "outputId": "05c67c35-17b6-4270-de91-a3a5b3120147"
      },
      "execution_count": 14,
      "outputs": [
        {
          "output_type": "execute_result",
          "data": {
            "text/plain": [
              "25_44_SF    -17.149457\n",
              "25_44_SF1     0.512059\n",
              "25_44_SF2     0.322358\n",
              "25_44_SF3     0.276735\n",
              "25_44_SF4     0.203122\n",
              "25_44_SF5     0.105602\n",
              "25_44_SF6     0.093549\n",
              "25_44_SF7     0.121063\n",
              "dtype: float64"
            ]
          },
          "metadata": {},
          "execution_count": 14
        }
      ]
    },
    {
      "cell_type": "code",
      "source": [
        "y_test.shape"
      ],
      "metadata": {
        "id": "pandKG7QjyPI",
        "colab": {
          "base_uri": "https://localhost:8080/"
        },
        "outputId": "13d84cbd-adde-44cd-f908-95f17d62b97f"
      },
      "execution_count": 15,
      "outputs": [
        {
          "output_type": "execute_result",
          "data": {
            "text/plain": [
              "(53, 8)"
            ]
          },
          "metadata": {},
          "execution_count": 15
        }
      ]
    },
    {
      "cell_type": "code",
      "source": [
        "importances = list(model.feature_importances_)\n",
        "#print(importances)\n",
        "dic_03 = {}\n",
        "k = 0\n",
        "for w in importances:\n",
        "  dic_03[variaveis[k]] = w\n",
        "  k += 1\n"
      ],
      "metadata": {
        "id": "dE-ywCfJhr7O"
      },
      "execution_count": 16,
      "outputs": []
    },
    {
      "cell_type": "code",
      "source": [
        "df1 = pd.Series(dic_03).sort_values(ascending=False)"
      ],
      "metadata": {
        "id": "3FoZ_If-pvSV"
      },
      "execution_count": 17,
      "outputs": []
    },
    {
      "cell_type": "code",
      "source": [
        "df1.head(10)"
      ],
      "metadata": {
        "colab": {
          "base_uri": "https://localhost:8080/"
        },
        "id": "LGsuByP1rpQ1",
        "outputId": "aa687a72-b6f5-48e3-e184-07b9889f1b27"
      },
      "execution_count": 18,
      "outputs": [
        {
          "output_type": "execute_result",
          "data": {
            "text/plain": [
              "index              0.284019\n",
              "Sai63_BalPop       0.077148\n",
              "25_44_SF_2         0.072885\n",
              "30.2_SF            0.011975\n",
              "End_BalPop         0.011932\n",
              "Aglom63_BalPop     0.010967\n",
              "HXTQ81I_Q          0.008508\n",
              "34.7_SF            0.007985\n",
              "25_SF              0.007750\n",
              "SaiCresc_BalPop    0.007324\n",
              "dtype: float64"
            ]
          },
          "metadata": {},
          "execution_count": 18
        }
      ]
    },
    {
      "cell_type": "code",
      "source": [
        "y_test = pd.DataFrame(y_test)\n",
        "y_pred = pd.DataFrame(y_pred)\n",
        "JJ = 1 # trocar este para fazer outros graficos\n",
        "y_true = scalerY.inverse_transform( y_test)\n",
        "y_calc = scalerY.inverse_transform(y_pred)"
      ],
      "metadata": {
        "id": "FbYfK57oE1xz"
      },
      "execution_count": 19,
      "outputs": []
    },
    {
      "cell_type": "code",
      "source": [
        "line1, =plt.plot(range(len(y_true[:,JJ])),y_true[:,JJ],c='r')\n",
        "line2, =plt.plot(range(len(y_calc[:,JJ])),y_calc[:,JJ], c='b')\n",
        "plt.legend([line1,line2],['true','modelo'],loc='upper right')\n",
        "plt.xlabel('dias')\n",
        "plt.ylabel(nomes[JJ])\n",
        "plt.show()"
      ],
      "metadata": {
        "colab": {
          "base_uri": "https://localhost:8080/",
          "height": 449
        },
        "id": "tSXit8f6Fvgp",
        "outputId": "4baed907-7841-4338-c519-b40e451ce2d9"
      },
      "execution_count": 21,
      "outputs": [
        {
          "output_type": "display_data",
          "data": {
            "text/plain": [
              "<Figure size 640x480 with 1 Axes>"
            ],
            "image/png": "[encoded data removed]"
          },
          "metadata": {}
        }
      ]
    }
  ]
}