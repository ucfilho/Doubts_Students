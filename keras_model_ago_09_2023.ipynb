{
  "nbformat": 4,
  "nbformat_minor": 0,
  "metadata": {
    "colab": {
      "provenance": [],
      "authorship_tag": "ABX9TyMxplkB+tFKiMj/isSV/h9P",
      "include_colab_link": true
    },
    "kernelspec": {
      "name": "python3",
      "display_name": "Python 3"
    },
    "language_info": {
      "name": "python"
    }
  },
  "cells": [
    {
      "cell_type": "markdown",
      "metadata": {
        "id": "view-in-github",
        "colab_type": "text"
      },
      "source": [
        "<a href=\"https://colab.research.google.com/github/ucfilho/Doubts_Students/blob/master/keras_model_ago_09_2023.ipynb\" target=\"_parent\"><img src=\"https://colab.research.google.com/assets/colab-badge.svg\" alt=\"Open In Colab\"/></a>"
      ]
    },
    {
      "cell_type": "code",
      "execution_count": null,
      "metadata": {
        "id": "9ZUp8WKhdiFS"
      },
      "outputs": [],
      "source": [
        "import tensorflow as tf\n",
        "from tensorflow import keras\n",
        "\n",
        "# Define a simple sequential model\n",
        "def baseline():\n",
        "  n_in = 241 # ts_train.shape[2]\n",
        "  n_out = 7\n",
        "  layer_first = 128\n",
        "  layer_2nd = 32\n",
        "  model = tf.keras.Sequential([\n",
        "    keras.layers.LSTM(layer_first, input_shape=(n_in,)),\n",
        "    keras.layers.Dropout(0.5),\n",
        "    keras.layers.LSTM(layer_2nd),\n",
        "    keras.layers.Dropout(0.5),\n",
        "    keras.layers.Dense(n_out)\n",
        "  ])\n",
        "\n",
        "  model.compile(optimizer='adam',\n",
        "                loss='mse')\n",
        "\n",
        "  return model\n",
        "\n",
        "# Create a basic model instance\n",
        "model = baseline()\n",
        "\n",
        "# Display the model's architecture\n",
        "model.summary()"
      ]
    },
    {
      "cell_type": "code",
      "source": [
        "checkpoint_path = \"training_1/cp.ckpt\"\n",
        "checkpoint_dir = os.path.dirname(checkpoint_path)\n",
        "\n",
        "# Create a callback that saves the model's weights\n",
        "cp_callback = tf.keras.callbacks.ModelCheckpoint(filepath=checkpoint_path,\n",
        "                                                 save_weights_only=True,\n",
        "                                                 verbose=1)\n",
        "\n",
        "# Train the model with the new callback\n",
        "model.fit(ts_train,\n",
        "          y_train,\n",
        "          epochs=10,\n",
        "          validation_data=(ts_val, y_val),\n",
        "          callbacks=[cp_callback])  # Pass callback to training"
      ],
      "metadata": {
        "id": "w6dOSuP4hn6b"
      },
      "execution_count": null,
      "outputs": []
    },
    {
      "cell_type": "code",
      "source": [
        "# Loads the weights\n",
        "model.load_weights(checkpoint_path)\n",
        "\n",
        "# Re-evaluate the model\n",
        "loss, acc = model.evaluate(ts_test, y_test, verbose=2)\n",
        "print(\"Restored model, accuracy: {:5.2f}%\".format(100 * acc))"
      ],
      "metadata": {
        "id": "2sfExtuUi1IB"
      },
      "execution_count": null,
      "outputs": []
    }
  ]
}