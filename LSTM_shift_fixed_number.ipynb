{
  "nbformat": 4,
  "nbformat_minor": 0,
  "metadata": {
    "colab": {
      "provenance": [],
      "include_colab_link": true
    },
    "kernelspec": {
      "name": "python3",
      "display_name": "Python 3"
    },
    "language_info": {
      "name": "python"
    }
  },
  "cells": [
    {
      "cell_type": "markdown",
      "metadata": {
        "id": "view-in-github",
        "colab_type": "text"
      },
      "source": [
        "<a href=\"https://colab.research.google.com/github/ucfilho/Doubts_Students/blob/master/LSTM_shift_fixed_number.ipynb\" target=\"_parent\"><img src=\"https://colab.research.google.com/assets/colab-badge.svg\" alt=\"Open In Colab\"/></a>"
      ]
    },
    {
      "cell_type": "code",
      "metadata": {
        "id": "G6_52vHnr34h"
      },
      "source": [
        "import pandas as pd\n",
        "import numpy as np\n",
        "from google.colab import files\n",
        "import matplotlib.pyplot as plt\n",
        "from sklearn.model_selection import train_test_split\n",
        "from sklearn.preprocessing import MinMaxScaler\n",
        "from sklearn.metrics import mean_squared_error\n",
        "from sklearn.metrics import r2_score"
      ],
      "execution_count": 1,
      "outputs": []
    },
    {
      "cell_type": "code",
      "metadata": {
        "id": "d7MsJQI2mdaz"
      },
      "source": [
        "from keras.models import Sequential\n",
        "from keras.layers import Dense\n",
        "from keras.layers import LSTM"
      ],
      "execution_count": 2,
      "outputs": []
    },
    {
      "cell_type": "code",
      "metadata": {
        "colab": {
          "base_uri": "https://localhost:8080/"
        },
        "id": "HOWF51hxrhhP",
        "outputId": "b3f6763a-3efc-4cb3-cf4d-359eb55264f7"
      },
      "source": [
        "!git clone https://github.com/ucfilho/Machine_Learning_DataSet\n",
        "%cd Machine_Learning_DataSet"
      ],
      "execution_count": 3,
      "outputs": [
        {
          "output_type": "stream",
          "name": "stdout",
          "text": [
            "fatal: destination path 'Machine_Learning_DataSet' already exists and is not an empty directory.\n",
            "/content/Machine_Learning_DataSet\n"
          ]
        }
      ]
    },
    {
      "cell_type": "code",
      "metadata": {
        "colab": {
          "base_uri": "https://localhost:8080/"
        },
        "id": "j6Lc6V7EroT-",
        "outputId": "62f984da-07c3-4bfd-c6a6-2fd32f171316"
      },
      "source": [
        "# df = pd.read_csv(\"Superstore.csv\", encoding='windows-1252')\n",
        "df = pd.read_csv(\"dados_precipitacao_teste.csv\")\n",
        "print(df.head(3)) # shows headers with top 3 rows"
      ],
      "execution_count": 4,
      "outputs": [
        {
          "output_type": "stream",
          "name": "stdout",
          "text": [
            "         data  Ent62_SSTtSSA  1_SF  2_SF  3_SF  4_SF      5_SF      7_SF  \\\n",
            "0  2022-11-03       7.454262   0.0   0.0   0.0   0.0  0.000000  0.266250   \n",
            "1  2022-11-04       6.578652   0.0   0.0   0.0   0.0  0.000000  0.234375   \n",
            "2  2022-11-05      12.633390   0.0   0.0   0.0   0.0  0.017083  0.254792   \n",
            "\n",
            "       8_SF      9_SF  ...  Sai62_BalPop  Sai63_BalPop  EntCresc_BalPop  \\\n",
            "0  0.513333  0.807500  ...  7.257745e+14  8.463053e+14     1.572063e+15   \n",
            "1  0.492917  0.791875  ...  5.409959e+14  7.163564e+14     1.257348e+15   \n",
            "2  0.454167  0.677708  ...  7.171353e+14  7.372483e+14     1.454377e+15   \n",
            "\n",
            "      SG_BalPop  SaiCresc_BalPop    End_BalPop  44_Hidrato  \\\n",
            "0  3.535153e+14     1.909924e+15  1.114866e+15    1.483333   \n",
            "1  5.563443e+14     1.814094e+15  1.709214e+15    2.070000   \n",
            "2  3.163980e+14     1.771134e+15  1.224233e+15    2.153333   \n",
            "\n",
            "   DensAparente_Alumina  25_44_SF  25_44_SF_2  \n",
            "0                 936.0  0.146731    0.021530  \n",
            "1                 940.0  0.166737    0.027801  \n",
            "2                 940.0  0.152118    0.023140  \n",
            "\n",
            "[3 rows x 242 columns]\n"
          ]
        }
      ]
    },
    {
      "cell_type": "code",
      "source": [
        "time = df['data'].values\n",
        "X = df.drop(['data','25_44_SF'],axis=1)\n",
        "#X.index = time\n",
        "y = df[['25_44_SF']]\n",
        "nomes = ['25_44_SF']\n",
        "y.index = time\n",
        "P = 7 # numero de periodos para tras (trocar pelo desejado)\n",
        "y_new = {}\n",
        "y_new[nomes[0]]=y.values\n",
        "for i in range(P):\n",
        "  w = '25_44_SF' + str(i+1)\n",
        "  nomes.append(w)\n",
        "  y_new[w]= y.shift(i+1).values\n"
      ],
      "metadata": {
        "id": "xblzDUwte_cZ"
      },
      "execution_count": 5,
      "outputs": []
    },
    {
      "cell_type": "code",
      "source": [
        "dic_ ={}\n",
        "for i in range(P):\n",
        "  dic_[nomes[i]] = list(y_new[nomes[i]].reshape(-1))\n",
        "\n",
        "y = pd.DataFrame(dic_)\n",
        "y = np.array(y)"
      ],
      "metadata": {
        "id": "cAW8sTCCdd-E"
      },
      "execution_count": 6,
      "outputs": []
    },
    {
      "cell_type": "code",
      "metadata": {
        "id": "mbvaQKvuEWTQ"
      },
      "source": [
        "rows, cols = X.shape\n",
        "ntrain = int(rows*0.8)\n",
        "X_train=X.iloc[0:ntrain,:].copy()\n",
        "y_train= y[0:ntrain,:].copy()\n",
        "X_test=X.drop(X_train.index)\n",
        "y_test=np.delete(y,range(ntrain))\n",
        "y_train = y_train.reshape(-1, 1)\n",
        "y_test = y_test.reshape(-1, 1)"
      ],
      "execution_count": 7,
      "outputs": []
    },
    {
      "cell_type": "code",
      "source": [
        "rows,cols"
      ],
      "metadata": {
        "colab": {
          "base_uri": "https://localhost:8080/"
        },
        "id": "Kk0TBRywuxx4",
        "outputId": "a0388d25-c766-4d49-b3c6-2edaaf1597b3"
      },
      "execution_count": 8,
      "outputs": [
        {
          "output_type": "execute_result",
          "data": {
            "text/plain": [
              "(269, 240)"
            ]
          },
          "metadata": {},
          "execution_count": 8
        }
      ]
    },
    {
      "cell_type": "code",
      "metadata": {
        "id": "B6N5k_BVCdri"
      },
      "source": [
        "#, X_test, y_train, y_test = train_test_split(X, y, test_size=0.2, random_state=101)\n",
        "#X_train\n",
        "scalerX = MinMaxScaler()\n",
        "scalerY = MinMaxScaler()\n",
        "scalerX.fit(X_train)\n",
        "scalerY.fit(y_train)\n",
        "X_train = scalerX.transform(X_train)\n",
        "X_test = scalerX.transform(X_test)\n",
        "y_train= scalerY.transform(y_train)\n",
        "y_test= scalerY.transform(y_test)"
      ],
      "execution_count": 9,
      "outputs": []
    },
    {
      "cell_type": "code",
      "metadata": {
        "id": "weovYXt-CipU",
        "colab": {
          "base_uri": "https://localhost:8080/",
          "height": 391
        },
        "outputId": "bd99cf3b-e2f4-4f4e-9cbd-9b9f7dc10c2f"
      },
      "source": [
        "\n",
        "for i in range(1):\n",
        "  '''\n",
        "  model = Sequential()\n",
        "  model.add(LSTM(units=32, activation='tanh',input_shape=(X_train.shape[1], 4)))\n",
        "  # units=32\n",
        "  model.add(Dense(1))\n",
        "  '''\n",
        "  # model = keras.Sequential()\n",
        "  model = Sequential()\n",
        "  # Add an Embedding layer expecting input vocab of size 1000, and\n",
        "  # output embedding dimension of size 64.\n",
        "  #model.add(layers.Embedding(input_dim=1000, output_dim=64))\n",
        "\n",
        "  # Add a LSTM layer with 128 internal units.\n",
        "  model.add(LSTM(128))\n",
        "\n",
        "  # Add a Dense layer with 10 units.\n",
        "  model.add(Dense(P))\n",
        "\n",
        "  #model.summary()\n",
        "  model.compile(loss='mean_squared_error', optimizer='adam')\n",
        "  X_train = np.reshape(X_train, (X_train.shape[0], 1, X_train.shape[1]))\n",
        "  X_test = np.reshape(X_test, (X_test.shape[0], 1, X_test.shape[1]))\n",
        "  # reshape input to be [samples, time steps, features]\n",
        "  # reshape input to be [samples, time steps, features]\n",
        "  #trainX = numpy.reshape(trainX, (trainX.shape[0], 1, trainX.shape[1]))\n",
        "  #testX = numpy.reshape(testX, (testX.shape[0], 1, testX.shape[1]))\n",
        "  model.fit(X_train, y_train, epochs=200, batch_size=1, verbose=0)\n",
        "  y_calc_train=model.predict(X_train)\n",
        "  y_calc_test=model.predict(X_test)\n",
        "  mse_test=mean_squared_error(y_test,y_calc_test)\n",
        "  R2_test=r2_score(y_test,y_calc_test)\n",
        "  mse_train=mean_squared_error(y_train,y_calc_train)\n",
        "  R2_train=r2_score(y_train,y_calc_train)"
      ],
      "execution_count": 11,
      "outputs": [
        {
          "output_type": "error",
          "ename": "ValueError",
          "evalue": "ignored",
          "traceback": [
            "\u001b[0;31m---------------------------------------------------------------------------\u001b[0m",
            "\u001b[0;31mValueError\u001b[0m                                Traceback (most recent call last)",
            "\u001b[0;32m<ipython-input-11-3333144dd7dc>\u001b[0m in \u001b[0;36m<cell line: 1>\u001b[0;34m()\u001b[0m\n\u001b[1;32m     20\u001b[0m   \u001b[0;31m#model.summary()\u001b[0m\u001b[0;34m\u001b[0m\u001b[0;34m\u001b[0m\u001b[0m\n\u001b[1;32m     21\u001b[0m   \u001b[0mmodel\u001b[0m\u001b[0;34m.\u001b[0m\u001b[0mcompile\u001b[0m\u001b[0;34m(\u001b[0m\u001b[0mloss\u001b[0m\u001b[0;34m=\u001b[0m\u001b[0;34m'mean_squared_error'\u001b[0m\u001b[0;34m,\u001b[0m \u001b[0moptimizer\u001b[0m\u001b[0;34m=\u001b[0m\u001b[0;34m'adam'\u001b[0m\u001b[0;34m)\u001b[0m\u001b[0;34m\u001b[0m\u001b[0;34m\u001b[0m\u001b[0m\n\u001b[0;32m---> 22\u001b[0;31m   \u001b[0mX_train\u001b[0m \u001b[0;34m=\u001b[0m \u001b[0mnp\u001b[0m\u001b[0;34m.\u001b[0m\u001b[0mreshape\u001b[0m\u001b[0;34m(\u001b[0m\u001b[0mX_train\u001b[0m\u001b[0;34m,\u001b[0m \u001b[0;34m(\u001b[0m\u001b[0mX_train\u001b[0m\u001b[0;34m.\u001b[0m\u001b[0mshape\u001b[0m\u001b[0;34m[\u001b[0m\u001b[0;36m0\u001b[0m\u001b[0;34m]\u001b[0m\u001b[0;34m,\u001b[0m \u001b[0;36m1\u001b[0m\u001b[0;34m,\u001b[0m \u001b[0mX_train\u001b[0m\u001b[0;34m.\u001b[0m\u001b[0mshape\u001b[0m\u001b[0;34m[\u001b[0m\u001b[0;36m1\u001b[0m\u001b[0;34m]\u001b[0m\u001b[0;34m)\u001b[0m\u001b[0;34m)\u001b[0m\u001b[0;34m\u001b[0m\u001b[0;34m\u001b[0m\u001b[0m\n\u001b[0m\u001b[1;32m     23\u001b[0m   \u001b[0mX_test\u001b[0m \u001b[0;34m=\u001b[0m \u001b[0mnp\u001b[0m\u001b[0;34m.\u001b[0m\u001b[0mreshape\u001b[0m\u001b[0;34m(\u001b[0m\u001b[0mX_test\u001b[0m\u001b[0;34m,\u001b[0m \u001b[0;34m(\u001b[0m\u001b[0mX_test\u001b[0m\u001b[0;34m.\u001b[0m\u001b[0mshape\u001b[0m\u001b[0;34m[\u001b[0m\u001b[0;36m0\u001b[0m\u001b[0;34m]\u001b[0m\u001b[0;34m,\u001b[0m \u001b[0;36m1\u001b[0m\u001b[0;34m,\u001b[0m \u001b[0mX_test\u001b[0m\u001b[0;34m.\u001b[0m\u001b[0mshape\u001b[0m\u001b[0;34m[\u001b[0m\u001b[0;36m1\u001b[0m\u001b[0;34m]\u001b[0m\u001b[0;34m)\u001b[0m\u001b[0;34m)\u001b[0m\u001b[0;34m\u001b[0m\u001b[0;34m\u001b[0m\u001b[0m\n\u001b[1;32m     24\u001b[0m   \u001b[0;31m# reshape input to be [samples, time steps, features]\u001b[0m\u001b[0;34m\u001b[0m\u001b[0;34m\u001b[0m\u001b[0m\n",
            "\u001b[0;32m/usr/local/lib/python3.10/dist-packages/numpy/core/overrides.py\u001b[0m in \u001b[0;36mreshape\u001b[0;34m(*args, **kwargs)\u001b[0m\n",
            "\u001b[0;32m/usr/local/lib/python3.10/dist-packages/numpy/core/fromnumeric.py\u001b[0m in \u001b[0;36mreshape\u001b[0;34m(a, newshape, order)\u001b[0m\n\u001b[1;32m    296\u001b[0m            [5, 6]])\n\u001b[1;32m    297\u001b[0m     \"\"\"\n\u001b[0;32m--> 298\u001b[0;31m     \u001b[0;32mreturn\u001b[0m \u001b[0m_wrapfunc\u001b[0m\u001b[0;34m(\u001b[0m\u001b[0ma\u001b[0m\u001b[0;34m,\u001b[0m \u001b[0;34m'reshape'\u001b[0m\u001b[0;34m,\u001b[0m \u001b[0mnewshape\u001b[0m\u001b[0;34m,\u001b[0m \u001b[0morder\u001b[0m\u001b[0;34m=\u001b[0m\u001b[0morder\u001b[0m\u001b[0;34m)\u001b[0m\u001b[0;34m\u001b[0m\u001b[0;34m\u001b[0m\u001b[0m\n\u001b[0m\u001b[1;32m    299\u001b[0m \u001b[0;34m\u001b[0m\u001b[0m\n\u001b[1;32m    300\u001b[0m \u001b[0;34m\u001b[0m\u001b[0m\n",
            "\u001b[0;32m/usr/local/lib/python3.10/dist-packages/numpy/core/fromnumeric.py\u001b[0m in \u001b[0;36m_wrapfunc\u001b[0;34m(obj, method, *args, **kwds)\u001b[0m\n\u001b[1;32m     55\u001b[0m \u001b[0;34m\u001b[0m\u001b[0m\n\u001b[1;32m     56\u001b[0m     \u001b[0;32mtry\u001b[0m\u001b[0;34m:\u001b[0m\u001b[0;34m\u001b[0m\u001b[0;34m\u001b[0m\u001b[0m\n\u001b[0;32m---> 57\u001b[0;31m         \u001b[0;32mreturn\u001b[0m \u001b[0mbound\u001b[0m\u001b[0;34m(\u001b[0m\u001b[0;34m*\u001b[0m\u001b[0margs\u001b[0m\u001b[0;34m,\u001b[0m \u001b[0;34m**\u001b[0m\u001b[0mkwds\u001b[0m\u001b[0;34m)\u001b[0m\u001b[0;34m\u001b[0m\u001b[0;34m\u001b[0m\u001b[0m\n\u001b[0m\u001b[1;32m     58\u001b[0m     \u001b[0;32mexcept\u001b[0m \u001b[0mTypeError\u001b[0m\u001b[0;34m:\u001b[0m\u001b[0;34m\u001b[0m\u001b[0;34m\u001b[0m\u001b[0m\n\u001b[1;32m     59\u001b[0m         \u001b[0;31m# A TypeError occurs if the object does have such a method in its\u001b[0m\u001b[0;34m\u001b[0m\u001b[0;34m\u001b[0m\u001b[0m\n",
            "\u001b[0;31mValueError\u001b[0m: cannot reshape array of size 51600 into shape (215,1,1)"
          ]
        }
      ]
    },
    {
      "cell_type": "code",
      "source": [
        "X_test.shape"
      ],
      "metadata": {
        "id": "Sf8l3K3WZFA6"
      },
      "execution_count": null,
      "outputs": []
    },
    {
      "cell_type": "code",
      "metadata": {
        "id": "Z_V3ASfyCvfa"
      },
      "source": [
        "# expressa os dois dados em figura\n",
        "fig = plt.figure()\n",
        "ax1 = fig.add_subplot(111)\n",
        "\n",
        "ax1.scatter(y_test,y_calc_test, s=10, c='b', marker=\"s\", label='teste')\n",
        "ax1.scatter(y_train,y_calc_train, s=10, c='r', marker=\"o\", label='treino')\n",
        "ax1.set_xlim([0, 1])\n",
        "ax1.set_ylim([0, 1])\n",
        "plt.legend(loc='upper left')\n",
        "plt.ylabel('Y Calc')\n",
        "plt.xlabel('Y Obs')\n",
        "plt.show()"
      ],
      "execution_count": null,
      "outputs": []
    },
    {
      "cell_type": "code",
      "metadata": {
        "id": "LYFWNxeDXxyA"
      },
      "source": [
        "mse=mean_squared_error(y_test,y_calc_test)\n",
        "print(\"MSE teste=\",mse)\n",
        "R2=r2_score(y_test,y_calc_test)\n",
        "print(\"R^2 teste=\",R2)"
      ],
      "execution_count": null,
      "outputs": []
    },
    {
      "cell_type": "code",
      "metadata": {
        "id": "owr88npGaV73"
      },
      "source": [
        "mse=mean_squared_error(y_train,y_calc_train)\n",
        "print(\"MSE train=\",mse)\n",
        "R2=r2_score(y_train,y_calc_train)\n",
        "print(\"R^2 train=\",R2)"
      ],
      "execution_count": null,
      "outputs": []
    },
    {
      "cell_type": "code",
      "metadata": {
        "id": "BA8zj-jY2EZu"
      },
      "source": [
        "y_calc = y_calc_train.tolist()"
      ],
      "execution_count": null,
      "outputs": []
    },
    {
      "cell_type": "code",
      "metadata": {
        "id": "pth2NdH124As"
      },
      "source": [
        "for yi in y_calc_test:\n",
        "  y_calc.append(yi)"
      ],
      "execution_count": null,
      "outputs": []
    },
    {
      "cell_type": "code",
      "metadata": {
        "id": "KczspclD30Q1"
      },
      "source": [
        "y_calc = np.array(y_calc).reshape(1,-1)\n",
        "y_calc = scalerY.inverse_transform(y_calc)"
      ],
      "execution_count": null,
      "outputs": []
    },
    {
      "cell_type": "code",
      "metadata": {
        "id": "XqBi0bYl3D0C"
      },
      "source": [
        "line1, =plt.plot(range(len(y)),y,c='r')\n",
        "line2, =plt.plot(range(len(y)),y_calc[0], c='b')\n",
        "plt.legend([line1,line2],['true','ANN'],loc='upper right')\n",
        "plt.xlabel('Semanas')\n",
        "plt.ylabel('Vendas em milhões/semana')\n",
        "plt.show()"
      ],
      "execution_count": null,
      "outputs": []
    },
    {
      "cell_type": "code",
      "metadata": {
        "id": "CxGHy5WY5mJH"
      },
      "source": [
        "df['Product ID'].shape"
      ],
      "execution_count": null,
      "outputs": []
    },
    {
      "cell_type": "code",
      "metadata": {
        "id": "S3DzHc5i4swC"
      },
      "source": [
        "y_calc"
      ],
      "execution_count": null,
      "outputs": []
    },
    {
      "cell_type": "code",
      "metadata": {
        "id": "XHzDUqM74zAs"
      },
      "source": [
        "y"
      ],
      "execution_count": null,
      "outputs": []
    },
    {
      "cell_type": "code",
      "metadata": {
        "id": "ag2HzmFAUJzH"
      },
      "source": [
        "plt.plot(furniture)\n",
        "plt.xticks(rotation=45)\n",
        "plt.ylabel('Vendas em milhões')"
      ],
      "execution_count": null,
      "outputs": []
    },
    {
      "cell_type": "code",
      "source": [
        "# save excel file\n",
        "from google.colab import files\n",
        "Arq = \"serie_output.xlsx\"\n",
        "dataframe.to_excel(Arq)\n",
        "files.download(Arq)"
      ],
      "metadata": {
        "id": "IIJGlP7yJDIw"
      },
      "execution_count": null,
      "outputs": []
    },
    {
      "cell_type": "code",
      "metadata": {
        "id": "bL6Ly_IzUzOK"
      },
      "source": [
        "sum(df['Profit'].values)"
      ],
      "execution_count": null,
      "outputs": []
    }
  ]
}