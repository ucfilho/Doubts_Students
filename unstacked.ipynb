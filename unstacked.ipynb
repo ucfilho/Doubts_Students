{
  "nbformat": 4,
  "nbformat_minor": 0,
  "metadata": {
    "colab": {
      "provenance": [],
      "authorship_tag": "ABX9TyMiAA8xswNx/vb8iGTzojEd",
      "include_colab_link": true
    },
    "kernelspec": {
      "name": "python3",
      "display_name": "Python 3"
    },
    "language_info": {
      "name": "python"
    }
  },
  "cells": [
    {
      "cell_type": "markdown",
      "metadata": {
        "id": "view-in-github",
        "colab_type": "text"
      },
      "source": [
        "<a href=\"https://colab.research.google.com/github/ucfilho/Doubts_Students/blob/master/unstacked.ipynb\" target=\"_parent\"><img src=\"https://colab.research.google.com/assets/colab-badge.svg\" alt=\"Open In Colab\"/></a>"
      ]
    },
    {
      "cell_type": "code",
      "execution_count": 2,
      "metadata": {
        "colab": {
          "base_uri": "https://localhost:8080/"
        },
        "id": "SiIIWnmRrkLp",
        "outputId": "ed40d554-37f4-4850-9fdf-c6965606fd7d"
      },
      "outputs": [
        {
          "output_type": "stream",
          "name": "stdout",
          "text": [
            "   Year  Quarter  Sales\n",
            "0  2010        1    100\n",
            "1  2010        2    200\n",
            "2  2011        1    150\n",
            "3  2011        2    250\n",
            "        Sales     \n",
            "Quarter     1    2\n",
            "Year              \n",
            "2010      100  200\n",
            "2011      150  250\n"
          ]
        }
      ],
      "source": [
        "import pandas as pd\n",
        "\n",
        "# create a DataFrame with hierarchical index\n",
        "data = {'Year': [2010, 2010, 2011, 2011],\n",
        "        'Quarter': [1, 2, 1, 2],\n",
        "        'Sales': [100, 200, 150, 250]}\n",
        "df = pd.DataFrame(data)\n",
        "print(df)\n",
        "df.set_index(['Year', 'Quarter'], inplace=True)\n",
        "\n",
        "# unstack the DataFrame\n",
        "df_unstacked = df.unstack()\n",
        "\n",
        "print(df_unstacked)\n"
      ]
    }
  ]
}