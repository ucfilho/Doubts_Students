{
  "nbformat": 4,
  "nbformat_minor": 0,
  "metadata": {
    "colab": {
      "name": "Game_r_heilb_maio_02_2019.ipynb",
      "version": "0.3.2",
      "provenance": [],
      "collapsed_sections": [],
      "include_colab_link": true
    },
    "kernelspec": {
      "name": "python3",
      "display_name": "Python 3"
    }
  },
  "cells": [
    {
      "cell_type": "markdown",
      "metadata": {
        "id": "view-in-github",
        "colab_type": "text"
      },
      "source": [
        "<a href=\"https://colab.research.google.com/github/ucfilho/Doubts_Students/blob/master/Game_r_heilb_maio_02_2019.ipynb\" target=\"_parent\"><img src=\"https://colab.research.google.com/assets/colab-badge.svg\" alt=\"Open In Colab\"/></a>"
      ]
    },
    {
      "metadata": {
        "id": "fjXAU3z1IrUV",
        "colab_type": "code",
        "colab": {}
      },
      "cell_type": "code",
      "source": [
        "%matplotlib inline\n",
        "from matplotlib import pyplot as plt\n",
        "import zipfile\n",
        "import pandas as pd\n",
        "import numpy as np"
      ],
      "execution_count": 0,
      "outputs": []
    },
    {
      "metadata": {
        "id": "NMPaLhGHIsE_",
        "colab_type": "code",
        "outputId": "a9bf3786-ef84-4f35-e32d-b26f291eee74",
        "colab": {
          "base_uri": "https://localhost:8080/",
          "height": 218
        }
      },
      "cell_type": "code",
      "source": [
        "!wget http://ftp.feq.ufu.br/ubirajara/r_heilb.zip"
      ],
      "execution_count": 0,
      "outputs": [
        {
          "output_type": "stream",
          "text": [
            "--2019-05-01 00:21:14--  http://ftp.feq.ufu.br/ubirajara/r_heilb.zip\n",
            "Resolving ftp.feq.ufu.br (ftp.feq.ufu.br)... 200.19.144.11\n",
            "Connecting to ftp.feq.ufu.br (ftp.feq.ufu.br)|200.19.144.11|:80... connected.\n",
            "HTTP request sent, awaiting response... 200 OK\n",
            "Length: 3548023 (3.4M) [application/zip]\n",
            "Saving to: ‘r_heilb.zip’\n",
            "\n",
            "r_heilb.zip         100%[===================>]   3.38M  1.72MB/s    in 2.0s    \n",
            "\n",
            "2019-05-01 00:21:21 (1.72 MB/s) - ‘r_heilb.zip’ saved [3548023/3548023]\n",
            "\n"
          ],
          "name": "stdout"
        }
      ]
    },
    {
      "metadata": {
        "id": "F5Hl7IswJJB_",
        "colab_type": "code",
        "outputId": "4933e28e-e54f-4e6f-cb22-684548fa3c6d",
        "colab": {
          "base_uri": "https://localhost:8080/",
          "height": 127
        }
      },
      "cell_type": "code",
      "source": [
        "file_name = zipfile.ZipFile('r_heilb.zip', 'r')\n",
        "file_name.extractall()\n",
        "!git clone https://github.com/ucfilho/Doubts_Students\n",
        "#%cd Doubts_Students\n",
        "train = pd.read_csv(\"r_heilb_train.csv\")\n",
        "test = pd.read_csv(\"r_heilb_test.csv\")\n",
        "#print(train.head())\n",
        "#print(test.head())"
      ],
      "execution_count": 0,
      "outputs": [
        {
          "output_type": "stream",
          "text": [
            "Cloning into 'Doubts_Students'...\n",
            "remote: Enumerating objects: 10, done.\u001b[K\n",
            "remote: Counting objects: 100% (10/10), done.\u001b[K\n",
            "remote: Compressing objects: 100% (9/9), done.\u001b[K\n",
            "remote: Total 10 (delta 0), reused 0 (delta 0), pack-reused 0\u001b[K\n",
            "Unpacking objects: 100% (10/10), done.\n"
          ],
          "name": "stdout"
        }
      ]
    },
    {
      "metadata": {
        "id": "lofE4uX5LDsS",
        "colab_type": "code",
        "outputId": "d0246af9-eda8-44a7-8dec-8f02509d4df2",
        "colab": {
          "base_uri": "https://localhost:8080/",
          "height": 74
        }
      },
      "cell_type": "code",
      "source": [
        "# Variaveis independentes\n",
        "Indep=['FS_med_x-1','PE_med_x-1','FD_med_x-1','FF_med_x-1','G_med_x-1',\\\n",
        "'RB_med_x-1','FC_med_x-1','CA_med_x-1','SG_med_x-1',\t'DD_med_x-1',\\\n",
        "'GS_med_x-1','G_l05_x-1','Casa','lose_odds','draw_odds','Preco_variacao_x-1',\\\n",
        " 'Preco_x-1']\n",
        "print(Indep)\n",
        "# Variavel dependentes\n",
        "Depend=['PontosMedia_x-1']\n",
        "print(Depend)"
      ],
      "execution_count": 0,
      "outputs": [
        {
          "output_type": "stream",
          "text": [
            "['FS_med_x-1', 'PE_med_x-1', 'FD_med_x-1', 'FF_med_x-1', 'G_med_x-1', 'RB_med_x-1', 'FC_med_x-1', 'CA_med_x-1', 'SG_med_x-1', 'DD_med_x-1', 'GS_med_x-1', 'G_l05_x-1', 'Casa', 'lose_odds', 'draw_odds', 'Preco_variacao_x-1', 'Preco_x-1']\n",
            "['PontosMedia_x-1']\n"
          ],
          "name": "stdout"
        }
      ]
    },
    {
      "metadata": {
        "id": "FRR9AX1fw7CA",
        "colab_type": "code",
        "outputId": "85897240-8b15-4748-bad5-c3cf431e4ebd",
        "colab": {
          "base_uri": "https://localhost:8080/",
          "height": 383
        }
      },
      "cell_type": "code",
      "source": [
        "#Train=train[Cols]\n",
        "print(train[Cols].head())"
      ],
      "execution_count": 0,
      "outputs": [
        {
          "output_type": "stream",
          "text": [
            "   FS_med_x-1  PE_med_x-1  FD_med_x-1  FF_med_x-1  G_med_x-1  RB_med_x-1  \\\n",
            "0         0.0         0.0         0.0         0.0        0.0         0.0   \n",
            "1         0.0         0.0         0.0         0.0        0.0         0.0   \n",
            "2         0.0         0.0         0.0         0.0        0.0         0.0   \n",
            "3         0.0         0.0         0.0         0.0        0.0         0.0   \n",
            "4         0.0         0.0         0.0         0.0        0.0         0.0   \n",
            "\n",
            "   FC_med_x-1  CA_med_x-1  SG_med_x-1  DD_med_x-1  GS_med_x-1  G_l05_x-1  \\\n",
            "0         0.0         0.0         0.0         0.0         0.0        0.0   \n",
            "1         0.0         0.0         0.0         0.0         0.0        0.0   \n",
            "2         0.0         0.0         0.0         0.0         0.0        0.0   \n",
            "3         0.0         0.0         0.0         0.0         0.0        0.0   \n",
            "4         0.0         0.0         0.0         0.0         0.0        0.0   \n",
            "\n",
            "   Casa  lose_odds  draw_odds  Preco_variacao_x-1  Preco_x-1  \n",
            "0     0       1.65       3.52                 0.0        5.0  \n",
            "1     0       1.65       3.52                 0.0        9.0  \n",
            "2     0       1.65       3.52                 0.0        4.0  \n",
            "3     0       1.65       3.52                 0.0       10.0  \n",
            "4     0       1.65       3.52                 0.0       14.0  \n"
          ],
          "name": "stdout"
        }
      ]
    }
  ]
}