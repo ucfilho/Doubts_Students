{
  "nbformat": 4,
  "nbformat_minor": 0,
  "metadata": {
    "colab": {
      "name": "Game_r_heilb_maio_01_2019.ipynb",
      "version": "0.3.2",
      "provenance": [],
      "collapsed_sections": [],
      "include_colab_link": true
    },
    "kernelspec": {
      "name": "python3",
      "display_name": "Python 3"
    }
  },
  "cells": [
    {
      "cell_type": "markdown",
      "metadata": {
        "id": "view-in-github",
        "colab_type": "text"
      },
      "source": [
        "<a href=\"https://colab.research.google.com/github/ucfilho/Doubts_Students/blob/master/Game_r_heilb_maio_01_2019.ipynb\" target=\"_parent\"><img src=\"https://colab.research.google.com/assets/colab-badge.svg\" alt=\"Open In Colab\"/></a>"
      ]
    },
    {
      "metadata": {
        "id": "fjXAU3z1IrUV",
        "colab_type": "code",
        "colab": {}
      },
      "cell_type": "code",
      "source": [
        "%matplotlib inline\n",
        "from matplotlib import pyplot as plt\n",
        "import zipfile\n",
        "import pandas as pd\n",
        "import numpy as np"
      ],
      "execution_count": 0,
      "outputs": []
    },
    {
      "metadata": {
        "id": "qgDwmB0aIvjP",
        "colab_type": "code",
        "colab": {}
      },
      "cell_type": "code",
      "source": [
        "%matplotlib inline\n",
        "from matplotlib import pyplot as plt\n",
        "import os \n",
        "import cv2\n",
        "import zipfile"
      ],
      "execution_count": 0,
      "outputs": []
    },
    {
      "metadata": {
        "id": "NMPaLhGHIsE_",
        "colab_type": "code",
        "colab": {
          "base_uri": "https://localhost:8080/",
          "height": 218
        },
        "outputId": "016099b9-b1b8-44a3-8414-223bd4a89a90"
      },
      "cell_type": "code",
      "source": [
        "!wget http://ftp.feq.ufu.br/ubirajara/r_heilb.zip"
      ],
      "execution_count": 3,
      "outputs": [
        {
          "output_type": "stream",
          "text": [
            "--2019-04-30 22:04:43--  http://ftp.feq.ufu.br/ubirajara/r_heilb.zip\n",
            "Resolving ftp.feq.ufu.br (ftp.feq.ufu.br)... 200.19.144.11\n",
            "Connecting to ftp.feq.ufu.br (ftp.feq.ufu.br)|200.19.144.11|:80... connected.\n",
            "HTTP request sent, awaiting response... 200 OK\n",
            "Length: 3548023 (3.4M) [application/zip]\n",
            "Saving to: ‘r_heilb.zip.2’\n",
            "\n",
            "r_heilb.zip.2       100%[===================>]   3.38M  1.67MB/s    in 2.0s    \n",
            "\n",
            "2019-04-30 22:04:45 (1.67 MB/s) - ‘r_heilb.zip.2’ saved [3548023/3548023]\n",
            "\n"
          ],
          "name": "stdout"
        }
      ]
    },
    {
      "metadata": {
        "id": "F5Hl7IswJJB_",
        "colab_type": "code",
        "colab": {
          "base_uri": "https://localhost:8080/",
          "height": 968
        },
        "outputId": "5a507df1-b6bb-4a08-93de-15e3f298acf9"
      },
      "cell_type": "code",
      "source": [
        "file_name = zipfile.ZipFile('r_heilb.zip', 'r')\n",
        "file_name.extractall()\n",
        "!git clone https://github.com/ucfilho/Doubts_Students\n",
        "#%cd Doubts_Students\n",
        "train = pd.read_csv(\"r_heilb_train.csv\")\n",
        "test = pd.read_csv(\"r_heilb_test.csv\")\n",
        "print(train.head())\n",
        "print(test.head())"
      ],
      "execution_count": 4,
      "outputs": [
        {
          "output_type": "stream",
          "text": [
            "fatal: destination path 'Doubts_Students' already exists and is not an empty directory.\n",
            "   Id  Rodada  PontosMedia_x-1   Ano  FS_med_x-1  PE_med_x-1  FD_med_x-1  \\\n",
            "0   0       1              0.0  2015         0.0         0.0         0.0   \n",
            "1   1       1              0.0  2015         0.0         0.0         0.0   \n",
            "2   2       1              0.0  2015         0.0         0.0         0.0   \n",
            "3   3       1              0.0  2015         0.0         0.0         0.0   \n",
            "4   4       1              0.0  2015         0.0         0.0         0.0   \n",
            "\n",
            "   FF_med_x-1  G_med_x-1  RB_med_x-1  ...  AtletaID         Nome  Pos  Jogos  \\\n",
            "0         0.0        0.0         0.0  ...     36790       JosuÃ©  mei      1   \n",
            "1         0.0        0.0         0.0  ...     37851    Maicosuel  mei      1   \n",
            "2         0.0        0.0         0.0  ...     38061     Edcarlos  zag      1   \n",
            "3         0.0        0.0         0.0  ...     38138          JÃ´  ata      1   \n",
            "4         0.0        0.0         0.0  ...     40025  Levir Culpi  tec      1   \n",
            "\n",
            "   IDClube     NomeClube  Adversario  Preco_variacao_x-1  Preco_x-1  Pontosx  \n",
            "0      282  AtlÃ©tico-MG   Palmeiras                 0.0        5.0     8.40  \n",
            "1      282  AtlÃ©tico-MG   Palmeiras                 0.0        9.0     2.30  \n",
            "2      282  AtlÃ©tico-MG   Palmeiras                 0.0        4.0     1.40  \n",
            "3      282  AtlÃ©tico-MG   Palmeiras                 0.0       10.0     5.90  \n",
            "4      282  AtlÃ©tico-MG   Palmeiras                 0.0       14.0     2.32  \n",
            "\n",
            "[5 rows x 29 columns]\n",
            "      Id  Rodada  PontosMedia_x-1   Ano  FS_med_x-1  PE_med_x-1  FD_med_x-1  \\\n",
            "0  39017      33             2.14  2018    0.714286    1.523810    0.380952   \n",
            "1  39018      33             2.78  2018    0.518519    1.111111    0.074074   \n",
            "2  39019      33             1.86  2018    0.650000    2.350000    0.500000   \n",
            "3  39020      33             0.42  2018    0.826087    2.521739    0.130435   \n",
            "4  39021      33             2.15  2018    2.300000    2.700000    0.100000   \n",
            "\n",
            "   FF_med_x-1  G_med_x-1  RB_med_x-1  ...  draw_odds  AtletaID  \\\n",
            "0    0.380952   0.285714    0.190476  ...       3.98     37655   \n",
            "1    0.074074   0.000000    1.296296  ...       3.98     38632   \n",
            "2    0.250000   0.100000    1.150000  ...       3.98     50401   \n",
            "3    0.130435   0.000000    1.304348  ...       3.98     51318   \n",
            "4    0.800000   0.050000    1.300000  ...       3.98     60834   \n",
            "\n",
            "               Nome  Pos  Jogos  IDClube    NomeClube  Adversario  \\\n",
            "0      Rafael Moura  ata     22      327  AmÃ©rica-MG     ParanÃ¡   \n",
            "1    Matheus Ferraz  zag     28      327  AmÃ©rica-MG     ParanÃ¡   \n",
            "2    Gerson MagrÃ£o  mei     21      327  AmÃ©rica-MG     ParanÃ¡   \n",
            "3  Leandro Donizete  mei     24      327  AmÃ©rica-MG     ParanÃ¡   \n",
            "4              Luan  ata     21      327  AmÃ©rica-MG     ParanÃ¡   \n",
            "\n",
            "   Preco_variacao_x-1  Preco_x-1  \n",
            "0                1.58       9.79  \n",
            "1                0.03       6.18  \n",
            "2               -0.46       3.10  \n",
            "3                0.31       1.48  \n",
            "4               -0.22       8.79  \n",
            "\n",
            "[5 rows x 28 columns]\n"
          ],
          "name": "stdout"
        }
      ]
    },
    {
      "metadata": {
        "id": "lofE4uX5LDsS",
        "colab_type": "code",
        "colab": {
          "base_uri": "https://localhost:8080/",
          "height": 54
        },
        "outputId": "a012bf70-583e-4a12-abdb-ee9a4c6c213d"
      },
      "cell_type": "code",
      "source": [
        "!ls"
      ],
      "execution_count": 5,
      "outputs": [
        {
          "output_type": "stream",
          "text": [
            "Doubts_Students   r_heilb_test.csv   r_heilb.zip    r_heilb.zip.2\n",
            "r_heilb_full.csv  r_heilb_train.csv  r_heilb.zip.1  sample_data\n"
          ],
          "name": "stdout"
        }
      ]
    }
  ]
}