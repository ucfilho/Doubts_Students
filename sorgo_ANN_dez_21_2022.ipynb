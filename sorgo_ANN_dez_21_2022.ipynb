{
  "nbformat": 4,
  "nbformat_minor": 0,
  "metadata": {
    "colab": {
      "provenance": [],
      "include_colab_link": true
    },
    "kernelspec": {
      "display_name": "Python 3",
      "language": "python",
      "name": "python3"
    }
  },
  "cells": [
    {
      "cell_type": "markdown",
      "metadata": {
        "id": "view-in-github",
        "colab_type": "text"
      },
      "source": [
        "<a href=\"https://colab.research.google.com/github/ucfilho/Doubts_Students/blob/master/sorgo_ANN_dez_21_2022.ipynb\" target=\"_parent\"><img src=\"https://colab.research.google.com/assets/colab-badge.svg\" alt=\"Open In Colab\"/></a>"
      ]
    },
    {
      "cell_type": "code",
      "metadata": {
        "id": "8CK0d8tEzkzW"
      },
      "source": [
        "# bibliotecas usadas\n",
        "import os\n",
        "import numpy as np\n",
        "import pandas as pd\n",
        "import matplotlib.pyplot as plt\n",
        "from scipy import optimize\n",
        "from sklearn.neural_network import MLPRegressor\n",
        "from sklearn.metrics import mean_squared_error\n",
        "from sklearn.metrics import r2_score \n",
        "from mpl_toolkits.mplot3d import Axes3D, axes3d\n",
        "from sklearn.preprocessing import StandardScaler\n",
        "from google.colab import files\n",
        "from sklearn.model_selection import train_test_split"
      ],
      "execution_count": null,
      "outputs": []
    },
    {
      "cell_type": "code",
      "metadata": {
        "id": "hN9aPXQrzkzl",
        "colab": {
          "base_uri": "https://localhost:8080/",
          "height": 78
        },
        "outputId": "5556bc02-e98e-4c79-db22-96abebbca52d"
      },
      "source": [
        "uploaded = files.upload()"
      ],
      "execution_count": null,
      "outputs": [
        {
          "output_type": "display_data",
          "data": {
            "text/plain": [
              "<IPython.core.display.HTML object>"
            ],
            "text/html": [
              "\n",
              "     <input type=\"file\" id=\"files-6058bfa8-5e94-4cea-b6f0-ecaad39e82b6\" name=\"files[]\" multiple disabled\n",
              "        style=\"border:none\" />\n",
              "     <output id=\"result-6058bfa8-5e94-4cea-b6f0-ecaad39e82b6\">\n",
              "      Upload widget is only available when the cell has been executed in the\n",
              "      current browser session. Please rerun this cell to enable.\n",
              "      </output>\n",
              "      <script>// Copyright 2017 Google LLC\n",
              "//\n",
              "// Licensed under the Apache License, Version 2.0 (the \"License\");\n",
              "// you may not use this file except in compliance with the License.\n",
              "// You may obtain a copy of the License at\n",
              "//\n",
              "//      http://www.apache.org/licenses/LICENSE-2.0\n",
              "//\n",
              "// Unless required by applicable law or agreed to in writing, software\n",
              "// distributed under the License is distributed on an \"AS IS\" BASIS,\n",
              "// WITHOUT WARRANTIES OR CONDITIONS OF ANY KIND, either express or implied.\n",
              "// See the License for the specific language governing permissions and\n",
              "// limitations under the License.\n",
              "\n",
              "/**\n",
              " * @fileoverview Helpers for google.colab Python module.\n",
              " */\n",
              "(function(scope) {\n",
              "function span(text, styleAttributes = {}) {\n",
              "  const element = document.createElement('span');\n",
              "  element.textContent = text;\n",
              "  for (const key of Object.keys(styleAttributes)) {\n",
              "    element.style[key] = styleAttributes[key];\n",
              "  }\n",
              "  return element;\n",
              "}\n",
              "\n",
              "// Max number of bytes which will be uploaded at a time.\n",
              "const MAX_PAYLOAD_SIZE = 100 * 1024;\n",
              "\n",
              "function _uploadFiles(inputId, outputId) {\n",
              "  const steps = uploadFilesStep(inputId, outputId);\n",
              "  const outputElement = document.getElementById(outputId);\n",
              "  // Cache steps on the outputElement to make it available for the next call\n",
              "  // to uploadFilesContinue from Python.\n",
              "  outputElement.steps = steps;\n",
              "\n",
              "  return _uploadFilesContinue(outputId);\n",
              "}\n",
              "\n",
              "// This is roughly an async generator (not supported in the browser yet),\n",
              "// where there are multiple asynchronous steps and the Python side is going\n",
              "// to poll for completion of each step.\n",
              "// This uses a Promise to block the python side on completion of each step,\n",
              "// then passes the result of the previous step as the input to the next step.\n",
              "function _uploadFilesContinue(outputId) {\n",
              "  const outputElement = document.getElementById(outputId);\n",
              "  const steps = outputElement.steps;\n",
              "\n",
              "  const next = steps.next(outputElement.lastPromiseValue);\n",
              "  return Promise.resolve(next.value.promise).then((value) => {\n",
              "    // Cache the last promise value to make it available to the next\n",
              "    // step of the generator.\n",
              "    outputElement.lastPromiseValue = value;\n",
              "    return next.value.response;\n",
              "  });\n",
              "}\n",
              "\n",
              "/**\n",
              " * Generator function which is called between each async step of the upload\n",
              " * process.\n",
              " * @param {string} inputId Element ID of the input file picker element.\n",
              " * @param {string} outputId Element ID of the output display.\n",
              " * @return {!Iterable<!Object>} Iterable of next steps.\n",
              " */\n",
              "function* uploadFilesStep(inputId, outputId) {\n",
              "  const inputElement = document.getElementById(inputId);\n",
              "  inputElement.disabled = false;\n",
              "\n",
              "  const outputElement = document.getElementById(outputId);\n",
              "  outputElement.innerHTML = '';\n",
              "\n",
              "  const pickedPromise = new Promise((resolve) => {\n",
              "    inputElement.addEventListener('change', (e) => {\n",
              "      resolve(e.target.files);\n",
              "    });\n",
              "  });\n",
              "\n",
              "  const cancel = document.createElement('button');\n",
              "  inputElement.parentElement.appendChild(cancel);\n",
              "  cancel.textContent = 'Cancel upload';\n",
              "  const cancelPromise = new Promise((resolve) => {\n",
              "    cancel.onclick = () => {\n",
              "      resolve(null);\n",
              "    };\n",
              "  });\n",
              "\n",
              "  // Wait for the user to pick the files.\n",
              "  const files = yield {\n",
              "    promise: Promise.race([pickedPromise, cancelPromise]),\n",
              "    response: {\n",
              "      action: 'starting',\n",
              "    }\n",
              "  };\n",
              "\n",
              "  cancel.remove();\n",
              "\n",
              "  // Disable the input element since further picks are not allowed.\n",
              "  inputElement.disabled = true;\n",
              "\n",
              "  if (!files) {\n",
              "    return {\n",
              "      response: {\n",
              "        action: 'complete',\n",
              "      }\n",
              "    };\n",
              "  }\n",
              "\n",
              "  for (const file of files) {\n",
              "    const li = document.createElement('li');\n",
              "    li.append(span(file.name, {fontWeight: 'bold'}));\n",
              "    li.append(span(\n",
              "        `(${file.type || 'n/a'}) - ${file.size} bytes, ` +\n",
              "        `last modified: ${\n",
              "            file.lastModifiedDate ? file.lastModifiedDate.toLocaleDateString() :\n",
              "                                    'n/a'} - `));\n",
              "    const percent = span('0% done');\n",
              "    li.appendChild(percent);\n",
              "\n",
              "    outputElement.appendChild(li);\n",
              "\n",
              "    const fileDataPromise = new Promise((resolve) => {\n",
              "      const reader = new FileReader();\n",
              "      reader.onload = (e) => {\n",
              "        resolve(e.target.result);\n",
              "      };\n",
              "      reader.readAsArrayBuffer(file);\n",
              "    });\n",
              "    // Wait for the data to be ready.\n",
              "    let fileData = yield {\n",
              "      promise: fileDataPromise,\n",
              "      response: {\n",
              "        action: 'continue',\n",
              "      }\n",
              "    };\n",
              "\n",
              "    // Use a chunked sending to avoid message size limits. See b/62115660.\n",
              "    let position = 0;\n",
              "    do {\n",
              "      const length = Math.min(fileData.byteLength - position, MAX_PAYLOAD_SIZE);\n",
              "      const chunk = new Uint8Array(fileData, position, length);\n",
              "      position += length;\n",
              "\n",
              "      const base64 = btoa(String.fromCharCode.apply(null, chunk));\n",
              "      yield {\n",
              "        response: {\n",
              "          action: 'append',\n",
              "          file: file.name,\n",
              "          data: base64,\n",
              "        },\n",
              "      };\n",
              "\n",
              "      let percentDone = fileData.byteLength === 0 ?\n",
              "          100 :\n",
              "          Math.round((position / fileData.byteLength) * 100);\n",
              "      percent.textContent = `${percentDone}% done`;\n",
              "\n",
              "    } while (position < fileData.byteLength);\n",
              "  }\n",
              "\n",
              "  // All done.\n",
              "  yield {\n",
              "    response: {\n",
              "      action: 'complete',\n",
              "    }\n",
              "  };\n",
              "}\n",
              "\n",
              "scope.google = scope.google || {};\n",
              "scope.google.colab = scope.google.colab || {};\n",
              "scope.google.colab._files = {\n",
              "  _uploadFiles,\n",
              "  _uploadFilesContinue,\n",
              "};\n",
              "})(self);\n",
              "</script> "
            ]
          },
          "metadata": {}
        },
        {
          "output_type": "stream",
          "name": "stdout",
          "text": [
            "Saving sorgopontanegra.csv to sorgopontanegra (4).csv\n"
          ]
        }
      ]
    },
    {
      "cell_type": "code",
      "metadata": {
        "id": "x_biWwCEzkzp",
        "colab": {
          "base_uri": "https://localhost:8080/"
        },
        "outputId": "910cbdf4-5eb2-4b8f-c81b-9e5efc4468c5"
      },
      "source": [
        "DAT=pd.read_csv(\"sorgopontanegra.csv\")\n",
        "print(DAT.head())"
      ],
      "execution_count": null,
      "outputs": [
        {
          "output_type": "stream",
          "name": "stdout",
          "text": [
            "   Run       SO    IN       GL       Et       Fi       PD        ST         Y1\n",
            "0    1   35.000  15.0  22.0752  39.9938  27.9171  55.5470   27.0752  79.826230\n",
            "1    2   35.000  45.0  22.7325  47.5129  31.0542  65.9902   25.7325  99.782441\n",
            "2    3  165.000  15.0  79.9777  33.2913  45.5551  46.2379   99.9777  84.833595\n",
            "3    4  165.000  45.0  80.0889  39.5216  48.9236  54.8911  102.0889  98.627059\n",
            "4    5   25.445  30.0  16.1789  47.5580  30.0440  66.0528   19.1789  97.422376\n"
          ]
        }
      ]
    },
    {
      "cell_type": "code",
      "source": [
        "Col_Indep=['SO','IN']\n",
        "names =[ 'Et']"
      ],
      "metadata": {
        "id": "rlIOjl-t08GR"
      },
      "execution_count": null,
      "outputs": []
    },
    {
      "cell_type": "code",
      "source": [
        "nrows, ncols = DAT.shape\n",
        "itrain, itest =train_test_split(range(nrows), test_size=0.2,random_state=11) # 2,3,4,5,6,7,8,9,10,11,22"
      ],
      "metadata": {
        "id": "tD3KXTcOyeE4"
      },
      "execution_count": null,
      "outputs": []
    },
    {
      "cell_type": "markdown",
      "source": [],
      "metadata": {
        "id": "-3FHW37WCpdg"
      }
    },
    {
      "cell_type": "code",
      "metadata": {
        "id": "XX6YzHtEzkzy"
      },
      "source": [
        "# separa as colunas de interesse\n",
        "cols = len(Col_Indep)\n",
        "Index=range(1,cols+1)\n",
        "Dat_Select=[]\n",
        "x_train=DAT.iloc[itrain,Index].copy()\n",
        "y_train=DAT.iloc[itrain,-1].copy()\n",
        "x_test = DAT.iloc[itest,Index].copy()\n",
        "y_test = DAT.iloc[itest,-1].copy()"
      ],
      "execution_count": null,
      "outputs": []
    },
    {
      "cell_type": "code",
      "source": [
        "scaler_x = StandardScaler().fit(DAT.iloc[:,Index])\n",
        "scaler_y = StandardScaler().fit(np.array(DAT.iloc[:,-1]).reshape(-1,1))"
      ],
      "metadata": {
        "id": "QA-0bETZZg4P"
      },
      "execution_count": null,
      "outputs": []
    },
    {
      "cell_type": "code",
      "source": [
        "x_train = scaler_x.transform(x_train)\n",
        "x_test = scaler_x.transform(x_test)\n",
        "y_train = scaler_y.transform(np.array(y_train).reshape(-1, 1))\n",
        "y_test = scaler_y.transform(np.array(y_test).reshape(-1, 1))"
      ],
      "metadata": {
        "id": "bgiOg3LYZnWe"
      },
      "execution_count": null,
      "outputs": []
    },
    {
      "cell_type": "code",
      "source": [
        "x_train"
      ],
      "metadata": {
        "colab": {
          "base_uri": "https://localhost:8080/"
        },
        "id": "R0M9Ju9FfECc",
        "outputId": "3bf8e144-0947-417a-c7c4-735ad444192e"
      },
      "execution_count": null,
      "outputs": [
        {
          "output_type": "execute_result",
          "data": {
            "text/plain": [
              "array([[ 1.61324642,  0.024346  ],\n",
              "       [-1.20778379,  0.024346  ],\n",
              "       [-1.02694488,  1.21121361],\n",
              "       [ 1.43344844, -1.1625216 ],\n",
              "       [-1.20778379, -1.47901963],\n",
              "       [ 0.20325178,  0.024346  ],\n",
              "       [ 0.20325178,  1.38528752],\n",
              "       [-1.02694488,  1.21121361],\n",
              "       [-1.02694488, -1.1625216 ],\n",
              "       [ 0.20325178,  0.024346  ]])"
            ]
          },
          "metadata": {},
          "execution_count": 9
        }
      ]
    },
    {
      "cell_type": "code",
      "metadata": {
        "id": "V6wOyxX3zk0I"
      },
      "source": [
        "# define a rede neural \n",
        "def optmANN(x_train,x_test,y_train,y_test):\n",
        "  resp_scored = []\n",
        "  for i in range(1,10):\n",
        "    r_calc =[]\n",
        "    N_Hidden = i\n",
        "    clf = MLPRegressor(solver='lbfgs',activation='tanh',\n",
        "                      alpha=1e-5,hidden_layer_sizes=(N_Hidden), \n",
        "                        random_state=1)\n",
        "    clf.fit(x_train, y_train)\n",
        "    y_calc_train=clf.predict(x_train)\n",
        "    y_calc_test=clf.predict(x_test)\n",
        "    y_calc_train=pd.DataFrame(y_calc_train)\n",
        "    y_calc_test=pd.DataFrame(y_calc_test)\n",
        "    r2_test= r2_score(y_test,y_calc_test)\n",
        "    r2_train = r2_score(y_train,y_calc_train)\n",
        "    r_calc.append(i)\n",
        "    r_calc.append(r2_train)\n",
        "    r_calc.append(r2_test)\n",
        "    resp_scored.append(r_calc)\n",
        "\n",
        "  df = pd.DataFrame(resp_scored,columns=['hidden','r2 train','r2 test'])\n",
        "  return df"
      ],
      "execution_count": null,
      "outputs": []
    },
    {
      "cell_type": "code",
      "source": [
        "df = optmANN(x_train,x_test,y_train,y_test)\n",
        "df"
      ],
      "metadata": {
        "colab": {
          "base_uri": "https://localhost:8080/",
          "height": 768
        },
        "id": "2U62qN9xxKZu",
        "outputId": "3e6d8dee-67ce-4a5f-d540-86899bd1d924"
      },
      "execution_count": null,
      "outputs": [
        {
          "output_type": "stream",
          "name": "stderr",
          "text": [
            "/usr/local/lib/python3.8/dist-packages/sklearn/neural_network/_multilayer_perceptron.py:1599: DataConversionWarning: A column-vector y was passed when a 1d array was expected. Please change the shape of y to (n_samples, ), for example using ravel().\n",
            "  y = column_or_1d(y, warn=True)\n",
            "/usr/local/lib/python3.8/dist-packages/sklearn/neural_network/_multilayer_perceptron.py:1599: DataConversionWarning: A column-vector y was passed when a 1d array was expected. Please change the shape of y to (n_samples, ), for example using ravel().\n",
            "  y = column_or_1d(y, warn=True)\n",
            "/usr/local/lib/python3.8/dist-packages/sklearn/neural_network/_multilayer_perceptron.py:1599: DataConversionWarning: A column-vector y was passed when a 1d array was expected. Please change the shape of y to (n_samples, ), for example using ravel().\n",
            "  y = column_or_1d(y, warn=True)\n",
            "/usr/local/lib/python3.8/dist-packages/sklearn/neural_network/_multilayer_perceptron.py:1599: DataConversionWarning: A column-vector y was passed when a 1d array was expected. Please change the shape of y to (n_samples, ), for example using ravel().\n",
            "  y = column_or_1d(y, warn=True)\n",
            "/usr/local/lib/python3.8/dist-packages/sklearn/neural_network/_multilayer_perceptron.py:1599: DataConversionWarning: A column-vector y was passed when a 1d array was expected. Please change the shape of y to (n_samples, ), for example using ravel().\n",
            "  y = column_or_1d(y, warn=True)\n",
            "/usr/local/lib/python3.8/dist-packages/sklearn/neural_network/_multilayer_perceptron.py:1599: DataConversionWarning: A column-vector y was passed when a 1d array was expected. Please change the shape of y to (n_samples, ), for example using ravel().\n",
            "  y = column_or_1d(y, warn=True)\n",
            "/usr/local/lib/python3.8/dist-packages/sklearn/neural_network/_multilayer_perceptron.py:549: ConvergenceWarning: lbfgs failed to converge (status=1):\n",
            "STOP: TOTAL NO. of ITERATIONS REACHED LIMIT.\n",
            "\n",
            "Increase the number of iterations (max_iter) or scale the data as shown in:\n",
            "    https://scikit-learn.org/stable/modules/preprocessing.html\n",
            "  self.n_iter_ = _check_optimize_result(\"lbfgs\", opt_res, self.max_iter)\n",
            "/usr/local/lib/python3.8/dist-packages/sklearn/neural_network/_multilayer_perceptron.py:1599: DataConversionWarning: A column-vector y was passed when a 1d array was expected. Please change the shape of y to (n_samples, ), for example using ravel().\n",
            "  y = column_or_1d(y, warn=True)\n",
            "/usr/local/lib/python3.8/dist-packages/sklearn/neural_network/_multilayer_perceptron.py:1599: DataConversionWarning: A column-vector y was passed when a 1d array was expected. Please change the shape of y to (n_samples, ), for example using ravel().\n",
            "  y = column_or_1d(y, warn=True)\n",
            "/usr/local/lib/python3.8/dist-packages/sklearn/neural_network/_multilayer_perceptron.py:1599: DataConversionWarning: A column-vector y was passed when a 1d array was expected. Please change the shape of y to (n_samples, ), for example using ravel().\n",
            "  y = column_or_1d(y, warn=True)\n"
          ]
        },
        {
          "output_type": "execute_result",
          "data": {
            "text/plain": [
              "   hidden  r2 train    r2 test\n",
              "0       1  0.500091  -1.526942\n",
              "1       2  0.790940   0.016447\n",
              "2       3  0.793791   0.921422\n",
              "3       4  0.795019 -18.047204\n",
              "4       5  0.795019  -8.284893\n",
              "5       6  0.794922  -2.280074\n",
              "6       7  0.795019 -44.893154\n",
              "7       8  0.795019  -5.672135\n",
              "8       9  0.795019 -48.118992"
            ],
            "text/html": [
              "\n",
              "  <div id=\"df-5391b726-2246-4b68-a530-a676d02b775a\">\n",
              "    <div class=\"colab-df-container\">\n",
              "      <div>\n",
              "<style scoped>\n",
              "    .dataframe tbody tr th:only-of-type {\n",
              "        vertical-align: middle;\n",
              "    }\n",
              "\n",
              "    .dataframe tbody tr th {\n",
              "        vertical-align: top;\n",
              "    }\n",
              "\n",
              "    .dataframe thead th {\n",
              "        text-align: right;\n",
              "    }\n",
              "</style>\n",
              "<table border=\"1\" class=\"dataframe\">\n",
              "  <thead>\n",
              "    <tr style=\"text-align: right;\">\n",
              "      <th></th>\n",
              "      <th>hidden</th>\n",
              "      <th>r2 train</th>\n",
              "      <th>r2 test</th>\n",
              "    </tr>\n",
              "  </thead>\n",
              "  <tbody>\n",
              "    <tr>\n",
              "      <th>0</th>\n",
              "      <td>1</td>\n",
              "      <td>0.500091</td>\n",
              "      <td>-1.526942</td>\n",
              "    </tr>\n",
              "    <tr>\n",
              "      <th>1</th>\n",
              "      <td>2</td>\n",
              "      <td>0.790940</td>\n",
              "      <td>0.016447</td>\n",
              "    </tr>\n",
              "    <tr>\n",
              "      <th>2</th>\n",
              "      <td>3</td>\n",
              "      <td>0.793791</td>\n",
              "      <td>0.921422</td>\n",
              "    </tr>\n",
              "    <tr>\n",
              "      <th>3</th>\n",
              "      <td>4</td>\n",
              "      <td>0.795019</td>\n",
              "      <td>-18.047204</td>\n",
              "    </tr>\n",
              "    <tr>\n",
              "      <th>4</th>\n",
              "      <td>5</td>\n",
              "      <td>0.795019</td>\n",
              "      <td>-8.284893</td>\n",
              "    </tr>\n",
              "    <tr>\n",
              "      <th>5</th>\n",
              "      <td>6</td>\n",
              "      <td>0.794922</td>\n",
              "      <td>-2.280074</td>\n",
              "    </tr>\n",
              "    <tr>\n",
              "      <th>6</th>\n",
              "      <td>7</td>\n",
              "      <td>0.795019</td>\n",
              "      <td>-44.893154</td>\n",
              "    </tr>\n",
              "    <tr>\n",
              "      <th>7</th>\n",
              "      <td>8</td>\n",
              "      <td>0.795019</td>\n",
              "      <td>-5.672135</td>\n",
              "    </tr>\n",
              "    <tr>\n",
              "      <th>8</th>\n",
              "      <td>9</td>\n",
              "      <td>0.795019</td>\n",
              "      <td>-48.118992</td>\n",
              "    </tr>\n",
              "  </tbody>\n",
              "</table>\n",
              "</div>\n",
              "      <button class=\"colab-df-convert\" onclick=\"convertToInteractive('df-5391b726-2246-4b68-a530-a676d02b775a')\"\n",
              "              title=\"Convert this dataframe to an interactive table.\"\n",
              "              style=\"display:none;\">\n",
              "        \n",
              "  <svg xmlns=\"http://www.w3.org/2000/svg\" height=\"24px\"viewBox=\"0 0 24 24\"\n",
              "       width=\"24px\">\n",
              "    <path d=\"M0 0h24v24H0V0z\" fill=\"none\"/>\n",
              "    <path d=\"M18.56 5.44l.94 2.06.94-2.06 2.06-.94-2.06-.94-.94-2.06-.94 2.06-2.06.94zm-11 1L8.5 8.5l.94-2.06 2.06-.94-2.06-.94L8.5 2.5l-.94 2.06-2.06.94zm10 10l.94 2.06.94-2.06 2.06-.94-2.06-.94-.94-2.06-.94 2.06-2.06.94z\"/><path d=\"M17.41 7.96l-1.37-1.37c-.4-.4-.92-.59-1.43-.59-.52 0-1.04.2-1.43.59L10.3 9.45l-7.72 7.72c-.78.78-.78 2.05 0 2.83L4 21.41c.39.39.9.59 1.41.59.51 0 1.02-.2 1.41-.59l7.78-7.78 2.81-2.81c.8-.78.8-2.07 0-2.86zM5.41 20L4 18.59l7.72-7.72 1.47 1.35L5.41 20z\"/>\n",
              "  </svg>\n",
              "      </button>\n",
              "      \n",
              "  <style>\n",
              "    .colab-df-container {\n",
              "      display:flex;\n",
              "      flex-wrap:wrap;\n",
              "      gap: 12px;\n",
              "    }\n",
              "\n",
              "    .colab-df-convert {\n",
              "      background-color: #E8F0FE;\n",
              "      border: none;\n",
              "      border-radius: 50%;\n",
              "      cursor: pointer;\n",
              "      display: none;\n",
              "      fill: #1967D2;\n",
              "      height: 32px;\n",
              "      padding: 0 0 0 0;\n",
              "      width: 32px;\n",
              "    }\n",
              "\n",
              "    .colab-df-convert:hover {\n",
              "      background-color: #E2EBFA;\n",
              "      box-shadow: 0px 1px 2px rgba(60, 64, 67, 0.3), 0px 1px 3px 1px rgba(60, 64, 67, 0.15);\n",
              "      fill: #174EA6;\n",
              "    }\n",
              "\n",
              "    [theme=dark] .colab-df-convert {\n",
              "      background-color: #3B4455;\n",
              "      fill: #D2E3FC;\n",
              "    }\n",
              "\n",
              "    [theme=dark] .colab-df-convert:hover {\n",
              "      background-color: #434B5C;\n",
              "      box-shadow: 0px 1px 3px 1px rgba(0, 0, 0, 0.15);\n",
              "      filter: drop-shadow(0px 1px 2px rgba(0, 0, 0, 0.3));\n",
              "      fill: #FFFFFF;\n",
              "    }\n",
              "  </style>\n",
              "\n",
              "      <script>\n",
              "        const buttonEl =\n",
              "          document.querySelector('#df-5391b726-2246-4b68-a530-a676d02b775a button.colab-df-convert');\n",
              "        buttonEl.style.display =\n",
              "          google.colab.kernel.accessAllowed ? 'block' : 'none';\n",
              "\n",
              "        async function convertToInteractive(key) {\n",
              "          const element = document.querySelector('#df-5391b726-2246-4b68-a530-a676d02b775a');\n",
              "          const dataTable =\n",
              "            await google.colab.kernel.invokeFunction('convertToInteractive',\n",
              "                                                     [key], {});\n",
              "          if (!dataTable) return;\n",
              "\n",
              "          const docLinkHtml = 'Like what you see? Visit the ' +\n",
              "            '<a target=\"_blank\" href=https://colab.research.google.com/notebooks/data_table.ipynb>data table notebook</a>'\n",
              "            + ' to learn more about interactive tables.';\n",
              "          element.innerHTML = '';\n",
              "          dataTable['output_type'] = 'display_data';\n",
              "          await google.colab.output.renderOutput(dataTable, element);\n",
              "          const docLink = document.createElement('div');\n",
              "          docLink.innerHTML = docLinkHtml;\n",
              "          element.appendChild(docLink);\n",
              "        }\n",
              "      </script>\n",
              "    </div>\n",
              "  </div>\n",
              "  "
            ]
          },
          "metadata": {},
          "execution_count": 11
        }
      ]
    },
    {
      "cell_type": "code",
      "source": [
        "# define a rede neural \n",
        "N_Hidden= 3\n",
        "clf = MLPRegressor(solver='lbfgs',activation='tanh',alpha=1e-5,hidden_layer_sizes=(N_Hidden), \n",
        "                    random_state=1)\n",
        "clf.fit(x_train, y_train)"
      ],
      "metadata": {
        "colab": {
          "base_uri": "https://localhost:8080/"
        },
        "id": "MwWt-NA2hopK",
        "outputId": "fdcc9ef3-4c50-4df9-c1de-c4920c662648"
      },
      "execution_count": null,
      "outputs": [
        {
          "output_type": "stream",
          "name": "stderr",
          "text": [
            "/usr/local/lib/python3.8/dist-packages/sklearn/neural_network/_multilayer_perceptron.py:1599: DataConversionWarning: A column-vector y was passed when a 1d array was expected. Please change the shape of y to (n_samples, ), for example using ravel().\n",
            "  y = column_or_1d(y, warn=True)\n"
          ]
        },
        {
          "output_type": "execute_result",
          "data": {
            "text/plain": [
              "MLPRegressor(activation='tanh', alpha=1e-05, hidden_layer_sizes=3,\n",
              "             random_state=1, solver='lbfgs')"
            ]
          },
          "metadata": {},
          "execution_count": 12
        }
      ]
    },
    {
      "cell_type": "code",
      "metadata": {
        "id": "S-ZMrvP9zk0R"
      },
      "source": [
        "# usa a rede neural treina em calculos para treino e teste\n",
        "y_calc_train=clf.predict(x_train)\n",
        "y_calc_test=clf.predict(x_test)"
      ],
      "execution_count": null,
      "outputs": []
    },
    {
      "cell_type": "code",
      "metadata": {
        "id": "z0k-MXzVzk0V"
      },
      "source": [
        "# transforma a saida da rede em dataframe \n",
        "y_calc_train=pd.DataFrame(y_calc_train)\n",
        "y_calc_test=pd.DataFrame(y_calc_test)"
      ],
      "execution_count": null,
      "outputs": []
    },
    {
      "cell_type": "code",
      "metadata": {
        "id": "C-1ktMvKzk0Z"
      },
      "source": [
        "# transforma dos dados calculados na forma original (nao normatizado)\n",
        "y_calc_train=scaler_y.inverse_transform(y_calc_train)\n",
        "y_calc_test=scaler_y.inverse_transform(y_calc_test)\n",
        "y_test=scaler_y.inverse_transform(y_test)\n",
        "y_train=scaler_y.inverse_transform(y_train)"
      ],
      "execution_count": null,
      "outputs": []
    },
    {
      "cell_type": "code",
      "metadata": {
        "id": "qxgAeFwl64Db",
        "colab": {
          "base_uri": "https://localhost:8080/",
          "height": 279
        },
        "outputId": "2d4282c3-3442-427f-e377-33632553e93c"
      },
      "source": [
        "# expressa os dois dados em figura\n",
        "fig = plt.figure()\n",
        "ax1 = fig.add_subplot(111)\n",
        "\n",
        "ax1.scatter(y_test,y_calc_test, s=10, c='b', marker=\"s\", label='teste')\n",
        "ax1.scatter(y_train,y_calc_train, s=10, c='r', marker=\"o\", label='treino')\n",
        "plt.legend(loc='upper left')\n",
        "plt.ylabel('Y ANN')\n",
        "plt.xlabel('Y real')\n",
        "plt.show()"
      ],
      "execution_count": null,
      "outputs": [
        {
          "output_type": "display_data",
          "data": {
            "text/plain": [
              "<Figure size 432x288 with 1 Axes>"
            ],
            "image/png": "[encoded data removed]"
          },
          "metadata": {
            "needs_background": "light"
          }
        }
      ]
    },
    {
      "cell_type": "code",
      "source": [
        "r2_test= r2_score(y_test,y_calc_test)\n",
        "r2_train = r2_score(y_train,y_calc_train)\n",
        "print('r2 (train)=',r2_train)\n",
        "print('r2 (test)=',r2_test)"
      ],
      "metadata": {
        "id": "lkzcUc2X_T5K",
        "colab": {
          "base_uri": "https://localhost:8080/"
        },
        "outputId": "b1bbbbdd-1a2d-42bb-ad9e-a1f6c986d5a3"
      },
      "execution_count": null,
      "outputs": [
        {
          "output_type": "stream",
          "name": "stdout",
          "text": [
            "r2 (train)= 0.7937911318186505\n",
            "r2 (test)= 0.9214219944708713\n"
          ]
        }
      ]
    },
    {
      "cell_type": "code",
      "source": [
        "y_calc_train"
      ],
      "metadata": {
        "colab": {
          "base_uri": "https://localhost:8080/"
        },
        "id": "xAc0bGdFc5hM",
        "outputId": "5bc8d170-097f-4dce-ac1f-d26fc15df5b3"
      },
      "execution_count": null,
      "outputs": [
        {
          "output_type": "execute_result",
          "data": {
            "text/plain": [
              "array([[ 82.59310105],\n",
              "       [ 98.38372257],\n",
              "       [135.71267946],\n",
              "       [ 82.59214266],\n",
              "       [183.04023674],\n",
              "       [ 88.74725503],\n",
              "       [ 98.16882736],\n",
              "       [135.71267946],\n",
              "       [ 82.68538365],\n",
              "       [ 88.74725503]])"
            ]
          },
          "metadata": {},
          "execution_count": 18
        }
      ]
    },
    {
      "cell_type": "code",
      "source": [
        "y_train"
      ],
      "metadata": {
        "colab": {
          "base_uri": "https://localhost:8080/"
        },
        "id": "H3At8KB5dvzm",
        "outputId": "605386d3-fb72-4dd4-ea6c-242860538ed2"
      },
      "execution_count": null,
      "outputs": [
        {
          "output_type": "execute_result",
          "data": {
            "text/plain": [
              "array([[ 83.22667582],\n",
              "       [ 97.42237624],\n",
              "       [171.6375654 ],\n",
              "       [ 84.833595  ],\n",
              "       [183.0462616 ],\n",
              "       [ 90.709563  ],\n",
              "       [ 99.16007418],\n",
              "       [ 99.78244101],\n",
              "       [ 79.82623045],\n",
              "       [ 86.75705952]])"
            ]
          },
          "metadata": {},
          "execution_count": 19
        }
      ]
    },
    {
      "cell_type": "code",
      "source": [
        "DAT"
      ],
      "metadata": {
        "colab": {
          "base_uri": "https://localhost:8080/",
          "height": 457
        },
        "id": "lUUmj7mQdCze",
        "outputId": "13d04b07-148c-4603-e18d-cfe422dc6ab9"
      },
      "execution_count": null,
      "outputs": [
        {
          "output_type": "execute_result",
          "data": {
            "text/plain": [
              "    Run       SO    IN        GL       Et       Fi         PD        ST  \\\n",
              "0     1   35.000  15.0   22.0752  39.9938  27.9171  55.547000   27.0752   \n",
              "1     2   35.000  45.0   22.7325  47.5129  31.0542  65.990200   25.7325   \n",
              "2     3  165.000  15.0   79.9777  33.2913  45.5551  46.237900   99.9777   \n",
              "3     4  165.000  45.0   80.0889  39.5216  48.9236  54.891100  102.0889   \n",
              "4     5   25.445  30.0   16.1789  47.5580  30.0440  66.052800   19.1789   \n",
              "5     6  174.500  30.0  109.2821  33.7567  45.9617  46.884300  109.2821   \n",
              "6     7  100.000  12.8   49.8091  33.2313  41.6670  46.154600   64.8091   \n",
              "7     8  100.000  47.2   55.3959  38.5110  43.7050  53.487500   59.9659   \n",
              "8     9  100.000  30.0   53.9595  34.8771  44.7440  48.440400   59.5295   \n",
              "9    10  100.000  30.0   56.2054  34.7108  42.7861  48.209400   61.7754   \n",
              "10   11  100.000  30.0   53.1730  34.5106  44.2346  47.931500   58.7430   \n",
              "11   12   35.000  45.0   23.5441  49.4318  30.1314  68.655300   26.8441   \n",
              "12   13   25.445  11.0   17.4400  46.1230  30.4560  64.059709   18.6451   \n",
              "\n",
              "            Y1  \n",
              "0    79.826230  \n",
              "1    99.782441  \n",
              "2    84.833595  \n",
              "3    98.627059  \n",
              "4    97.422376  \n",
              "5    83.226676  \n",
              "6    79.171252  \n",
              "7    99.160074  \n",
              "8    90.461489  \n",
              "9    86.757060  \n",
              "10   90.709563  \n",
              "11  171.637565  \n",
              "12  183.046262  "
            ],
            "text/html": [
              "\n",
              "  <div id=\"df-eb2983d2-5f6a-451a-a4e9-2e30a24bdc72\">\n",
              "    <div class=\"colab-df-container\">\n",
              "      <div>\n",
              "<style scoped>\n",
              "    .dataframe tbody tr th:only-of-type {\n",
              "        vertical-align: middle;\n",
              "    }\n",
              "\n",
              "    .dataframe tbody tr th {\n",
              "        vertical-align: top;\n",
              "    }\n",
              "\n",
              "    .dataframe thead th {\n",
              "        text-align: right;\n",
              "    }\n",
              "</style>\n",
              "<table border=\"1\" class=\"dataframe\">\n",
              "  <thead>\n",
              "    <tr style=\"text-align: right;\">\n",
              "      <th></th>\n",
              "      <th>Run</th>\n",
              "      <th>SO</th>\n",
              "      <th>IN</th>\n",
              "      <th>GL</th>\n",
              "      <th>Et</th>\n",
              "      <th>Fi</th>\n",
              "      <th>PD</th>\n",
              "      <th>ST</th>\n",
              "      <th>Y1</th>\n",
              "    </tr>\n",
              "  </thead>\n",
              "  <tbody>\n",
              "    <tr>\n",
              "      <th>0</th>\n",
              "      <td>1</td>\n",
              "      <td>35.000</td>\n",
              "      <td>15.0</td>\n",
              "      <td>22.0752</td>\n",
              "      <td>39.9938</td>\n",
              "      <td>27.9171</td>\n",
              "      <td>55.547000</td>\n",
              "      <td>27.0752</td>\n",
              "      <td>79.826230</td>\n",
              "    </tr>\n",
              "    <tr>\n",
              "      <th>1</th>\n",
              "      <td>2</td>\n",
              "      <td>35.000</td>\n",
              "      <td>45.0</td>\n",
              "      <td>22.7325</td>\n",
              "      <td>47.5129</td>\n",
              "      <td>31.0542</td>\n",
              "      <td>65.990200</td>\n",
              "      <td>25.7325</td>\n",
              "      <td>99.782441</td>\n",
              "    </tr>\n",
              "    <tr>\n",
              "      <th>2</th>\n",
              "      <td>3</td>\n",
              "      <td>165.000</td>\n",
              "      <td>15.0</td>\n",
              "      <td>79.9777</td>\n",
              "      <td>33.2913</td>\n",
              "      <td>45.5551</td>\n",
              "      <td>46.237900</td>\n",
              "      <td>99.9777</td>\n",
              "      <td>84.833595</td>\n",
              "    </tr>\n",
              "    <tr>\n",
              "      <th>3</th>\n",
              "      <td>4</td>\n",
              "      <td>165.000</td>\n",
              "      <td>45.0</td>\n",
              "      <td>80.0889</td>\n",
              "      <td>39.5216</td>\n",
              "      <td>48.9236</td>\n",
              "      <td>54.891100</td>\n",
              "      <td>102.0889</td>\n",
              "      <td>98.627059</td>\n",
              "    </tr>\n",
              "    <tr>\n",
              "      <th>4</th>\n",
              "      <td>5</td>\n",
              "      <td>25.445</td>\n",
              "      <td>30.0</td>\n",
              "      <td>16.1789</td>\n",
              "      <td>47.5580</td>\n",
              "      <td>30.0440</td>\n",
              "      <td>66.052800</td>\n",
              "      <td>19.1789</td>\n",
              "      <td>97.422376</td>\n",
              "    </tr>\n",
              "    <tr>\n",
              "      <th>5</th>\n",
              "      <td>6</td>\n",
              "      <td>174.500</td>\n",
              "      <td>30.0</td>\n",
              "      <td>109.2821</td>\n",
              "      <td>33.7567</td>\n",
              "      <td>45.9617</td>\n",
              "      <td>46.884300</td>\n",
              "      <td>109.2821</td>\n",
              "      <td>83.226676</td>\n",
              "    </tr>\n",
              "    <tr>\n",
              "      <th>6</th>\n",
              "      <td>7</td>\n",
              "      <td>100.000</td>\n",
              "      <td>12.8</td>\n",
              "      <td>49.8091</td>\n",
              "      <td>33.2313</td>\n",
              "      <td>41.6670</td>\n",
              "      <td>46.154600</td>\n",
              "      <td>64.8091</td>\n",
              "      <td>79.171252</td>\n",
              "    </tr>\n",
              "    <tr>\n",
              "      <th>7</th>\n",
              "      <td>8</td>\n",
              "      <td>100.000</td>\n",
              "      <td>47.2</td>\n",
              "      <td>55.3959</td>\n",
              "      <td>38.5110</td>\n",
              "      <td>43.7050</td>\n",
              "      <td>53.487500</td>\n",
              "      <td>59.9659</td>\n",
              "      <td>99.160074</td>\n",
              "    </tr>\n",
              "    <tr>\n",
              "      <th>8</th>\n",
              "      <td>9</td>\n",
              "      <td>100.000</td>\n",
              "      <td>30.0</td>\n",
              "      <td>53.9595</td>\n",
              "      <td>34.8771</td>\n",
              "      <td>44.7440</td>\n",
              "      <td>48.440400</td>\n",
              "      <td>59.5295</td>\n",
              "      <td>90.461489</td>\n",
              "    </tr>\n",
              "    <tr>\n",
              "      <th>9</th>\n",
              "      <td>10</td>\n",
              "      <td>100.000</td>\n",
              "      <td>30.0</td>\n",
              "      <td>56.2054</td>\n",
              "      <td>34.7108</td>\n",
              "      <td>42.7861</td>\n",
              "      <td>48.209400</td>\n",
              "      <td>61.7754</td>\n",
              "      <td>86.757060</td>\n",
              "    </tr>\n",
              "    <tr>\n",
              "      <th>10</th>\n",
              "      <td>11</td>\n",
              "      <td>100.000</td>\n",
              "      <td>30.0</td>\n",
              "      <td>53.1730</td>\n",
              "      <td>34.5106</td>\n",
              "      <td>44.2346</td>\n",
              "      <td>47.931500</td>\n",
              "      <td>58.7430</td>\n",
              "      <td>90.709563</td>\n",
              "    </tr>\n",
              "    <tr>\n",
              "      <th>11</th>\n",
              "      <td>12</td>\n",
              "      <td>35.000</td>\n",
              "      <td>45.0</td>\n",
              "      <td>23.5441</td>\n",
              "      <td>49.4318</td>\n",
              "      <td>30.1314</td>\n",
              "      <td>68.655300</td>\n",
              "      <td>26.8441</td>\n",
              "      <td>171.637565</td>\n",
              "    </tr>\n",
              "    <tr>\n",
              "      <th>12</th>\n",
              "      <td>13</td>\n",
              "      <td>25.445</td>\n",
              "      <td>11.0</td>\n",
              "      <td>17.4400</td>\n",
              "      <td>46.1230</td>\n",
              "      <td>30.4560</td>\n",
              "      <td>64.059709</td>\n",
              "      <td>18.6451</td>\n",
              "      <td>183.046262</td>\n",
              "    </tr>\n",
              "  </tbody>\n",
              "</table>\n",
              "</div>\n",
              "      <button class=\"colab-df-convert\" onclick=\"convertToInteractive('df-eb2983d2-5f6a-451a-a4e9-2e30a24bdc72')\"\n",
              "              title=\"Convert this dataframe to an interactive table.\"\n",
              "              style=\"display:none;\">\n",
              "        \n",
              "  <svg xmlns=\"http://www.w3.org/2000/svg\" height=\"24px\"viewBox=\"0 0 24 24\"\n",
              "       width=\"24px\">\n",
              "    <path d=\"M0 0h24v24H0V0z\" fill=\"none\"/>\n",
              "    <path d=\"M18.56 5.44l.94 2.06.94-2.06 2.06-.94-2.06-.94-.94-2.06-.94 2.06-2.06.94zm-11 1L8.5 8.5l.94-2.06 2.06-.94-2.06-.94L8.5 2.5l-.94 2.06-2.06.94zm10 10l.94 2.06.94-2.06 2.06-.94-2.06-.94-.94-2.06-.94 2.06-2.06.94z\"/><path d=\"M17.41 7.96l-1.37-1.37c-.4-.4-.92-.59-1.43-.59-.52 0-1.04.2-1.43.59L10.3 9.45l-7.72 7.72c-.78.78-.78 2.05 0 2.83L4 21.41c.39.39.9.59 1.41.59.51 0 1.02-.2 1.41-.59l7.78-7.78 2.81-2.81c.8-.78.8-2.07 0-2.86zM5.41 20L4 18.59l7.72-7.72 1.47 1.35L5.41 20z\"/>\n",
              "  </svg>\n",
              "      </button>\n",
              "      \n",
              "  <style>\n",
              "    .colab-df-container {\n",
              "      display:flex;\n",
              "      flex-wrap:wrap;\n",
              "      gap: 12px;\n",
              "    }\n",
              "\n",
              "    .colab-df-convert {\n",
              "      background-color: #E8F0FE;\n",
              "      border: none;\n",
              "      border-radius: 50%;\n",
              "      cursor: pointer;\n",
              "      display: none;\n",
              "      fill: #1967D2;\n",
              "      height: 32px;\n",
              "      padding: 0 0 0 0;\n",
              "      width: 32px;\n",
              "    }\n",
              "\n",
              "    .colab-df-convert:hover {\n",
              "      background-color: #E2EBFA;\n",
              "      box-shadow: 0px 1px 2px rgba(60, 64, 67, 0.3), 0px 1px 3px 1px rgba(60, 64, 67, 0.15);\n",
              "      fill: #174EA6;\n",
              "    }\n",
              "\n",
              "    [theme=dark] .colab-df-convert {\n",
              "      background-color: #3B4455;\n",
              "      fill: #D2E3FC;\n",
              "    }\n",
              "\n",
              "    [theme=dark] .colab-df-convert:hover {\n",
              "      background-color: #434B5C;\n",
              "      box-shadow: 0px 1px 3px 1px rgba(0, 0, 0, 0.15);\n",
              "      filter: drop-shadow(0px 1px 2px rgba(0, 0, 0, 0.3));\n",
              "      fill: #FFFFFF;\n",
              "    }\n",
              "  </style>\n",
              "\n",
              "      <script>\n",
              "        const buttonEl =\n",
              "          document.querySelector('#df-eb2983d2-5f6a-451a-a4e9-2e30a24bdc72 button.colab-df-convert');\n",
              "        buttonEl.style.display =\n",
              "          google.colab.kernel.accessAllowed ? 'block' : 'none';\n",
              "\n",
              "        async function convertToInteractive(key) {\n",
              "          const element = document.querySelector('#df-eb2983d2-5f6a-451a-a4e9-2e30a24bdc72');\n",
              "          const dataTable =\n",
              "            await google.colab.kernel.invokeFunction('convertToInteractive',\n",
              "                                                     [key], {});\n",
              "          if (!dataTable) return;\n",
              "\n",
              "          const docLinkHtml = 'Like what you see? Visit the ' +\n",
              "            '<a target=\"_blank\" href=https://colab.research.google.com/notebooks/data_table.ipynb>data table notebook</a>'\n",
              "            + ' to learn more about interactive tables.';\n",
              "          element.innerHTML = '';\n",
              "          dataTable['output_type'] = 'display_data';\n",
              "          await google.colab.output.renderOutput(dataTable, element);\n",
              "          const docLink = document.createElement('div');\n",
              "          docLink.innerHTML = docLinkHtml;\n",
              "          element.appendChild(docLink);\n",
              "        }\n",
              "      </script>\n",
              "    </div>\n",
              "  </div>\n",
              "  "
            ]
          },
          "metadata": {},
          "execution_count": 20
        }
      ]
    },
    {
      "cell_type": "code",
      "metadata": {
        "id": "ffcIWpGGzk0j"
      },
      "source": [
        "def function(x, clf=clf):\n",
        "  n = len(x)\n",
        "  x=x.reshape((1, n))\n",
        "  df = pd.DataFrame(x)\n",
        "  Y=clf.predict(df)\n",
        "  fun=Y*(-1)\n",
        "  return fun\n"
      ],
      "execution_count": null,
      "outputs": []
    },
    {
      "cell_type": "code",
      "metadata": {
        "id": "hUwDOiuTzk0p"
      },
      "source": [
        "nrows,ncols= x_train.shape\n",
        "bounds = [(-1,1)]*ncols\n",
        "Condicoes = optimize.differential_evolution(function,bounds,\n",
        "                                      init=\"latinhypercube\", # obs: init=\"random\"\n",
        "                                      maxiter=100, popsize=50,recombination=0.5)\n"
      ],
      "execution_count": null,
      "outputs": []
    },
    {
      "cell_type": "code",
      "source": [
        "n = len(bounds)\n",
        "Condicoes=pd.DataFrame(Condicoes.x.reshape(1, n))\n",
        "print(Condicoes)\n",
        "resp = pd.DataFrame(scaler_x.inverse_transform(Condicoes),columns=Col_Indep)\n",
        "print(resp)\n",
        "Y=clf.predict(Condicoes)\n",
        "Y = scaler_y.inverse_transform(Y.reshape(-1,1))\n",
        "print(Y)"
      ],
      "metadata": {
        "id": "w5XI1BFm04nX",
        "colab": {
          "base_uri": "https://localhost:8080/"
        },
        "outputId": "7306dae3-2436-40f6-90a7-f41b5eb28bb0"
      },
      "execution_count": null,
      "outputs": [
        {
          "output_type": "stream",
          "name": "stdout",
          "text": [
            "     0    1\n",
            "0 -1.0  1.0\n",
            "          SO         IN\n",
            "0  36.423703  42.330616\n",
            "[[103.77065581]]\n"
          ]
        }
      ]
    },
    {
      "cell_type": "code",
      "source": [
        "# separa as colunas de interesse\n",
        "x_train=DAT[Col_Indep]\n",
        "y_train=DAT[names]"
      ],
      "metadata": {
        "id": "T60l6Dx9PCyf"
      },
      "execution_count": null,
      "outputs": []
    },
    {
      "cell_type": "code",
      "source": [
        "x_train = scaler_x.transform(x_train)\n",
        "y_train = scaler_y.transform(np.array(y_train).reshape(-1, 1))"
      ],
      "metadata": {
        "id": "xGiIQcHNRl98"
      },
      "execution_count": null,
      "outputs": []
    },
    {
      "cell_type": "code",
      "source": [
        "df = optmANN(x_train,x_train,y_train,y_train)\n",
        "df"
      ],
      "metadata": {
        "id": "YhjkTEEaSLpE",
        "outputId": "f1c885fb-9eca-4a1b-f8df-8f976abe95ee",
        "colab": {
          "base_uri": "https://localhost:8080/",
          "height": 664
        }
      },
      "execution_count": null,
      "outputs": [
        {
          "output_type": "stream",
          "name": "stderr",
          "text": [
            "/usr/local/lib/python3.8/dist-packages/sklearn/neural_network/_multilayer_perceptron.py:1599: DataConversionWarning: A column-vector y was passed when a 1d array was expected. Please change the shape of y to (n_samples, ), for example using ravel().\n",
            "  y = column_or_1d(y, warn=True)\n",
            "/usr/local/lib/python3.8/dist-packages/sklearn/neural_network/_multilayer_perceptron.py:1599: DataConversionWarning: A column-vector y was passed when a 1d array was expected. Please change the shape of y to (n_samples, ), for example using ravel().\n",
            "  y = column_or_1d(y, warn=True)\n",
            "/usr/local/lib/python3.8/dist-packages/sklearn/neural_network/_multilayer_perceptron.py:1599: DataConversionWarning: A column-vector y was passed when a 1d array was expected. Please change the shape of y to (n_samples, ), for example using ravel().\n",
            "  y = column_or_1d(y, warn=True)\n",
            "/usr/local/lib/python3.8/dist-packages/sklearn/neural_network/_multilayer_perceptron.py:1599: DataConversionWarning: A column-vector y was passed when a 1d array was expected. Please change the shape of y to (n_samples, ), for example using ravel().\n",
            "  y = column_or_1d(y, warn=True)\n",
            "/usr/local/lib/python3.8/dist-packages/sklearn/neural_network/_multilayer_perceptron.py:1599: DataConversionWarning: A column-vector y was passed when a 1d array was expected. Please change the shape of y to (n_samples, ), for example using ravel().\n",
            "  y = column_or_1d(y, warn=True)\n",
            "/usr/local/lib/python3.8/dist-packages/sklearn/neural_network/_multilayer_perceptron.py:1599: DataConversionWarning: A column-vector y was passed when a 1d array was expected. Please change the shape of y to (n_samples, ), for example using ravel().\n",
            "  y = column_or_1d(y, warn=True)\n",
            "/usr/local/lib/python3.8/dist-packages/sklearn/neural_network/_multilayer_perceptron.py:1599: DataConversionWarning: A column-vector y was passed when a 1d array was expected. Please change the shape of y to (n_samples, ), for example using ravel().\n",
            "  y = column_or_1d(y, warn=True)\n",
            "/usr/local/lib/python3.8/dist-packages/sklearn/neural_network/_multilayer_perceptron.py:1599: DataConversionWarning: A column-vector y was passed when a 1d array was expected. Please change the shape of y to (n_samples, ), for example using ravel().\n",
            "  y = column_or_1d(y, warn=True)\n",
            "/usr/local/lib/python3.8/dist-packages/sklearn/neural_network/_multilayer_perceptron.py:1599: DataConversionWarning: A column-vector y was passed when a 1d array was expected. Please change the shape of y to (n_samples, ), for example using ravel().\n",
            "  y = column_or_1d(y, warn=True)\n"
          ]
        },
        {
          "output_type": "execute_result",
          "data": {
            "text/plain": [
              "   hidden  r2 train   r2 test\n",
              "0       1  0.923705  0.923705\n",
              "1       2  0.801943  0.801943\n",
              "2       3  0.984661  0.984661\n",
              "3       4  0.995104  0.995104\n",
              "4       5  0.995780  0.995780\n",
              "5       6  0.991970  0.991970\n",
              "6       7  0.995711  0.995711\n",
              "7       8  0.995455  0.995455\n",
              "8       9  0.995610  0.995610"
            ],
            "text/html": [
              "\n",
              "  <div id=\"df-57110c38-2b35-4247-91fc-8d58d63f6e5f\">\n",
              "    <div class=\"colab-df-container\">\n",
              "      <div>\n",
              "<style scoped>\n",
              "    .dataframe tbody tr th:only-of-type {\n",
              "        vertical-align: middle;\n",
              "    }\n",
              "\n",
              "    .dataframe tbody tr th {\n",
              "        vertical-align: top;\n",
              "    }\n",
              "\n",
              "    .dataframe thead th {\n",
              "        text-align: right;\n",
              "    }\n",
              "</style>\n",
              "<table border=\"1\" class=\"dataframe\">\n",
              "  <thead>\n",
              "    <tr style=\"text-align: right;\">\n",
              "      <th></th>\n",
              "      <th>hidden</th>\n",
              "      <th>r2 train</th>\n",
              "      <th>r2 test</th>\n",
              "    </tr>\n",
              "  </thead>\n",
              "  <tbody>\n",
              "    <tr>\n",
              "      <th>0</th>\n",
              "      <td>1</td>\n",
              "      <td>0.923705</td>\n",
              "      <td>0.923705</td>\n",
              "    </tr>\n",
              "    <tr>\n",
              "      <th>1</th>\n",
              "      <td>2</td>\n",
              "      <td>0.801943</td>\n",
              "      <td>0.801943</td>\n",
              "    </tr>\n",
              "    <tr>\n",
              "      <th>2</th>\n",
              "      <td>3</td>\n",
              "      <td>0.984661</td>\n",
              "      <td>0.984661</td>\n",
              "    </tr>\n",
              "    <tr>\n",
              "      <th>3</th>\n",
              "      <td>4</td>\n",
              "      <td>0.995104</td>\n",
              "      <td>0.995104</td>\n",
              "    </tr>\n",
              "    <tr>\n",
              "      <th>4</th>\n",
              "      <td>5</td>\n",
              "      <td>0.995780</td>\n",
              "      <td>0.995780</td>\n",
              "    </tr>\n",
              "    <tr>\n",
              "      <th>5</th>\n",
              "      <td>6</td>\n",
              "      <td>0.991970</td>\n",
              "      <td>0.991970</td>\n",
              "    </tr>\n",
              "    <tr>\n",
              "      <th>6</th>\n",
              "      <td>7</td>\n",
              "      <td>0.995711</td>\n",
              "      <td>0.995711</td>\n",
              "    </tr>\n",
              "    <tr>\n",
              "      <th>7</th>\n",
              "      <td>8</td>\n",
              "      <td>0.995455</td>\n",
              "      <td>0.995455</td>\n",
              "    </tr>\n",
              "    <tr>\n",
              "      <th>8</th>\n",
              "      <td>9</td>\n",
              "      <td>0.995610</td>\n",
              "      <td>0.995610</td>\n",
              "    </tr>\n",
              "  </tbody>\n",
              "</table>\n",
              "</div>\n",
              "      <button class=\"colab-df-convert\" onclick=\"convertToInteractive('df-57110c38-2b35-4247-91fc-8d58d63f6e5f')\"\n",
              "              title=\"Convert this dataframe to an interactive table.\"\n",
              "              style=\"display:none;\">\n",
              "        \n",
              "  <svg xmlns=\"http://www.w3.org/2000/svg\" height=\"24px\"viewBox=\"0 0 24 24\"\n",
              "       width=\"24px\">\n",
              "    <path d=\"M0 0h24v24H0V0z\" fill=\"none\"/>\n",
              "    <path d=\"M18.56 5.44l.94 2.06.94-2.06 2.06-.94-2.06-.94-.94-2.06-.94 2.06-2.06.94zm-11 1L8.5 8.5l.94-2.06 2.06-.94-2.06-.94L8.5 2.5l-.94 2.06-2.06.94zm10 10l.94 2.06.94-2.06 2.06-.94-2.06-.94-.94-2.06-.94 2.06-2.06.94z\"/><path d=\"M17.41 7.96l-1.37-1.37c-.4-.4-.92-.59-1.43-.59-.52 0-1.04.2-1.43.59L10.3 9.45l-7.72 7.72c-.78.78-.78 2.05 0 2.83L4 21.41c.39.39.9.59 1.41.59.51 0 1.02-.2 1.41-.59l7.78-7.78 2.81-2.81c.8-.78.8-2.07 0-2.86zM5.41 20L4 18.59l7.72-7.72 1.47 1.35L5.41 20z\"/>\n",
              "  </svg>\n",
              "      </button>\n",
              "      \n",
              "  <style>\n",
              "    .colab-df-container {\n",
              "      display:flex;\n",
              "      flex-wrap:wrap;\n",
              "      gap: 12px;\n",
              "    }\n",
              "\n",
              "    .colab-df-convert {\n",
              "      background-color: #E8F0FE;\n",
              "      border: none;\n",
              "      border-radius: 50%;\n",
              "      cursor: pointer;\n",
              "      display: none;\n",
              "      fill: #1967D2;\n",
              "      height: 32px;\n",
              "      padding: 0 0 0 0;\n",
              "      width: 32px;\n",
              "    }\n",
              "\n",
              "    .colab-df-convert:hover {\n",
              "      background-color: #E2EBFA;\n",
              "      box-shadow: 0px 1px 2px rgba(60, 64, 67, 0.3), 0px 1px 3px 1px rgba(60, 64, 67, 0.15);\n",
              "      fill: #174EA6;\n",
              "    }\n",
              "\n",
              "    [theme=dark] .colab-df-convert {\n",
              "      background-color: #3B4455;\n",
              "      fill: #D2E3FC;\n",
              "    }\n",
              "\n",
              "    [theme=dark] .colab-df-convert:hover {\n",
              "      background-color: #434B5C;\n",
              "      box-shadow: 0px 1px 3px 1px rgba(0, 0, 0, 0.15);\n",
              "      filter: drop-shadow(0px 1px 2px rgba(0, 0, 0, 0.3));\n",
              "      fill: #FFFFFF;\n",
              "    }\n",
              "  </style>\n",
              "\n",
              "      <script>\n",
              "        const buttonEl =\n",
              "          document.querySelector('#df-57110c38-2b35-4247-91fc-8d58d63f6e5f button.colab-df-convert');\n",
              "        buttonEl.style.display =\n",
              "          google.colab.kernel.accessAllowed ? 'block' : 'none';\n",
              "\n",
              "        async function convertToInteractive(key) {\n",
              "          const element = document.querySelector('#df-57110c38-2b35-4247-91fc-8d58d63f6e5f');\n",
              "          const dataTable =\n",
              "            await google.colab.kernel.invokeFunction('convertToInteractive',\n",
              "                                                     [key], {});\n",
              "          if (!dataTable) return;\n",
              "\n",
              "          const docLinkHtml = 'Like what you see? Visit the ' +\n",
              "            '<a target=\"_blank\" href=https://colab.research.google.com/notebooks/data_table.ipynb>data table notebook</a>'\n",
              "            + ' to learn more about interactive tables.';\n",
              "          element.innerHTML = '';\n",
              "          dataTable['output_type'] = 'display_data';\n",
              "          await google.colab.output.renderOutput(dataTable, element);\n",
              "          const docLink = document.createElement('div');\n",
              "          docLink.innerHTML = docLinkHtml;\n",
              "          element.appendChild(docLink);\n",
              "        }\n",
              "      </script>\n",
              "    </div>\n",
              "  </div>\n",
              "  "
            ]
          },
          "metadata": {},
          "execution_count": 26
        }
      ]
    },
    {
      "cell_type": "code",
      "source": [
        "# define a rede neural \n",
        "N_Hidden= 3\n",
        "clf = MLPRegressor(solver='lbfgs',activation='tanh',alpha=1e-5,hidden_layer_sizes=(N_Hidden), \n",
        "                    random_state=1)\n",
        "clf.fit(x_train, y_train)"
      ],
      "metadata": {
        "id": "HOM-6ctSTK_N",
        "outputId": "1ba37af5-047d-4a4a-d50f-67a7c5b03c40",
        "colab": {
          "base_uri": "https://localhost:8080/"
        }
      },
      "execution_count": null,
      "outputs": [
        {
          "output_type": "stream",
          "name": "stderr",
          "text": [
            "/usr/local/lib/python3.8/dist-packages/sklearn/neural_network/_multilayer_perceptron.py:1599: DataConversionWarning: A column-vector y was passed when a 1d array was expected. Please change the shape of y to (n_samples, ), for example using ravel().\n",
            "  y = column_or_1d(y, warn=True)\n"
          ]
        },
        {
          "output_type": "execute_result",
          "data": {
            "text/plain": [
              "MLPRegressor(activation='tanh', alpha=1e-05, hidden_layer_sizes=3,\n",
              "             random_state=1, solver='lbfgs')"
            ]
          },
          "metadata": {},
          "execution_count": 27
        }
      ]
    },
    {
      "cell_type": "code",
      "source": [
        "def function(x, clf=clf):\n",
        "  n = len(x)\n",
        "  x=x.reshape((1, n))\n",
        "  df = pd.DataFrame(x)\n",
        "  Y=clf.predict(df)\n",
        "  fun=Y*(-1)\n",
        "  return fun\n"
      ],
      "metadata": {
        "id": "DoDV64E1TXtK"
      },
      "execution_count": null,
      "outputs": []
    },
    {
      "cell_type": "code",
      "source": [
        "nrows,ncols= x_train.shape\n",
        "bounds = [(-1,1)]*ncols\n",
        "Condicoes = optimize.differential_evolution(function,bounds,\n",
        "                                      init=\"latinhypercube\", # obs: init=\"random\"\n",
        "                                      maxiter=100, popsize=50,recombination=0.5)"
      ],
      "metadata": {
        "id": "FHofUkpATTKM"
      },
      "execution_count": null,
      "outputs": []
    },
    {
      "cell_type": "code",
      "source": [
        "n = len(bounds)\n",
        "Condicoes=pd.DataFrame(Condicoes.x.reshape(1, n))\n",
        "print(Condicoes)\n",
        "resp = pd.DataFrame(scaler_x.inverse_transform(Condicoes),columns=Col_Indep)\n",
        "print(resp)\n",
        "Y=clf.predict(Condicoes)\n",
        "Y = scaler_y.inverse_transform(Y.reshape(-1,1))\n",
        "print(Y)"
      ],
      "metadata": {
        "id": "0FrR05prTcPj",
        "outputId": "5a4e39eb-1700-4ed8-ee17-e09e3b92d149",
        "colab": {
          "base_uri": "https://localhost:8080/"
        }
      },
      "execution_count": null,
      "outputs": [
        {
          "output_type": "stream",
          "name": "stdout",
          "text": [
            "     0    1\n",
            "0 -1.0  1.0\n",
            "          SO         IN\n",
            "0  36.423689  42.330617\n",
            "[[46.14981507]]\n"
          ]
        }
      ]
    }
  ]
}