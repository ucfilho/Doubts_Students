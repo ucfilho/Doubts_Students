{
 "cells": [
  {
   "cell_type": "code",
   "execution_count": 1,
   "id": "582f594f",
   "metadata": {},
   "outputs": [],
   "source": [
    "# ABRINDO O SITE DO GOOGLE MAPS E ADICIONANDO UM DESTINO : conteudo deste codigo\n",
    "# cria função adiciona_destino\n",
    "# cria função abre_rotas\n",
    "\n",
    "from selenium import webdriver\n",
    "from selenium.webdriver.chrome.service import Service\n",
    "from webdriver_manager.chrome import ChromeDriverManager\n",
    "from webdriver_manager.microsoft import EdgeChromiumDriverManager\n",
    "\n",
    "from selenium.webdriver.common.by import By\n",
    "from selenium.webdriver.support.wait import WebDriverWait\n",
    "from selenium.webdriver.support import expected_conditions as EC\n",
    "from selenium.webdriver.common.keys import Keys\n",
    "\n",
    "from time import sleep\n"
   ]
  },
  {
   "cell_type": "code",
   "execution_count": 2,
   "id": "9c7fd121",
   "metadata": {},
   "outputs": [],
   "source": [
    "# from webdriver_manager.chrome import ChromeDriverManager:\n",
    "#        é utilizada para abrir o google maps no chrome\n",
    "#        pip install webdriver-manager\n",
    "#        caso fosse utilizar o edge:\n",
    "#           from webdriver_manager.microsoft import EdgeChromiumDriverManager"
   ]
  },
  {
   "cell_type": "code",
   "execution_count": 3,
   "id": "42522549",
   "metadata": {},
   "outputs": [],
   "source": [
    "# ADICIONA SEGUNDO DESTINO A ROTA\n",
    "# modifica função adiciona_destino para aceitar mais rotas\n",
    "# cria função esta_na_aba_de_rotas\n",
    "\n",
    "from selenium import webdriver\n",
    "from selenium.webdriver.chrome.service import Service\n",
    "from webdriver_manager.chrome import ChromeDriverManager\n",
    "\n",
    "from selenium.webdriver.common.by import By\n",
    "from selenium.webdriver.support.wait import WebDriverWait\n",
    "from selenium.webdriver.support import expected_conditions as EC\n",
    "from selenium.webdriver.common.keys import Keys\n",
    "\n",
    "from time import sleep\n",
    "\n",
    "\n",
    "service = Service(ChromeDriverManager().install())\n",
    "driver = webdriver.Chrome(service=service)\n",
    "driver.implicitly_wait(2)\n",
    "driver.get(\"https://www.google.com/maps\")\n"
   ]
  },
  {
   "cell_type": "code",
   "execution_count": 4,
   "id": "cddb838c",
   "metadata": {},
   "outputs": [],
   "source": [
    "def esta_na_aba_de_rotas():\n",
    "    xpath = '//button[@aria-label=\"Fechar rotas\"]'\n",
    "    botao_rotas = driver.find_elements(By.XPATH, xpath)\n",
    "    return len(botao_rotas) > 0\n",
    "\n",
    "def adiciona_destino(endereco, num_caixa=1):\n",
    "    if not esta_na_aba_de_rotas():\n",
    "        barra_vazia = driver.find_element(By.ID, 'searchboxinput')\n",
    "        barra_vazia.clear()\n",
    "        barra_vazia.send_keys(endereco)\n",
    "        barra_vazia.send_keys(Keys.RETURN)\n",
    "    else:\n",
    "        xpath = '//div[contains(@id, \"directions-searchbox\")]//input'\n",
    "        caixas = driver.find_elements(By.XPATH, xpath)\n",
    "        caixas = [c for c in caixas if c.is_displayed()]\n",
    "        if len(caixas) >= num_caixa:\n",
    "            caixa_endereco = caixas[num_caixa-1]\n",
    "            caixa_endereco.send_keys(Keys.CONTROL + 'a')\n",
    "            caixa_endereco.send_keys(Keys.DELETE)\n",
    "            caixa_endereco.send_keys(endereco)\n",
    "            caixa_endereco.send_keys(Keys.RETURN)\n",
    "        else:\n",
    "            print(f'Não conseguiimos adicionar o endereço {len(caixas)} | {num_caixa}')\n",
    "\n",
    "\n",
    "def abre_rotas():\n",
    "    xpath = '//button[@data-value=\"Rotas\"]'\n",
    "    wait = WebDriverWait(driver, timeout=5)\n",
    "    botao_rotas = wait.until(EC.presence_of_element_located((By.XPATH, xpath)))\n",
    "    botao_rotas.click()\n",
    "\n",
    "    xpath = '//button[@aria-label=\"Fechar rotas\"]'\n",
    "    wait = WebDriverWait(driver, timeout=5)\n",
    "    botao_rotas = wait.until(EC.presence_of_element_located((By.XPATH, xpath)))\n"
   ]
  },
  {
   "cell_type": "code",
   "execution_count": 5,
   "id": "521cba64",
   "metadata": {},
   "outputs": [],
   "source": [
    "if __name__ == '__main__':\n",
    "\n",
    "    enderecos = [\n",
    "                \"Av. José Bonifácio, 245 - Farroupilha, Porto Alegre - RS, 90040-130\",  #Redenção\n",
    "                \"Av. Borges de Medeiros, 2035 - Menino Deus, Porto Alegre - RS, 90110-150\",  #Marinha\n",
    "                \"Av. Guaíba, 544 - Ipanema, Porto Alegre - RS, 91760-740\", #Orla Ipanema\n",
    "                \"Av. Padre Cacique, 2000 - Praia de Belas, Porto Alegre - RS, 90810-180\", # Iberê\n",
    "                ]\n",
    "    adiciona_destino(enderecos[0], 1)\n",
    "    abre_rotas()\n",
    "\n",
    "    adiciona_destino(enderecos[0], 1)\n",
    "    adiciona_destino(enderecos[1], 2)\n",
    "\n",
    "    sleep(60)"
   ]
  }
 ],
 "metadata": {
  "kernelspec": {
   "display_name": "Python 3 (ipykernel)",
   "language": "python",
   "name": "python3"
  },
  "language_info": {
   "codemirror_mode": {
    "name": "ipython",
    "version": 3
   },
   "file_extension": ".py",
   "mimetype": "text/x-python",
   "name": "python",
   "nbconvert_exporter": "python",
   "pygments_lexer": "ipython3",
   "version": "3.9.18"
  }
 },
 "nbformat": 4,
 "nbformat_minor": 5
}
