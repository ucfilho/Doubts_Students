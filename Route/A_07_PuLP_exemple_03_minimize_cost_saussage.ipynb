{
 "cells": [
  {
   "cell_type": "markdown",
   "id": "bb571f7c",
   "metadata": {},
   "source": [
    "## Example to be solved using PuLP\n",
    "\n",
    "We’re going to make some sausages!\n",
    "\n",
    "We have the following ingredients available to us:\n",
    "\n",
    "| INGREDIENT    | COST(€/KG)  | AVAILABILITY (KG)     |\n",
    "| :---        |    :----:   |          ---: |\n",
    "| Pork     | 4.32       | 30   |\n",
    "| Wheat   | 2.26        | 20   |\n",
    "| Starch   | 1.86       | 17   |\n",
    "\n",
    "We’ll make 2 types of sausage:\n",
    "\n",
    "Economy (>40% Pork) </br>\n",
    "Premium (>60% Pork) </br>\n",
    "One sausage is 50 grams (0.05 kg)</br>\n",
    "\n",
    "According to government regulations, the most starch we can use in our sausages is 25%\n",
    "\n",
    "We have a contract with a butcher, and have already purchased 23 kg pork, that must go in our sausages.\n",
    "\n",
    "We have a demand for 350 economy sausages and 500 premium sausages.\n",
    "\n",
    "We need to figure out how to most cost effectively blend our sausages.\n",
    "\n",
    "Let’s model our problem:\n",
    "\n",
    "pe=Pork in the economy sausages (kg)</br>\n",
    "we=Wheat in the economy sausages (kg)</br>\n",
    "se=Starch in the economy sausages (kg)</br>\n",
    "pp=Pork in the premium sausages (kg)</br>\n",
    "wp=Wheat in the premium sausages (kg)</br>\n",
    "sp=Starch in the premium sausages (kg)</br>\n",
    "\n",
    "We want to minimise costs such that:"
   ]
  },
  {
   "cell_type": "markdown",
   "id": "996fad88",
   "metadata": {},
   "source": [
    "$ Cost=4.32(p_e+p_p)+2.46(w_e+w_p)+1.86(s_e+s_p)$ </br>\n",
    "\n",
    " $ p_e + w_e + s_e = 350 \\times 0.05 $ </br>\n",
    " $ p_p + w_p + s_p = 500 \\times 0.05 $ </br>\n",
    " $ p_e \\geq 0.4(p_e + w_e + s_e) $ </br>\n",
    " $ p_p \\geq 0.6(p_p + w_p + s_p) $ </br>\n",
    " $ s_e \\leq 0.25(p_e + w_e + s_e) $ </br>\n",
    " $ s_p \\leq 0.25(p_p + w_p + s_p) $ </br>\n",
    " $ p_e + p_p \\leq 30 $ </br>\n",
    " $ w_e + w_p \\leq 20 $ </br>\n",
    " $ s_e + s_p \\leq 17 $ </br>\n",
    " $ p_e + p_p \\geq 23 $ </br>"
   ]
  },
  {
   "cell_type": "code",
   "execution_count": 1,
   "id": "e1b8c2b4",
   "metadata": {},
   "outputs": [],
   "source": [
    "import pulp"
   ]
  },
  {
   "cell_type": "code",
   "execution_count": 2,
   "id": "c301201e",
   "metadata": {},
   "outputs": [
    {
     "name": "stderr",
     "output_type": "stream",
     "text": [
      "C:\\Users\\User\\Anaconda3\\lib\\site-packages\\pulp\\pulp.py:1316: UserWarning: Spaces are not permitted in the name. Converted to '_'\n",
      "  warnings.warn(\"Spaces are not permitted in the name. Converted to '_'\")\n"
     ]
    }
   ],
   "source": [
    "# Instantiate our problem class\n",
    "model = pulp.LpProblem(\"Cost minimising blending problem\", pulp.LpMinimize)"
   ]
  },
  {
   "cell_type": "code",
   "execution_count": 3,
   "id": "679b5d70",
   "metadata": {},
   "outputs": [],
   "source": [
    "# Construct our decision variable lists\n",
    "sausage_types = ['economy', 'premium']\n",
    "ingredients = ['pork', 'wheat', 'starch']"
   ]
  },
  {
   "cell_type": "markdown",
   "id": "da2816c3",
   "metadata": {},
   "source": [
    "Each of these decision variables will have similar characteristics (lower bound of 0, continuous variables). Therefore we can use PuLP’s LpVariable object’s dict functionality, we can provide our tuple indices.\n",
    "\n",
    "These tuples will be keys for the ing_weight dict of decision variables"
   ]
  },
  {
   "cell_type": "code",
   "execution_count": 4,
   "id": "c52aa49b",
   "metadata": {},
   "outputs": [],
   "source": [
    "ing_weight = pulp.LpVariable.dicts(\"weight kg\",\n",
    "                                     ((i, j) for i in sausage_types for j in ingredients),\n",
    "                                     lowBound=0,\n",
    "                                     cat='Continuous')"
   ]
  },
  {
   "cell_type": "markdown",
   "id": "cf3ff4c8",
   "metadata": {},
   "source": [
    "PuLP provides an lpSum vector calculation for the sum of a list of linear expressions.\n",
    "\n",
    "Whilst we only have 6 decision variables, I will demonstrate how the problem would be constructed in a way that could be scaled up to many variables using list comprehensions."
   ]
  },
  {
   "cell_type": "code",
   "execution_count": 5,
   "id": "1476e6d5",
   "metadata": {},
   "outputs": [],
   "source": [
    "# Objective Function\n",
    "model += (\n",
    "    pulp.lpSum([\n",
    "        4.32 * ing_weight[(i, 'pork')]\n",
    "        + 2.46 * ing_weight[(i, 'wheat')]\n",
    "        + 1.86 * ing_weight[(i, 'starch')]\n",
    "        for i in sausage_types])\n",
    ")"
   ]
  },
  {
   "cell_type": "code",
   "execution_count": 6,
   "id": "4d652127",
   "metadata": {},
   "outputs": [
    {
     "name": "stderr",
     "output_type": "stream",
     "text": [
      "C:\\Users\\User\\Anaconda3\\lib\\site-packages\\pulp\\pulp.py:1668: UserWarning: Overwriting previously set objective.\n",
      "  warnings.warn(\"Overwriting previously set objective.\")\n"
     ]
    }
   ],
   "source": [
    "# Objective Function\n",
    "model += (\n",
    "    pulp.lpSum([\n",
    "        4.32 * ing_weight[(i, 'pork')]\n",
    "        + 2.46 * ing_weight[(i, 'wheat')]\n",
    "        + 1.86 * ing_weight[(i, 'starch')]\n",
    "        for i in sausage_types])\n",
    ")"
   ]
  },
  {
   "cell_type": "code",
   "execution_count": 7,
   "id": "08940c04",
   "metadata": {},
   "outputs": [],
   "source": [
    "# Constraints\n",
    "# 350 economy and 500 premium sausages at 0.05 kg\n",
    "model += pulp.lpSum([ing_weight['economy', j] for j in ingredients]) == 350 * 0.05\n",
    "model += pulp.lpSum([ing_weight['premium', j] for j in ingredients]) == 500 * 0.05\n",
    "\n",
    "# Economy has >= 40% pork, premium >= 60% pork\n",
    "model += ing_weight['economy', 'pork'] >= (\n",
    "    0.4 * pulp.lpSum([ing_weight['economy', j] for j in ingredients]))\n",
    "\n",
    "model += ing_weight['premium', 'pork'] >= (\n",
    "    0.6 * pulp.lpSum([ing_weight['premium', j] for j in ingredients]))\n",
    "\n",
    "# Sausages must be <= 25% starch\n",
    "model += ing_weight['economy', 'starch'] <= (\n",
    "    0.25 * pulp.lpSum([ing_weight['economy', j] for j in ingredients]))\n",
    "\n",
    "model += ing_weight['premium', 'starch'] <= (\n",
    "    0.25 * pulp.lpSum([ing_weight['premium', j] for j in ingredients]))\n",
    "\n",
    "# We have at most 30 kg of pork, 20 kg of wheat and 17 kg of starch available\n",
    "model += pulp.lpSum([ing_weight[i, 'pork'] for i in sausage_types]) <= 30\n",
    "model += pulp.lpSum([ing_weight[i, 'wheat'] for i in sausage_types]) <= 20\n",
    "model += pulp.lpSum([ing_weight[i, 'starch'] for i in sausage_types]) <= 17\n",
    "\n",
    "# We have at least 23 kg of pork to use up\n",
    "model += pulp.lpSum([ing_weight[i, 'pork'] for i in sausage_types]) >= 23"
   ]
  },
  {
   "cell_type": "code",
   "execution_count": 8,
   "id": "06d3cce6",
   "metadata": {},
   "outputs": [
    {
     "data": {
      "text/plain": [
       "'Optimal'"
      ]
     },
     "execution_count": 8,
     "metadata": {},
     "output_type": "execute_result"
    }
   ],
   "source": [
    "# Solve our problem\n",
    "model.solve()\n",
    "pulp.LpStatus[model.status]"
   ]
  },
  {
   "cell_type": "code",
   "execution_count": 9,
   "id": "44106d4d",
   "metadata": {},
   "outputs": [
    {
     "name": "stdout",
     "output_type": "stream",
     "text": [
      "The weight of pork in economy sausages is 7.0 kg\n",
      "The weight of wheat in economy sausages is 6.125 kg\n",
      "The weight of starch in economy sausages is 4.375 kg\n",
      "The weight of pork in premium sausages is 16.0 kg\n",
      "The weight of wheat in premium sausages is 2.75 kg\n",
      "The weight of starch in premium sausages is 6.25 kg\n"
     ]
    }
   ],
   "source": [
    "for var in ing_weight:\n",
    "    var_value = ing_weight[var].varValue\n",
    "    print(\"The weight of {0} in {1} sausages is {2} kg\".format(var[1], var[0], var_value))"
   ]
  },
  {
   "cell_type": "code",
   "execution_count": 10,
   "id": "3aa4ccf4",
   "metadata": {},
   "outputs": [
    {
     "name": "stdout",
     "output_type": "stream",
     "text": [
      "The total cost is €140.96 for 350 economy sausages and 500 premium sausages\n"
     ]
    }
   ],
   "source": [
    "total_cost = pulp.value(model.objective)\n",
    "print(\"The total cost is €{} for 350 economy sausages and 500 premium sausages\".format(round(total_cost, 2)))"
   ]
  },
  {
   "cell_type": "markdown",
   "id": "080d5944",
   "metadata": {},
   "source": [
    "Source: https://benalexkeen.com/linear-programming-with-python-and-pulp-part-4/"
   ]
  }
 ],
 "metadata": {
  "kernelspec": {
   "display_name": "Python 3 (ipykernel)",
   "language": "python",
   "name": "python3"
  },
  "language_info": {
   "codemirror_mode": {
    "name": "ipython",
    "version": 3
   },
   "file_extension": ".py",
   "mimetype": "text/x-python",
   "name": "python",
   "nbconvert_exporter": "python",
   "pygments_lexer": "ipython3",
   "version": "3.9.18"
  }
 },
 "nbformat": 4,
 "nbformat_minor": 5
}
