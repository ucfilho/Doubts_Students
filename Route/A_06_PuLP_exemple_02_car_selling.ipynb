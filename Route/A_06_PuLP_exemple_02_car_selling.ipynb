{
 "cells": [
  {
   "cell_type": "markdown",
   "id": "bb571f7c",
   "metadata": {},
   "source": [
    "## Example to be solved using PuLP\n",
    "\n",
    "We’re consulting for a boutique car manufacturer, producing luxury cars.\n",
    "\n",
    "They run on one month (30 days) cycles, we have one cycle to show we can provide value.\n",
    "\n",
    "There is one robot, 2 engineers and one detailer in the factory. The detailer has some holiday off, so only has 21 days available.\n",
    "\n",
    "The 2 cars need different time with each resource:\n",
    "\n",
    "Robot time: Car A – 3 days; Car B – 4 days.\n",
    "\n",
    "Engineer time: Car A – 5 days; Car B – 6 days.\n",
    "\n",
    "Detailer time: Car A – 1.5 days; Car B – 3 days.\n",
    "\n",
    "Car A provides €30,000 profit, whilst Car B offers €45,000 profit.\n",
    "\n",
    "At the moment, they produce 4 of each cars per month, for €300,000 profit. Not bad at all, but we think we can do better for them.\n",
    "\n",
    "This can be modelled as follows:\n",
    "\n",
    "Maximise\n",
    "\n",
    "Profit=30,000A+45,000B"
   ]
  },
  {
   "cell_type": "markdown",
   "id": "b338acfa",
   "metadata": {},
   "source": [
    "Subject to:\n",
    "\n",
    "$ A \\geq 0  $ </br>\n",
    "$  B \\geq 0  $ </br>\n",
    "$ 3A + 4B \\leq 30$ </br>\n",
    "$ 5A + 6B \\leq 60$ </br>\n",
    "$1.5A + 3B \\leq 21$ </br>"
   ]
  },
  {
   "cell_type": "code",
   "execution_count": 1,
   "id": "e1b8c2b4",
   "metadata": {},
   "outputs": [],
   "source": [
    "import pulp"
   ]
  },
  {
   "cell_type": "code",
   "execution_count": 2,
   "id": "c301201e",
   "metadata": {},
   "outputs": [
    {
     "name": "stderr",
     "output_type": "stream",
     "text": [
      "C:\\Users\\User\\Anaconda3\\lib\\site-packages\\pulp\\pulp.py:1316: UserWarning: Spaces are not permitted in the name. Converted to '_'\n",
      "  warnings.warn(\"Spaces are not permitted in the name. Converted to '_'\")\n"
     ]
    }
   ],
   "source": [
    "# Instantiate our problem class\n",
    "model = pulp.LpProblem(\"Profit maximising problem\", pulp.LpMaximize)"
   ]
  },
  {
   "cell_type": "code",
   "execution_count": 3,
   "id": "679b5d70",
   "metadata": {},
   "outputs": [],
   "source": [
    "A = pulp.LpVariable('A', lowBound=0, cat='Integer')\n",
    "B = pulp.LpVariable('B', lowBound=0, cat='Integer')\n",
    "# the decision variables in this case won’t be continuous (We can’t sell half a car!), so the category is integer."
   ]
  },
  {
   "cell_type": "code",
   "execution_count": 4,
   "id": "c52aa49b",
   "metadata": {},
   "outputs": [],
   "source": [
    "# Objective function\n",
    "model += 30000 * A + 45000 * B, \"Profit\""
   ]
  },
  {
   "cell_type": "code",
   "execution_count": 5,
   "id": "1476e6d5",
   "metadata": {},
   "outputs": [],
   "source": [
    "# Constraints\n",
    "model += 3 * A + 4 * B <= 30\n",
    "model += 5 * A + 6 * B <= 60\n",
    "model += 1.5 * A + 3 * B <= 21"
   ]
  },
  {
   "cell_type": "code",
   "execution_count": 6,
   "id": "4d652127",
   "metadata": {},
   "outputs": [
    {
     "data": {
      "text/plain": [
       "'Optimal'"
      ]
     },
     "execution_count": 6,
     "metadata": {},
     "output_type": "execute_result"
    }
   ],
   "source": [
    "# Solve our problem\n",
    "model.solve()\n",
    "pulp.LpStatus[model.status]"
   ]
  },
  {
   "cell_type": "code",
   "execution_count": 7,
   "id": "08940c04",
   "metadata": {},
   "outputs": [
    {
     "name": "stdout",
     "output_type": "stream",
     "text": [
      "Production of Car A = 2.0\n",
      "Production of Car B = 6.0\n"
     ]
    }
   ],
   "source": [
    "# Print our decision variable values\n",
    "print(\"Production of Car A = {}\".format(A.varValue) )\n",
    "print(\"Production of Car B = {}\".format(B.varValue)) "
   ]
  },
  {
   "cell_type": "code",
   "execution_count": 8,
   "id": "06d3cce6",
   "metadata": {},
   "outputs": [
    {
     "name": "stdout",
     "output_type": "stream",
     "text": [
      "330000.0\n"
     ]
    }
   ],
   "source": [
    "# Print our objective function value\n",
    "print(pulp.value(model.objective)) "
   ]
  },
  {
   "cell_type": "markdown",
   "id": "080d5944",
   "metadata": {},
   "source": [
    "Source: https://benalexkeen.com/linear-programming-with-python-and-pulp-part-3/"
   ]
  },
  {
   "cell_type": "code",
   "execution_count": null,
   "id": "44106d4d",
   "metadata": {},
   "outputs": [],
   "source": []
  }
 ],
 "metadata": {
  "kernelspec": {
   "display_name": "Python 3 (ipykernel)",
   "language": "python",
   "name": "python3"
  },
  "language_info": {
   "codemirror_mode": {
    "name": "ipython",
    "version": 3
   },
   "file_extension": ".py",
   "mimetype": "text/x-python",
   "name": "python",
   "nbconvert_exporter": "python",
   "pygments_lexer": "ipython3",
   "version": "3.9.18"
  }
 },
 "nbformat": 4,
 "nbformat_minor": 5
}
