{
 "cells": [
  {
   "cell_type": "markdown",
   "id": "67f0a596",
   "metadata": {},
   "source": [
    "## Example to be solved using PuLP\n",
    "\n",
    "A furniture company produces a variety of products. One department specializes in wood tables, chairs, and bookcases. These are made using three resources labor, wood, and machine time. The department has 60 hours of labor available each day, 16 hours of machine time, and 400 board feet of wood. A consultant has developed a linear programming model for the department.\n",
    "\n",
    "x1= quantity of tables\n",
    "\n",
    "x2= quantity of chairs\n",
    "\n",
    "x3= quantity of bookcases\n",
    "\n",
    "Objective Function: Profit = 40*x1+30*x2+45*x3\n",
    "\n",
    "Constraints:\n",
    "\n",
    "labor: 2*x1 + 1*x2 + 2.5*x3 <= 60 Hours </br>\n",
    "Machine: 0.8*x1 + 0.6*x2 + 1.0*x3 <= 16 Hours </br>\n",
    "Wood: 30*x1 + 20*x2 + 30*x3 <= 400 board-feet </br>\n",
    "Tables: x1>=10 board-feet </br>\n",
    "x1, x2, x3 >= 0 </br>"
   ]
  },
  {
   "cell_type": "code",
   "execution_count": 1,
   "id": "3f029cc3",
   "metadata": {},
   "outputs": [],
   "source": [
    "# Import all classes of PuLP module\n",
    "from pulp import *\n",
    "\n",
    "# Create the problem variable to contain the problem data\n",
    "model = LpProblem(\"FurnitureProblem\", LpMaximize)"
   ]
  },
  {
   "cell_type": "code",
   "execution_count": 2,
   "id": "10970f03",
   "metadata": {},
   "outputs": [],
   "source": [
    "# Create 3 variables tables, chairs, and bookcases\n",
    "\n",
    "x1 = LpVariable(\"tables\", 0, None, LpInteger)\n",
    "x2 = LpVariable(\"chairs\", 0, None, LpInteger) \n",
    "x3 = LpVariable(\"bookcases\", 0, None, LpInteger)"
   ]
  },
  {
   "cell_type": "code",
   "execution_count": 3,
   "id": "7971b897",
   "metadata": {},
   "outputs": [],
   "source": [
    "# Create maximize objective function\n",
    "model += 40 * x1 + 30 * x2 + 45 * x3 "
   ]
  },
  {
   "cell_type": "code",
   "execution_count": 4,
   "id": "255560f9",
   "metadata": {},
   "outputs": [],
   "source": [
    "# Create three constraints\n",
    "model += 2 * x1 + 1 * x2 + 2.5 * x3 <= 60, \"Labour\"\n",
    "model += 0.8 * x1 + 0.6 * x2 + 1.0 * x3 <= 16, \"Machine\"\n",
    "model += 30 * x1 + 20 * x2 + 30 * x3 <= 400, \"wood\"\n",
    "model += x1 >= 10, \"tables\""
   ]
  },
  {
   "cell_type": "code",
   "execution_count": 5,
   "id": "8e12742e",
   "metadata": {},
   "outputs": [
    {
     "name": "stdout",
     "output_type": "stream",
     "text": [
      "bookcases = 0.0\n",
      "chairs = 5.0\n",
      "tables = 10.0\n"
     ]
    }
   ],
   "source": [
    "# The problem is solved using PuLP's choice of Solver\n",
    "model.solve()\n",
    "\n",
    "# Each of the variables is printed with it's resolved optimum value\n",
    "for v in model.variables():\n",
    "    print(v.name, \"=\", v.varValue)"
   ]
  },
  {
   "cell_type": "markdown",
   "id": "f6343b90",
   "metadata": {},
   "source": [
    "Source: https://machinelearninggeek.com/solving-linear-programming-using-python-pulp/"
   ]
  },
  {
   "cell_type": "code",
   "execution_count": null,
   "id": "74a962ed",
   "metadata": {},
   "outputs": [],
   "source": []
  }
 ],
 "metadata": {
  "kernelspec": {
   "display_name": "Python 3 (ipykernel)",
   "language": "python",
   "name": "python3"
  },
  "language_info": {
   "codemirror_mode": {
    "name": "ipython",
    "version": 3
   },
   "file_extension": ".py",
   "mimetype": "text/x-python",
   "name": "python",
   "nbconvert_exporter": "python",
   "pygments_lexer": "ipython3",
   "version": "3.9.18"
  }
 },
 "nbformat": 4,
 "nbformat_minor": 5
}
