{
 "cells": [
  {
   "cell_type": "code",
   "execution_count": 1,
   "id": "24206ed0",
   "metadata": {},
   "outputs": [],
   "source": [
    "# ABRINDO O SITE DO GOOGLE MAPS E ADICIONANDO UM DESTINO : conteudo deste codigo\n",
    "# cria função adiciona_destino\n",
    "# cria função abre_rotas\n",
    "\n",
    "from selenium import webdriver\n",
    "from selenium.webdriver.chrome.service import Service\n",
    "from webdriver_manager.chrome import ChromeDriverManager\n",
    "from webdriver_manager.microsoft import EdgeChromiumDriverManager\n",
    "\n",
    "from selenium.webdriver.common.by import By\n",
    "from selenium.webdriver.support.wait import WebDriverWait\n",
    "from selenium.webdriver.support import expected_conditions as EC\n",
    "from selenium.webdriver.common.keys import Keys\n",
    "\n",
    "from time import sleep\n"
   ]
  },
  {
   "cell_type": "code",
   "execution_count": 2,
   "id": "023abc5b",
   "metadata": {},
   "outputs": [],
   "source": [
    "# from webdriver_manager.chrome import ChromeDriverManager:\n",
    "#        é utilizada para abrir o google maps no chrome\n",
    "#        pip install webdriver-manager\n",
    "#        caso fosse utilizar o edge:\n",
    "#           from webdriver_manager.microsoft import EdgeChromiumDriverManager"
   ]
  },
  {
   "cell_type": "code",
   "execution_count": 3,
   "id": "027b024d",
   "metadata": {},
   "outputs": [],
   "source": [
    "service = Service(ChromeDriverManager().install())\n",
    "driver = webdriver.Chrome(service=service)\n",
    "driver.implicitly_wait(2)\n",
    "driver.get(\"https://www.google.com/maps\")\n",
    "\n",
    "'''\n",
    "service = Service(EdgeChromiumDriverManager().install())\n",
    "driver = webdriver.Edge(service=service)\n",
    "driver.implicitly_wait(2)\n",
    "driver.get(\"https://www.google.com/maps\")\n",
    "'''\n",
    "def adiciona_destino(endereco):\n",
    "    barra_vazia = driver.find_element(By.ID, 'searchboxinput')\n",
    "    barra_vazia.clear()\n",
    "    barra_vazia.send_keys(endereco)\n",
    "    barra_vazia.send_keys(Keys.RETURN)\n",
    "\n",
    "def abre_rotas():\n",
    "    xpath = '//button[@data-value=\"Rotas\"]'\n",
    "    wait = WebDriverWait(driver, timeout=5)\n",
    "    botao_rotas = wait.until(EC.presence_of_element_located((By.XPATH, xpath)))\n",
    "    botao_rotas.click()\n",
    "\n",
    "    xpath = '//button[@aria-label=\"Fechar rotas\"]'\n",
    "    wait = WebDriverWait(driver, timeout=5)\n",
    "    botao_rotas = wait.until(EC.presence_of_element_located((By.XPATH, xpath)))\n"
   ]
  },
  {
   "cell_type": "code",
   "execution_count": 4,
   "id": "0b0b5cce",
   "metadata": {},
   "outputs": [],
   "source": [
    "if __name__ == '__main__':\n",
    "\n",
    "    endereco = 'Av. José Bonifácio, 245 - Farroupilha, Porto Alegre - RS, 90040-130' #Redenção\n",
    "    adiciona_destino(endereco)\n",
    "    abre_rotas()\n",
    "\n",
    "    sleep(60)"
   ]
  }
 ],
 "metadata": {
  "kernelspec": {
   "display_name": "Python 3 (ipykernel)",
   "language": "python",
   "name": "python3"
  },
  "language_info": {
   "codemirror_mode": {
    "name": "ipython",
    "version": 3
   },
   "file_extension": ".py",
   "mimetype": "text/x-python",
   "name": "python",
   "nbconvert_exporter": "python",
   "pygments_lexer": "ipython3",
   "version": "3.9.18"
  }
 },
 "nbformat": 4,
 "nbformat_minor": 5
}
