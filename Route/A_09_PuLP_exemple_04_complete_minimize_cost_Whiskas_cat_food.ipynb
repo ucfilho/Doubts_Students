{
 "cells": [
  {
   "cell_type": "markdown",
   "id": "bb571f7c",
   "metadata": {},
   "source": [
    "## Example to be solved using PuLP\n",
    "\n",
    "Whiskas cat food, shown above, is manufactured by Uncle Ben’s. Uncle Ben’s want to produce their cat food products as cheaply as possible while ensuring they meet the stated nutritional analysis requirements shown on the cans. Thus they want to vary the quantities of each ingredient used (the main ingredients being chicken, beef, mutton, rice, wheat and gel) while still meeting their nutritional standards.\n",
    "\n",
    "\n",
    "$\\begin{split}x_1 &= \\text{percentage of chicken meat in a can of cat food}\\\\\n",
    "x_2 &= \\text{percentage of beef used in a can of cat food}\\\\\n",
    "x_3 &= \\text{percentage of mutton used in a can of cat food}\\\\\n",
    "x_4 &= \\text{percentage of rice used in a can of cat food}\\\\\n",
    "x_5 &= \\text{percentage of wheat bran used in a can of cat food}\\\\\n",
    "x_6 &= \\text{percentage of gel used in a can of cat food}\\end{split}$\n",
    "\n",
    "Objective function\n",
    "\n",
    "$\\min \\$0.013 x_1 + \\$0.008 x_2 + \\$0.010 x_3 + \\$0.002 x_4 + \\$0.005 x_5 + \\$0.001 x_6$\n",
    "\n",
    "\n",
    "Constrains:\n",
    "\n",
    "$\\begin{split}x_1 + x_2 + x_3 + x_4 + x_5 +x _6 = 100 \\\\\n",
    "0.100 x_1 +0.200 x_2 +0.150 x_3 +0.000 x_4 +0.040 x_5 +0.0 x_6 0&\\ge 8.0 \\\\\n",
    "0.080 x_1 +0.100 x_2 +0.110 x_3 +0.010 x_4 +0.010 x_5 0+0.0 x_6 &\\ge 6.0 \\\\\n",
    "0.001 x_1 +0.005 x_2 +0.003 x_3 +0.100 x_4 0+0.150 x_5 +0.0 x_6 &\\le 2.0 \\\\\n",
    "0.002 x_1 +0.005 x_2 +0.007 x_3 0+0.002 x_4 +0.008 x_5 +0.0 x_6 &\\le 0.4\\end{split}$"
   ]
  },
  {
   "cell_type": "code",
   "execution_count": 1,
   "id": "e1b8c2b4",
   "metadata": {},
   "outputs": [],
   "source": [
    "# Import PuLP modeler functions\n",
    "from pulp import *"
   ]
  },
  {
   "cell_type": "code",
   "execution_count": 2,
   "id": "c301201e",
   "metadata": {},
   "outputs": [],
   "source": [
    "# Creates a list of the Ingredients\n",
    "Ingredients = [\"CHICKEN\", \"BEEF\", \"MUTTON\", \"RICE\", \"WHEAT\", \"GEL\"]\n",
    "\n",
    "# A dictionary of the costs of each of the Ingredients is created\n",
    "costs = {\n",
    "    \"CHICKEN\": 0.013,\n",
    "    \"BEEF\": 0.008,\n",
    "    \"MUTTON\": 0.010,\n",
    "    \"RICE\": 0.002,\n",
    "    \"WHEAT\": 0.005,\n",
    "    \"GEL\": 0.001,\n",
    "}\n",
    "\n",
    "# A dictionary of the protein percent in each of the Ingredients is created\n",
    "proteinPercent = {\n",
    "    \"CHICKEN\": 0.100,\n",
    "    \"BEEF\": 0.200,\n",
    "    \"MUTTON\": 0.150,\n",
    "    \"RICE\": 0.000,\n",
    "    \"WHEAT\": 0.040,\n",
    "    \"GEL\": 0.000,\n",
    "}\n",
    "\n",
    "# A dictionary of the fat percent in each of the Ingredients is created\n",
    "fatPercent = {\n",
    "    \"CHICKEN\": 0.080,\n",
    "    \"BEEF\": 0.100,\n",
    "    \"MUTTON\": 0.110,\n",
    "    \"RICE\": 0.010,\n",
    "    \"WHEAT\": 0.010,\n",
    "    \"GEL\": 0.000,\n",
    "}\n",
    "\n",
    "# A dictionary of the fibre percent in each of the Ingredients is created\n",
    "fibrePercent = {\n",
    "    \"CHICKEN\": 0.001,\n",
    "    \"BEEF\": 0.005,\n",
    "    \"MUTTON\": 0.003,\n",
    "    \"RICE\": 0.100,\n",
    "    \"WHEAT\": 0.150,\n",
    "    \"GEL\": 0.000,\n",
    "}\n",
    "\n",
    "# A dictionary of the salt percent in each of the Ingredients is created\n",
    "saltPercent = {\n",
    "    \"CHICKEN\": 0.002,\n",
    "    \"BEEF\": 0.005,\n",
    "    \"MUTTON\": 0.007,\n",
    "    \"RICE\": 0.002,\n",
    "    \"WHEAT\": 0.008,\n",
    "    \"GEL\": 0.000,\n",
    "}"
   ]
  },
  {
   "cell_type": "code",
   "execution_count": 3,
   "id": "c52aa49b",
   "metadata": {},
   "outputs": [
    {
     "name": "stderr",
     "output_type": "stream",
     "text": [
      "C:\\Users\\User\\Anaconda3\\lib\\site-packages\\pulp\\pulp.py:1316: UserWarning: Spaces are not permitted in the name. Converted to '_'\n",
      "  warnings.warn(\"Spaces are not permitted in the name. Converted to '_'\")\n"
     ]
    }
   ],
   "source": [
    "# Create the 'prob' variable to contain the problem data\n",
    "prob = LpProblem(\"The Whiskas Problem\", LpMinimize)\n",
    "\n",
    "# A dictionary called 'ingredient_vars' is created to contain the referenced Variables\n",
    "ingredient_vars = LpVariable.dicts(\"Ingr\", Ingredients, 0)"
   ]
  },
  {
   "cell_type": "code",
   "execution_count": 4,
   "id": "1476e6d5",
   "metadata": {},
   "outputs": [],
   "source": [
    "# The objective function is added to 'prob' first\n",
    "prob += (\n",
    "    lpSum([costs[i] * ingredient_vars[i] for i in Ingredients]),\n",
    "    \"Total Cost of Ingredients per can\",\n",
    ")"
   ]
  },
  {
   "cell_type": "code",
   "execution_count": 5,
   "id": "4d652127",
   "metadata": {},
   "outputs": [],
   "source": [
    "# The five constraints are added to 'prob'\n",
    "prob += lpSum([ingredient_vars[i] for i in Ingredients]) == 100, \"PercentagesSum\"\n",
    "prob += (\n",
    "    lpSum([proteinPercent[i] * ingredient_vars[i] for i in Ingredients]) >= 8.0,\n",
    "    \"ProteinRequirement\",\n",
    ")\n",
    "prob += (\n",
    "    lpSum([fatPercent[i] * ingredient_vars[i] for i in Ingredients]) >= 6.0,\n",
    "    \"FatRequirement\",\n",
    ")\n",
    "prob += (\n",
    "    lpSum([fibrePercent[i] * ingredient_vars[i] for i in Ingredients]) <= 2.0,\n",
    "    \"FibreRequirement\",\n",
    ")\n",
    "prob += (\n",
    "    lpSum([saltPercent[i] * ingredient_vars[i] for i in Ingredients]) <= 0.4,\n",
    "    \"SaltRequirement\",\n",
    ")"
   ]
  },
  {
   "cell_type": "code",
   "execution_count": 6,
   "id": "a01afb53",
   "metadata": {},
   "outputs": [
    {
     "data": {
      "text/plain": [
       "[Ingr_BEEF, Ingr_CHICKEN, Ingr_GEL, Ingr_MUTTON, Ingr_RICE, Ingr_WHEAT]"
      ]
     },
     "execution_count": 6,
     "metadata": {},
     "output_type": "execute_result"
    }
   ],
   "source": [
    "# The problem data is written to an .lp file\n",
    "prob.writeLP(\"WhiskasModel2.lp\")"
   ]
  },
  {
   "cell_type": "code",
   "execution_count": 7,
   "id": "0a69c6fe",
   "metadata": {},
   "outputs": [
    {
     "data": {
      "text/plain": [
       "1"
      ]
     },
     "execution_count": 7,
     "metadata": {},
     "output_type": "execute_result"
    }
   ],
   "source": [
    "# The problem is solved using PuLP's choice of Solver\n",
    "prob.solve()"
   ]
  },
  {
   "cell_type": "code",
   "execution_count": 8,
   "id": "732723ae",
   "metadata": {},
   "outputs": [
    {
     "name": "stdout",
     "output_type": "stream",
     "text": [
      "Status: Optimal\n"
     ]
    }
   ],
   "source": [
    "# The status of the solution is printed to the screen\n",
    "print(\"Status:\", LpStatus[prob.status])"
   ]
  },
  {
   "cell_type": "code",
   "execution_count": 9,
   "id": "ada4606f",
   "metadata": {},
   "outputs": [
    {
     "name": "stdout",
     "output_type": "stream",
     "text": [
      "Ingr_BEEF = 60.0\n",
      "Ingr_CHICKEN = 0.0\n",
      "Ingr_GEL = 40.0\n",
      "Ingr_MUTTON = 0.0\n",
      "Ingr_RICE = 0.0\n",
      "Ingr_WHEAT = 0.0\n"
     ]
    }
   ],
   "source": [
    "# Each of the variables is printed with it's resolved optimum value\n",
    "for v in prob.variables():\n",
    "    print(v.name, \"=\", v.varValue)"
   ]
  },
  {
   "cell_type": "code",
   "execution_count": 10,
   "id": "4410982b",
   "metadata": {},
   "outputs": [
    {
     "name": "stdout",
     "output_type": "stream",
     "text": [
      "Total Cost of Ingredients per can =  0.52\n"
     ]
    }
   ],
   "source": [
    "# The optimised objective function value is printed to the screen\n",
    "print(\"Total Cost of Ingredients per can = \", value(prob.objective))"
   ]
  },
  {
   "cell_type": "markdown",
   "id": "080d5944",
   "metadata": {},
   "source": [
    "Source: https://coin-or.github.io/pulp/CaseStudies/a_blending_problem.html"
   ]
  }
 ],
 "metadata": {
  "kernelspec": {
   "display_name": "Python 3 (ipykernel)",
   "language": "python",
   "name": "python3"
  },
  "language_info": {
   "codemirror_mode": {
    "name": "ipython",
    "version": 3
   },
   "file_extension": ".py",
   "mimetype": "text/x-python",
   "name": "python",
   "nbconvert_exporter": "python",
   "pygments_lexer": "ipython3",
   "version": "3.9.18"
  }
 },
 "nbformat": 4,
 "nbformat_minor": 5
}
