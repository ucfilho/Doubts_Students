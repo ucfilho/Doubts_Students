{
 "cells": [
  {
   "cell_type": "markdown",
   "id": "bb571f7c",
   "metadata": {},
   "source": [
    "## Example to be solved using PuLP\n",
    "\n",
    "Whiskas cat food, shown above, is manufactured by Uncle Ben’s. Uncle Ben’s want to produce their cat food products as cheaply as possible while ensuring they meet the stated nutritional analysis requirements shown on the cans. Thus they want to vary the quantities of each ingredient used (the main ingredients being chicken, beef, mutton, rice, wheat and gel) while still meeting their nutritional standards.\n",
    "\n",
    "Objective function\n",
    "\n",
    "$\\textbf{ min } 0.013 x_1 + 0.008 x_2$\n",
    "\n",
    "where  $x_1$ is chicken and $x_2$ is beef\n",
    "\n",
    "Constrains:\n",
    "\n",
    "$\\begin{split}1.000 x_1  + 1.000 x_2 &= 100.0\\\\\n",
    "0.100 x_1  + 0.200 x_2 &\\ge 8.0\\\\\n",
    "0.080 x_1  + 0.100 x_2 &\\ge 6.0\\\\\n",
    "0.001 x_1  + 0.005 x_2 &\\le 2.0\\\\\n",
    "0.002 x_1  + 0.005 x_2 &\\le 0.4\\\\\\end{split}$"
   ]
  },
  {
   "cell_type": "code",
   "execution_count": 1,
   "id": "e1b8c2b4",
   "metadata": {},
   "outputs": [],
   "source": [
    "# Import PuLP modeler functions\n",
    "from pulp import *"
   ]
  },
  {
   "cell_type": "code",
   "execution_count": 2,
   "id": "c301201e",
   "metadata": {},
   "outputs": [
    {
     "name": "stderr",
     "output_type": "stream",
     "text": [
      "C:\\Users\\User\\Anaconda3\\lib\\site-packages\\pulp\\pulp.py:1316: UserWarning: Spaces are not permitted in the name. Converted to '_'\n",
      "  warnings.warn(\"Spaces are not permitted in the name. Converted to '_'\")\n"
     ]
    }
   ],
   "source": [
    "# Create the 'prob' variable to contain the problem data\n",
    "prob = LpProblem(\"The Whiskas Problem\", LpMinimize)\n",
    "\n",
    "# The 2 variables Beef and Chicken are created with a lower limit of zero\n",
    "x1 = LpVariable(\"ChickenPercent\", 0, None, LpInteger)\n",
    "x2 = LpVariable(\"BeefPercent\", 0)\n",
    "\n",
    "# The objective function is added to 'prob' first\n",
    "prob += 0.013 * x1 + 0.008 * x2, \"Total Cost of Ingredients per can\"\n",
    "\n",
    "# The five constraints are entered\n",
    "prob += x1 + x2 == 100, \"PercentagesSum\"\n",
    "prob += 0.100 * x1 + 0.200 * x2 >= 8.0, \"ProteinRequirement\"\n",
    "prob += 0.080 * x1 + 0.100 * x2 >= 6.0, \"FatRequirement\"\n",
    "prob += 0.001 * x1 + 0.005 * x2 <= 2.0, \"FibreRequirement\"\n",
    "prob += 0.002 * x1 + 0.005 * x2 <= 0.4, \"SaltRequirement\"\n",
    "\n"
   ]
  },
  {
   "cell_type": "code",
   "execution_count": 3,
   "id": "c52aa49b",
   "metadata": {},
   "outputs": [
    {
     "name": "stdout",
     "output_type": "stream",
     "text": [
      "Status: Optimal\n"
     ]
    }
   ],
   "source": [
    "# The problem data is written to an .lp file\n",
    "prob.writeLP(\"WhiskasModel.lp\")\n",
    "\n",
    "# The problem is solved using PuLP's choice of Solver\n",
    "prob.solve()\n",
    "\n",
    "# The status of the solution is printed to the screen\n",
    "print(\"Status:\", LpStatus[prob.status])\n",
    "\n"
   ]
  },
  {
   "cell_type": "code",
   "execution_count": 4,
   "id": "1476e6d5",
   "metadata": {},
   "outputs": [
    {
     "name": "stdout",
     "output_type": "stream",
     "text": [
      "BeefPercent = 66.0\n",
      "ChickenPercent = 34.0\n"
     ]
    }
   ],
   "source": [
    "# Each of the variables is printed with it's resolved optimum value\n",
    "for v in prob.variables():\n",
    "    print(v.name, \"=\", v.varValue)\n",
    "\n"
   ]
  },
  {
   "cell_type": "code",
   "execution_count": 5,
   "id": "4d652127",
   "metadata": {},
   "outputs": [
    {
     "name": "stdout",
     "output_type": "stream",
     "text": [
      "Total Cost of Ingredients per can =  0.97\n"
     ]
    }
   ],
   "source": [
    "# The optimised objective function value is printed to the screen\n",
    "print(\"Total Cost of Ingredients per can = \", value(prob.objective))"
   ]
  },
  {
   "cell_type": "markdown",
   "id": "080d5944",
   "metadata": {},
   "source": [
    "Source: https://coin-or.github.io/pulp/CaseStudies/a_blending_problem.html"
   ]
  }
 ],
 "metadata": {
  "kernelspec": {
   "display_name": "Python 3 (ipykernel)",
   "language": "python",
   "name": "python3"
  },
  "language_info": {
   "codemirror_mode": {
    "name": "ipython",
    "version": 3
   },
   "file_extension": ".py",
   "mimetype": "text/x-python",
   "name": "python",
   "nbconvert_exporter": "python",
   "pygments_lexer": "ipython3",
   "version": "3.9.18"
  }
 },
 "nbformat": 4,
 "nbformat_minor": 5
}
