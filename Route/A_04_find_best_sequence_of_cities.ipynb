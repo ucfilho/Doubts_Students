{
 "cells": [
  {
   "cell_type": "code",
   "execution_count": 1,
   "id": "044c8eb8",
   "metadata": {},
   "outputs": [],
   "source": [
    "# voce percisa instalar:\n",
    "#  selenium   # iterage com o google maps\n",
    "#  webdriver-manager # abre o google maps na tela\n",
    "#  pulp # faz a otimizacao das rotas"
   ]
  },
  {
   "cell_type": "code",
   "execution_count": 2,
   "id": "582f594f",
   "metadata": {},
   "outputs": [],
   "source": [
    "\n",
    "from selenium import webdriver\n",
    "from selenium.webdriver.chrome.service import Service\n",
    "from webdriver_manager.chrome import ChromeDriverManager\n",
    "from webdriver_manager.microsoft import EdgeChromiumDriverManager\n",
    "\n",
    "from selenium.webdriver.common.by import By\n",
    "from selenium.webdriver.support.wait import WebDriverWait\n",
    "from selenium.webdriver.support import expected_conditions as EC\n",
    "from selenium.webdriver.common.keys import Keys\n",
    "\n",
    "import pulp\n",
    "import itertools\n",
    "\n",
    "from time import sleep\n"
   ]
  },
  {
   "cell_type": "code",
   "execution_count": 3,
   "id": "9c7fd121",
   "metadata": {},
   "outputs": [],
   "source": [
    "# from webdriver_manager.chrome import ChromeDriverManager:\n",
    "#        é utilizada para abrir o google maps no chrome\n",
    "#        pip install webdriver-manager\n",
    "#        caso fosse utilizar o edge o camando ficaria:\n",
    "#           from webdriver_manager.microsoft import EdgeChromiumDriverManager"
   ]
  },
  {
   "cell_type": "code",
   "execution_count": 4,
   "id": "42522549",
   "metadata": {},
   "outputs": [
    {
     "data": {
      "text/plain": [
       "'\\n# caso fosse utilizar no Edge ao inves do Chromium:\\nservice = Service(EdgeChromiumDriverManager().install())\\ndriver = webdriver.Edge(service=service)\\ndriver.implicitly_wait(2)\\ndriver.get(\"https://www.google.com/maps\")\\n'"
      ]
     },
     "execution_count": 4,
     "metadata": {},
     "output_type": "execute_result"
    }
   ],
   "source": [
    "# ADICIONA SEGUNDO DESTINO A ROTA\n",
    "# modifica função adiciona_destino para aceitar mais rotas\n",
    "# cria função esta_na_aba_de_rotas\n",
    "\n",
    "from selenium import webdriver\n",
    "from selenium.webdriver.chrome.service import Service\n",
    "from webdriver_manager.chrome import ChromeDriverManager\n",
    "\n",
    "from selenium.webdriver.common.by import By\n",
    "from selenium.webdriver.support.wait import WebDriverWait\n",
    "from selenium.webdriver.support import expected_conditions as EC\n",
    "from selenium.webdriver.common.keys import Keys\n",
    "\n",
    "from time import sleep\n",
    "\n",
    "\n",
    "service = Service(ChromeDriverManager().install())\n",
    "driver = webdriver.Chrome(service=service)\n",
    "driver.implicitly_wait(2)\n",
    "driver.get(\"https://www.google.com/maps\")\n",
    "\n",
    "'''\n",
    "# caso fosse utilizar no Edge ao inves do Chromium:\n",
    "service = Service(EdgeChromiumDriverManager().install())\n",
    "driver = webdriver.Edge(service=service)\n",
    "driver.implicitly_wait(2)\n",
    "driver.get(\"https://www.google.com/maps\")\n",
    "'''"
   ]
  },
  {
   "cell_type": "code",
   "execution_count": 5,
   "id": "cddb838c",
   "metadata": {},
   "outputs": [],
   "source": [
    "delta_time = 15 # como o código se comunica com o google maps\n",
    "#  delta_time representa quantos segundos espera a resposta no máximo\n",
    "#    se a conexão estiver muito lenta precisa aumentar este número\n",
    "#    se a conexão estiver boa com 5 ou 3 segundos fica bom\n",
    "\n",
    "\n",
    "def esta_na_aba_de_rotas():\n",
    "    xpath = '//button[@aria-label=\"Fechar rotas\"]'\n",
    "    botao_rotas = driver.find_elements(By.XPATH, xpath)\n",
    "    return len(botao_rotas) > 0\n",
    "\n",
    "def adiciona_destino(endereco, num_caixa=1):\n",
    "    if not esta_na_aba_de_rotas():\n",
    "        barra_vazia = driver.find_element(By.ID, 'searchboxinput')\n",
    "        barra_vazia.clear()\n",
    "        barra_vazia.send_keys(endereco)\n",
    "        barra_vazia.send_keys(Keys.RETURN)\n",
    "    else:\n",
    "        xpath = '//div[contains(@id, \"directions-searchbox\")]//input'\n",
    "        caixas = driver.find_elements(By.XPATH, xpath)\n",
    "        caixas = [c for c in caixas if c.is_displayed()]\n",
    "        if len(caixas) >= num_caixa:\n",
    "            caixa_endereco = caixas[num_caixa-1]\n",
    "            caixa_endereco.send_keys(Keys.CONTROL + 'a')\n",
    "            caixa_endereco.send_keys(Keys.DELETE)\n",
    "            caixa_endereco.send_keys(endereco)\n",
    "            caixa_endereco.send_keys(Keys.RETURN)\n",
    "        else:\n",
    "            print(f'Não conseguimos adicionar o endereço {len(caixas)} | {num_caixa}')\n",
    "\n",
    "def abre_rotas():\n",
    "    xpath = '//button[@data-value=\"Rotas\"]'\n",
    "    wait = WebDriverWait(driver, timeout=delta_time)\n",
    "    botao_rotas = wait.until(EC.presence_of_element_located((By.XPATH, xpath)))\n",
    "    botao_rotas.click()\n",
    "\n",
    "    xpath = '//button[@aria-label=\"Fechar rotas\"]'\n",
    "    wait = WebDriverWait(driver, timeout=delta_time)\n",
    "    botao_rotas = wait.until(EC.presence_of_element_located((By.XPATH, xpath)))\n",
    "\n",
    "def adiciona_caixa_destino():\n",
    "    xpath = '//span[text()=\"Adicionar destino\"]'\n",
    "    wait = WebDriverWait(driver, timeout=delta_time)\n",
    "    wait.until(EC.visibility_of_element_located((By.XPATH, xpath)))\n",
    "\n",
    "    botao_adiciona_destino = driver.find_element(By.XPATH, xpath)\n",
    "    botao_adiciona_destino.click()\n",
    "\n",
    "def seleciona_tipo_conducao(tipo_conducao=\"Carro\"):\n",
    "    xpath = f'//img[@aria-label=\"{tipo_conducao}\"]'\n",
    "    wait = WebDriverWait(driver, timeout=5)\n",
    "    botao_conducao = wait.until(EC.presence_of_element_located((By.XPATH, xpath)))\n",
    "    botao_conducao.click()\n",
    "\n",
    "def retorna_tempo_total(): # captura o tempo total na pagina do google maps (xpath)\n",
    "    #xpath = '//div[@id=\"section-directions-trip-0\"]//div[contains(text(),\"min\")]'\n",
    "    #xpath = '//div[@id=\"section-directions-trip-0\"]//div[contains(text(),\"h\")]'\n",
    "    xpath = '//div[@id=\"section-directions-trip-0\"]//div[contains(text(),\"h\") or contains(text(),\"min\")]'   \n",
    "    wait = WebDriverWait(driver, timeout=delta_time)\n",
    "    elemento_tempo = wait.until(EC.presence_of_element_located((By.XPATH, xpath)))\n",
    "\n",
    "    value_tempo = elemento_tempo.text.split()\n",
    "    # a variavel check_minute serve para evitar o erro quando a distancia vem em \n",
    "    #   minutos se isto acontecer o tempo tem q ser dividido por 60 para passar para \n",
    "    #   horas, dependendo do tempo google maps volta em horas e minutos ou somente minutos\n",
    "    #   tem q uniformizar e check_minute é feito para isto\n",
    "    check_minute = False\n",
    "    if 'min' in value_tempo:\n",
    "        check_minute = True # o tempo pode vir em horas ou minutos e tem q uniformizar\n",
    "    \n",
    "    value_tempo = elemento_tempo.text.replace('h',' ').replace('min',' ').split()\n",
    "    # print('=========   ========',value_tempo)\n",
    "    if len(value_tempo)==2:\n",
    "        value_tempo = float(value_tempo[0])+float(value_tempo[1])/60\n",
    "    else:\n",
    "        value_tempo = float(value_tempo[0])\n",
    "        if check_minute == True: # caso tenha somente minutos, passar para horas\n",
    "            value_tempo = value_tempo/60\n",
    "    return value_tempo\n",
    "\n",
    "def retorna_ditancia_total(): # captura a distancia total na pagina do google maps (xpath)\n",
    "    xpath = '//div[@id=\"section-directions-trip-0\"]//div[contains(text(),\"km\")]'\n",
    "    wait = WebDriverWait(driver, timeout=delta_time)\n",
    "    elemento_tempo = wait.until(EC.presence_of_element_located((By.XPATH, xpath)))\n",
    "    return float(elemento_tempo.text.replace(' km', '').replace(',', '.').replace(' ', ''))\n",
    "\n",
    "# ==================== FUNÇÕES PRINCIPAIS ====================\n",
    "def gera_pares_distancia(enderecos):\n",
    "\n",
    "    distancia_pares = {}\n",
    "    driver.get(\"https://www.google.com/maps\")\n",
    "    adiciona_destino(enderecos[0], 1)\n",
    "    abre_rotas()\n",
    "    seleciona_tipo_conducao(tipo_conducao=\"Carro\") # note q a viagem vai ser feita de carro\n",
    "\n",
    "    for i, end1 in enumerate(enderecos):\n",
    "        adiciona_destino(end1, 1)\n",
    "        for j, end2 in enumerate(enderecos):\n",
    "            if i != j:\n",
    "                adiciona_destino(end2, 2)\n",
    "                tempo_par = retorna_tempo_total()\n",
    "                distancia_pares[f'{i}_{j}'] = tempo_par\n",
    "    \n",
    "    return distancia_pares\n",
    "\n",
    "def gera_otimizacao(enderecos, distancia_pares):\n",
    "\n",
    "    def distancia(end1, end2):\n",
    "        return distancia_pares[f'{end1}_{end2}']\n",
    "    \n",
    "    # biblioteca de otimizacao pulp: define o problema no caso TSP (caixeiro viajante)\n",
    "    prob = pulp.LpProblem('TSP', pulp.LpMinimize)\n",
    "\n",
    "    x = pulp.LpVariable.dicts('x', [(i, j) for i in range(len(enderecos)) for j in range(len(enderecos)) if i != j], cat='Binary')\n",
    "    \n",
    "    # define as equacoes a serem otimizadas (no caso soma das distancias)\n",
    "    prob += pulp.lpSum([distancia(i, j) * x[(i, j)] for i in range(len(enderecos)) for j in range(len(enderecos)) if i != j])\n",
    "    \n",
    "    # define as restricoes \n",
    "    for i in range(len(enderecos)):\n",
    "        prob += pulp.lpSum([x[(i, j)] for j in range(len(enderecos)) if i != j]) == 1\n",
    "        prob += pulp.lpSum([x[(j, i)] for j in range(len(enderecos)) if i != j]) == 1\n",
    " \n",
    "    for k in range(len(enderecos)):\n",
    "        for S in range(2, len(enderecos)):\n",
    "            for subset in itertools.combinations([i for i in range(len(enderecos)) if i != k], S):\n",
    "                prob += pulp.lpSum([x[(i, j)] for i in subset for j in subset if i != j]) <= len(subset) - 1\n",
    "    \n",
    "    # resolve o problema\n",
    "    prob.solve(pulp.PULP_CBC_CMD())\n",
    "\n",
    "    solucao = []\n",
    "    cidade_inicial = 0\n",
    "    proxima_cidade = cidade_inicial\n",
    "    while True:\n",
    "        for j in range(len(enderecos)):\n",
    "            if j != proxima_cidade and x[(proxima_cidade, j)].value() == 1:\n",
    "               solucao.append((proxima_cidade, j))\n",
    "               proxima_cidade = j\n",
    "               break\n",
    "        if proxima_cidade == cidade_inicial:\n",
    "            break\n",
    "    \n",
    "    print('Rota:')\n",
    "    for i in range(len(solucao)):\n",
    "        print(solucao[i][0], ' ->> ', solucao[i][1])\n",
    "    \n",
    "    return solucao\n",
    "\n",
    "\n",
    "def mostra_rota_otimizada(enderecos, solucao):\n",
    "    driver.get(\"https://www.google.com/maps\")\n",
    "\n",
    "    adiciona_destino(enderecos[0], 1)\n",
    "    abre_rotas()\n",
    "\n",
    "    for i in range(len(solucao)):\n",
    "        adiciona_destino(enderecos[solucao[i][0]], i+1)\n",
    "        adiciona_caixa_destino()\n",
    "    \n",
    "    adiciona_destino(enderecos[0], len(enderecos) + 1)\n"
   ]
  },
  {
   "cell_type": "code",
   "execution_count": 6,
   "id": "521cba64",
   "metadata": {},
   "outputs": [
    {
     "name": "stdout",
     "output_type": "stream",
     "text": [
      "Rota:\n",
      "0  ->>  1\n",
      "1  ->>  2\n",
      "2  ->>  3\n",
      "3  ->>  0\n"
     ]
    }
   ],
   "source": [
    "if __name__ == '__main__':\n",
    "    '''  \n",
    "    enderecos = [\n",
    "                \"Itaruma-Go\",\n",
    "                \"Araguari-MG\", \n",
    "                \"Uberlandia-MG\",\n",
    "                \"Uberaba-MG\",  \n",
    "                \"Araxa-MG\", \n",
    "                \"Rio Verde-Go\", \n",
    "                \"Jatai-Go\", \n",
    "                \"São Paulo-SP\",\n",
    "                \"Araraquara-SP\",\n",
    "                ]\n",
    "    '''\n",
    "    enderecos = [\n",
    "                \"Av. José Bonifácio, 245 - Farroupilha, Porto Alegre - RS, 90040-130\",  #Redenção\n",
    "                \"Av. Borges de Medeiros, 2035 - Menino Deus, Porto Alegre - RS, 90110-150\",  #Marinha\n",
    "                \"Av. Guaíba, 544 - Ipanema, Porto Alegre - RS, 91760-740\", #Orla Ipanema\n",
    "                \"Av. Padre Cacique, 2000 - Praia de Belas, Porto Alegre - RS, 90810-180\", # Iberê\n",
    "                ]  \n",
    " \n",
    "    '''\n",
    "    enderecos = [\n",
    "                \"Av. Joao Naves de Avila, 2121- Uberlandia - MG\",  #Redenção\n",
    "                \"Av. Belarmino Cotta Pacheco, 2121 - MUberlandia - MG\",  #Marinha\n",
    "                \"Rua Ana Godoi, 2000 - Uberlandia - MG\", # Iberê\n",
    "                \"Av Segismundo Pereira, 1010 - Uberlandia - MG\", # Iberê\n",
    "                ]  \n",
    "    '''\n",
    "    enderecos = [\n",
    "                \"90040-130\",  #Redenção\n",
    "                \"90110-150\",  #Marinha\n",
    "                \"91760-740\", #Orla Ipanema\n",
    "                \"90810-180\", # Iberê\n",
    "                ]  \n",
    " \n",
    "    distancia_pares = gera_pares_distancia(enderecos) # aqui gera todas distancias em termos e tempo gasto\n",
    "    solucao = gera_otimizacao(enderecos, distancia_pares)\n",
    "    mostra_rota_otimizada(enderecos, solucao)\n",
    "    \n",
    "    # so deve ser utilizada se mostra_rota_otimizada(enderecos, solucao)  se tiver menos que sete destinos\n",
    "    #   porque seis destinos é o máximo que google maps aceita adicionar no mapa\n",
    "    \n",
    "    # desmarcar a linha abaixo se tem menos de sete endercos para mostrar as rotas no google maps\n",
    "    # mostra_rota_otimizada(enderecos, solucao)\n"
   ]
  },
  {
   "cell_type": "code",
   "execution_count": 7,
   "id": "4e4398bb",
   "metadata": {},
   "outputs": [
    {
     "name": "stdout",
     "output_type": "stream",
     "text": [
      "Rota:\n",
      "90040-130 ->> 90110-150  0.12 h\n",
      "90110-150 ->> 91760-740  0.40 h\n",
      "91760-740 ->> 90810-180  0.33 h\n",
      "90810-180 ->> 90040-130  0.25 h\n",
      " \n",
      "tempo total gasto 1.10 horas\n"
     ]
    }
   ],
   "source": [
    "dict_cities =  {}\n",
    "for i in range(len(enderecos)):\n",
    "    dict_cities[i]= enderecos[i]\n",
    "\n",
    "print('Rota:')\n",
    "tempo_total = 0\n",
    "for route in solucao:\n",
    "    idx = str(route[0])+ '_' + str(route[1])\n",
    "    tempo_total += distancia_pares[idx]\n",
    "    print(dict_cities[route[0]] ,'->>',dict_cities[route[1]], f' {distancia_pares[idx]:.2f} h')\n",
    "print(' ')\n",
    "print(f'tempo total gasto {tempo_total:.2f} horas')\n"
   ]
  },
  {
   "cell_type": "code",
   "execution_count": 8,
   "id": "3f4878f1",
   "metadata": {},
   "outputs": [
    {
     "data": {
      "text/plain": [
       "[(0, 1), (1, 2), (2, 3), (3, 0)]"
      ]
     },
     "execution_count": 8,
     "metadata": {},
     "output_type": "execute_result"
    }
   ],
   "source": [
    "solucao"
   ]
  },
  {
   "cell_type": "code",
   "execution_count": 9,
   "id": "911161ab",
   "metadata": {},
   "outputs": [
    {
     "data": {
      "text/plain": [
       "{0: '90040-130', 1: '90110-150', 2: '91760-740', 3: '90810-180'}"
      ]
     },
     "execution_count": 9,
     "metadata": {},
     "output_type": "execute_result"
    }
   ],
   "source": [
    "dict_cities"
   ]
  },
  {
   "cell_type": "code",
   "execution_count": 10,
   "id": "5a9ff097",
   "metadata": {},
   "outputs": [],
   "source": [
    "# distancia_pares contem todas combinacoes dois a dois de horas gastas \n",
    "# distancia_pares combinada com solucao fornece o tempo total para fazer o percurso de ida e volta"
   ]
  }
 ],
 "metadata": {
  "kernelspec": {
   "display_name": "Python 3 (ipykernel)",
   "language": "python",
   "name": "python3"
  },
  "language_info": {
   "codemirror_mode": {
    "name": "ipython",
    "version": 3
   },
   "file_extension": ".py",
   "mimetype": "text/x-python",
   "name": "python",
   "nbconvert_exporter": "python",
   "pygments_lexer": "ipython3",
   "version": "3.9.18"
  }
 },
 "nbformat": 4,
 "nbformat_minor": 5
}
