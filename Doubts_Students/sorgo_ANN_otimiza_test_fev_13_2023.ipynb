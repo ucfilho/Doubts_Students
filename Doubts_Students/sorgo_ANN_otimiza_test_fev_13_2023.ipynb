{
  "nbformat": 4,
  "nbformat_minor": 0,
  "metadata": {
    "colab": {
      "provenance": [],
      "include_colab_link": true
    },
    "kernelspec": {
      "display_name": "Python 3",
      "language": "python",
      "name": "python3"
    }
  },
  "cells": [
    {
      "cell_type": "markdown",
      "metadata": {
        "id": "view-in-github",
        "colab_type": "text"
      },
      "source": [
        "<a href=\"https://colab.research.google.com/github/ucfilho/Doubts_Students/blob/master/Doubts_Students/sorgo_ANN_otimiza_test_fev_13_2023.ipynb\" target=\"_parent\"><img src=\"https://colab.research.google.com/assets/colab-badge.svg\" alt=\"Open In Colab\"/></a>"
      ]
    },
    {
      "cell_type": "code",
      "metadata": {
        "id": "8CK0d8tEzkzW"
      },
      "source": [
        "# bibliotecas usadas\n",
        "import os\n",
        "import numpy as np\n",
        "import pandas as pd\n",
        "import matplotlib.pyplot as plt\n",
        "from scipy import optimize\n",
        "from sklearn.neural_network import MLPRegressor\n",
        "from sklearn.metrics import mean_squared_error\n",
        "from sklearn.metrics import r2_score \n",
        "from mpl_toolkits.mplot3d import Axes3D, axes3d\n",
        "from sklearn.preprocessing import StandardScaler\n",
        "from google.colab import files\n",
        "from sklearn.model_selection import train_test_split"
      ],
      "execution_count": 51,
      "outputs": []
    },
    {
      "cell_type": "code",
      "metadata": {
        "id": "hN9aPXQrzkzl",
        "colab": {
          "base_uri": "https://localhost:8080/",
          "height": 79
        },
        "outputId": "dbc46fcb-5b8d-4188-fc48-2f827d8f830f"
      },
      "source": [
        "#n = input('Entre sua escolha (0,1 ou 2) para  (ponta negra, 1g100, dbk550:')\n",
        "uploaded = files.upload()"
      ],
      "execution_count": 52,
      "outputs": [
        {
          "output_type": "display_data",
          "data": {
            "text/plain": [
              "<IPython.core.display.HTML object>"
            ],
            "text/html": [
              "\n",
              "     <input type=\"file\" id=\"files-4cc81f7b-078a-4dbb-8a41-db5e96d701e2\" name=\"files[]\" multiple disabled\n",
              "        style=\"border:none\" />\n",
              "     <output id=\"result-4cc81f7b-078a-4dbb-8a41-db5e96d701e2\">\n",
              "      Upload widget is only available when the cell has been executed in the\n",
              "      current browser session. Please rerun this cell to enable.\n",
              "      </output>\n",
              "      <script>// Copyright 2017 Google LLC\n",
              "//\n",
              "// Licensed under the Apache License, Version 2.0 (the \"License\");\n",
              "// you may not use this file except in compliance with the License.\n",
              "// You may obtain a copy of the License at\n",
              "//\n",
              "//      http://www.apache.org/licenses/LICENSE-2.0\n",
              "//\n",
              "// Unless required by applicable law or agreed to in writing, software\n",
              "// distributed under the License is distributed on an \"AS IS\" BASIS,\n",
              "// WITHOUT WARRANTIES OR CONDITIONS OF ANY KIND, either express or implied.\n",
              "// See the License for the specific language governing permissions and\n",
              "// limitations under the License.\n",
              "\n",
              "/**\n",
              " * @fileoverview Helpers for google.colab Python module.\n",
              " */\n",
              "(function(scope) {\n",
              "function span(text, styleAttributes = {}) {\n",
              "  const element = document.createElement('span');\n",
              "  element.textContent = text;\n",
              "  for (const key of Object.keys(styleAttributes)) {\n",
              "    element.style[key] = styleAttributes[key];\n",
              "  }\n",
              "  return element;\n",
              "}\n",
              "\n",
              "// Max number of bytes which will be uploaded at a time.\n",
              "const MAX_PAYLOAD_SIZE = 100 * 1024;\n",
              "\n",
              "function _uploadFiles(inputId, outputId) {\n",
              "  const steps = uploadFilesStep(inputId, outputId);\n",
              "  const outputElement = document.getElementById(outputId);\n",
              "  // Cache steps on the outputElement to make it available for the next call\n",
              "  // to uploadFilesContinue from Python.\n",
              "  outputElement.steps = steps;\n",
              "\n",
              "  return _uploadFilesContinue(outputId);\n",
              "}\n",
              "\n",
              "// This is roughly an async generator (not supported in the browser yet),\n",
              "// where there are multiple asynchronous steps and the Python side is going\n",
              "// to poll for completion of each step.\n",
              "// This uses a Promise to block the python side on completion of each step,\n",
              "// then passes the result of the previous step as the input to the next step.\n",
              "function _uploadFilesContinue(outputId) {\n",
              "  const outputElement = document.getElementById(outputId);\n",
              "  const steps = outputElement.steps;\n",
              "\n",
              "  const next = steps.next(outputElement.lastPromiseValue);\n",
              "  return Promise.resolve(next.value.promise).then((value) => {\n",
              "    // Cache the last promise value to make it available to the next\n",
              "    // step of the generator.\n",
              "    outputElement.lastPromiseValue = value;\n",
              "    return next.value.response;\n",
              "  });\n",
              "}\n",
              "\n",
              "/**\n",
              " * Generator function which is called between each async step of the upload\n",
              " * process.\n",
              " * @param {string} inputId Element ID of the input file picker element.\n",
              " * @param {string} outputId Element ID of the output display.\n",
              " * @return {!Iterable<!Object>} Iterable of next steps.\n",
              " */\n",
              "function* uploadFilesStep(inputId, outputId) {\n",
              "  const inputElement = document.getElementById(inputId);\n",
              "  inputElement.disabled = false;\n",
              "\n",
              "  const outputElement = document.getElementById(outputId);\n",
              "  outputElement.innerHTML = '';\n",
              "\n",
              "  const pickedPromise = new Promise((resolve) => {\n",
              "    inputElement.addEventListener('change', (e) => {\n",
              "      resolve(e.target.files);\n",
              "    });\n",
              "  });\n",
              "\n",
              "  const cancel = document.createElement('button');\n",
              "  inputElement.parentElement.appendChild(cancel);\n",
              "  cancel.textContent = 'Cancel upload';\n",
              "  const cancelPromise = new Promise((resolve) => {\n",
              "    cancel.onclick = () => {\n",
              "      resolve(null);\n",
              "    };\n",
              "  });\n",
              "\n",
              "  // Wait for the user to pick the files.\n",
              "  const files = yield {\n",
              "    promise: Promise.race([pickedPromise, cancelPromise]),\n",
              "    response: {\n",
              "      action: 'starting',\n",
              "    }\n",
              "  };\n",
              "\n",
              "  cancel.remove();\n",
              "\n",
              "  // Disable the input element since further picks are not allowed.\n",
              "  inputElement.disabled = true;\n",
              "\n",
              "  if (!files) {\n",
              "    return {\n",
              "      response: {\n",
              "        action: 'complete',\n",
              "      }\n",
              "    };\n",
              "  }\n",
              "\n",
              "  for (const file of files) {\n",
              "    const li = document.createElement('li');\n",
              "    li.append(span(file.name, {fontWeight: 'bold'}));\n",
              "    li.append(span(\n",
              "        `(${file.type || 'n/a'}) - ${file.size} bytes, ` +\n",
              "        `last modified: ${\n",
              "            file.lastModifiedDate ? file.lastModifiedDate.toLocaleDateString() :\n",
              "                                    'n/a'} - `));\n",
              "    const percent = span('0% done');\n",
              "    li.appendChild(percent);\n",
              "\n",
              "    outputElement.appendChild(li);\n",
              "\n",
              "    const fileDataPromise = new Promise((resolve) => {\n",
              "      const reader = new FileReader();\n",
              "      reader.onload = (e) => {\n",
              "        resolve(e.target.result);\n",
              "      };\n",
              "      reader.readAsArrayBuffer(file);\n",
              "    });\n",
              "    // Wait for the data to be ready.\n",
              "    let fileData = yield {\n",
              "      promise: fileDataPromise,\n",
              "      response: {\n",
              "        action: 'continue',\n",
              "      }\n",
              "    };\n",
              "\n",
              "    // Use a chunked sending to avoid message size limits. See b/62115660.\n",
              "    let position = 0;\n",
              "    do {\n",
              "      const length = Math.min(fileData.byteLength - position, MAX_PAYLOAD_SIZE);\n",
              "      const chunk = new Uint8Array(fileData, position, length);\n",
              "      position += length;\n",
              "\n",
              "      const base64 = btoa(String.fromCharCode.apply(null, chunk));\n",
              "      yield {\n",
              "        response: {\n",
              "          action: 'append',\n",
              "          file: file.name,\n",
              "          data: base64,\n",
              "        },\n",
              "      };\n",
              "\n",
              "      let percentDone = fileData.byteLength === 0 ?\n",
              "          100 :\n",
              "          Math.round((position / fileData.byteLength) * 100);\n",
              "      percent.textContent = `${percentDone}% done`;\n",
              "\n",
              "    } while (position < fileData.byteLength);\n",
              "  }\n",
              "\n",
              "  // All done.\n",
              "  yield {\n",
              "    response: {\n",
              "      action: 'complete',\n",
              "    }\n",
              "  };\n",
              "}\n",
              "\n",
              "scope.google = scope.google || {};\n",
              "scope.google.colab = scope.google.colab || {};\n",
              "scope.google.colab._files = {\n",
              "  _uploadFiles,\n",
              "  _uploadFilesContinue,\n",
              "};\n",
              "})(self);\n",
              "</script> "
            ]
          },
          "metadata": {}
        },
        {
          "output_type": "stream",
          "name": "stdout",
          "text": [
            "Saving Novos Pontos DBK 550.xlsx to Novos Pontos DBK 550 (3).xlsx\n"
          ]
        }
      ]
    },
    {
      "cell_type": "code",
      "metadata": {
        "id": "x_biWwCEzkzp",
        "colab": {
          "base_uri": "https://localhost:8080/"
        },
        "outputId": "50ead6a6-5cb1-4f90-e8df-ea2ab42ef693"
      },
      "source": [
        "choose = [\"sorgopontanegra.csv\",\"Sorgo_1G100.csv\",\"Sorgo_DBK550.csv\"]\n",
        "#DAT=pd.read_csv(choose[int(n)])\n",
        "# DAT = pd. read_excel('Dados 1G100_Pontos novos.xlsx')\n",
        "# DAT = pd. read_excel('Dados completos 1G100.xlsx')\n",
        "DAT = pd. read_excel('Novos Pontos DBK 550.xlsx')\n",
        "print(DAT.head())"
      ],
      "execution_count": 53,
      "outputs": [
        {
          "output_type": "stream",
          "name": "stdout",
          "text": [
            "  Run       SO    IN        GL       Et  Ethanol (L/100kg sorgo)       Fi  \\\n",
            "0   1   35.000  15.0   24.8075  10.2423                37.089625  25.8914   \n",
            "1   2   35.000  45.0   27.0086  13.1010                47.441608  25.5885   \n",
            "2   3  165.000  15.0   94.7485  41.6580                31.999078  45.3776   \n",
            "3   4  165.000  45.0  105.3143  48.9050                37.565772  52.7557   \n",
            "4   5   25.445  30.0   19.1501   9.4690                47.165523  32.5240   \n",
            "\n",
            "         ST         Y1  \n",
            "0   24.8075  80.796694  \n",
            "1   27.0086  94.925190  \n",
            "2   94.7485  86.040945  \n",
            "3  105.3143  90.875124  \n",
            "4   19.1501  96.763634  \n"
          ]
        }
      ]
    },
    {
      "cell_type": "code",
      "source": [
        "def zscore(x,xold):\n",
        "  x = np.array(x)\n",
        "  xold = np.array(xold)\n",
        "  nrows, ncol = x.shape\n",
        "  for j in range(ncol):\n",
        "    avgx,stdx = np.average(xold[:,j]), np.std(xold[:,j])\n",
        "    x[:,j]=(x[:,j]-avgx)/stdx\n",
        "  return x"
      ],
      "metadata": {
        "id": "Wa-QWwfsTttY"
      },
      "execution_count": 54,
      "outputs": []
    },
    {
      "cell_type": "code",
      "source": [
        "def z2val(x,xold): \n",
        "  x = np.array(x)\n",
        "  xold = np.array(xold)\n",
        "  nrows, ncol = x.shape\n",
        "  for j in range(ncol):\n",
        "    avgx,stdx = np.average(xold[:,j]), np.std(xold[:,j])\n",
        "    x[:,j]=x[:,j]*stdx+avgx\n",
        "  return x"
      ],
      "metadata": {
        "id": "mLw9WvUgTukX"
      },
      "execution_count": 55,
      "outputs": []
    },
    {
      "cell_type": "code",
      "source": [
        "DAT.columns=['Run', 'SO', 'IN', 'GL ', 'Et', 'Et2', 'Fi', 'ST', 'Y1']"
      ],
      "metadata": {
        "id": "CN5jiuuk8FAY"
      },
      "execution_count": 56,
      "outputs": []
    },
    {
      "cell_type": "code",
      "source": [
        "Col_Indep=['SO','IN']\n",
        "names =[ 'Et']\n",
        "#names =[ 'Y1']"
      ],
      "metadata": {
        "id": "rlIOjl-t08GR"
      },
      "execution_count": 57,
      "outputs": []
    },
    {
      "cell_type": "code",
      "source": [
        "nrows, ncols = DAT.shape\n",
        "itrain, itest =train_test_split(range(nrows), test_size=0.2,random_state=14) # 2,3,4,5,6,7,8,9,10,11,22"
      ],
      "metadata": {
        "id": "tD3KXTcOyeE4"
      },
      "execution_count": 58,
      "outputs": []
    },
    {
      "cell_type": "markdown",
      "source": [],
      "metadata": {
        "id": "-3FHW37WCpdg"
      }
    },
    {
      "cell_type": "code",
      "metadata": {
        "id": "XX6YzHtEzkzy"
      },
      "source": [
        "# separa as colunas de interesse\n",
        "x_train=DAT[Col_Indep].iloc[itrain,:].copy()\n",
        "y_train=DAT[names].iloc[itrain,:].copy()\n",
        "x_test = DAT[Col_Indep].iloc[itest,:].copy()\n",
        "y_test = DAT[names].iloc[itest,:].copy()"
      ],
      "execution_count": 59,
      "outputs": []
    },
    {
      "cell_type": "code",
      "source": [
        "xold, yold = DAT[Col_Indep],DAT[names]"
      ],
      "metadata": {
        "id": "JE9tcSQWUKHh"
      },
      "execution_count": 60,
      "outputs": []
    },
    {
      "cell_type": "code",
      "source": [
        "x_train, y_train = zscore(x_train,xold), zscore(y_train,yold)\n",
        "x_test, y_test = zscore(x_test,xold), zscore(y_test,yold)"
      ],
      "metadata": {
        "id": "zuR7kj2nUK9I"
      },
      "execution_count": 61,
      "outputs": []
    },
    {
      "cell_type": "code",
      "source": [
        "x_train"
      ],
      "metadata": {
        "colab": {
          "base_uri": "https://localhost:8080/"
        },
        "id": "R0M9Ju9FfECc",
        "outputId": "88a82d2a-2295-4169-e9a4-91c803b59411"
      },
      "execution_count": 62,
      "outputs": [
        {
          "output_type": "execute_result",
          "data": {
            "text/plain": [
              "array([[ 1.28040331, -1.32787567],\n",
              "       [-1.22016134,  1.32787567],\n",
              "       [ 1.28040331,  0.88525045],\n",
              "       [ 1.46313688,  0.        ],\n",
              "       [-1.22016134, -1.32787567],\n",
              "       [ 0.99187662, -0.88525045],\n",
              "       [ 0.03012098,  0.        ],\n",
              "       [ 0.03012098,  1.52263077],\n",
              "       [ 0.03012098, -1.52263077],\n",
              "       [-1.22016134, -0.88525045],\n",
              "       [ 0.03012098,  0.        ],\n",
              "       [-0.16223014, -0.44262522]])"
            ]
          },
          "metadata": {},
          "execution_count": 62
        }
      ]
    },
    {
      "cell_type": "code",
      "metadata": {
        "id": "V6wOyxX3zk0I"
      },
      "source": [
        "# define a rede neural \n",
        "def optmANN(x_train,x_test,y_train,y_test):\n",
        "  resp_scored = []\n",
        "  for i in range(1,15):\n",
        "    r_calc =[]\n",
        "    N_Hidden = i\n",
        "    clf = MLPRegressor(solver='lbfgs',activation='tanh',\n",
        "                      alpha=1e-5,hidden_layer_sizes=(N_Hidden), \n",
        "                        random_state=1)\n",
        "    clf.fit(x_train, y_train)\n",
        "    y_calc_train=clf.predict(x_train)\n",
        "    y_calc_test=clf.predict(x_test)\n",
        "    y_calc_train=pd.DataFrame(y_calc_train)\n",
        "    y_calc_test=pd.DataFrame(y_calc_test)\n",
        "    r2_test= r2_score(y_test,y_calc_test)\n",
        "    r2_train = r2_score(y_train,y_calc_train)\n",
        "    r_calc.append(i)\n",
        "    r_calc.append(r2_train)\n",
        "    r_calc.append(r2_test)\n",
        "    resp_scored.append(r_calc)\n",
        "\n",
        "  df = pd.DataFrame(resp_scored,columns=['hidden','r2 train','r2 test'])\n",
        "  return df"
      ],
      "execution_count": 63,
      "outputs": []
    },
    {
      "cell_type": "code",
      "source": [
        "df = optmANN(x_train,x_test,y_train,y_test)\n",
        "df"
      ],
      "metadata": {
        "colab": {
          "base_uri": "https://localhost:8080/",
          "height": 1000
        },
        "id": "2U62qN9xxKZu",
        "outputId": "4f43fef0-1091-4ff2-a95d-278c954cdf05"
      },
      "execution_count": 64,
      "outputs": [
        {
          "output_type": "stream",
          "name": "stderr",
          "text": [
            "/usr/local/lib/python3.8/dist-packages/sklearn/neural_network/_multilayer_perceptron.py:1599: DataConversionWarning: A column-vector y was passed when a 1d array was expected. Please change the shape of y to (n_samples, ), for example using ravel().\n",
            "  y = column_or_1d(y, warn=True)\n",
            "/usr/local/lib/python3.8/dist-packages/sklearn/neural_network/_multilayer_perceptron.py:1599: DataConversionWarning: A column-vector y was passed when a 1d array was expected. Please change the shape of y to (n_samples, ), for example using ravel().\n",
            "  y = column_or_1d(y, warn=True)\n",
            "/usr/local/lib/python3.8/dist-packages/sklearn/neural_network/_multilayer_perceptron.py:1599: DataConversionWarning: A column-vector y was passed when a 1d array was expected. Please change the shape of y to (n_samples, ), for example using ravel().\n",
            "  y = column_or_1d(y, warn=True)\n",
            "/usr/local/lib/python3.8/dist-packages/sklearn/neural_network/_multilayer_perceptron.py:1599: DataConversionWarning: A column-vector y was passed when a 1d array was expected. Please change the shape of y to (n_samples, ), for example using ravel().\n",
            "  y = column_or_1d(y, warn=True)\n",
            "/usr/local/lib/python3.8/dist-packages/sklearn/neural_network/_multilayer_perceptron.py:1599: DataConversionWarning: A column-vector y was passed when a 1d array was expected. Please change the shape of y to (n_samples, ), for example using ravel().\n",
            "  y = column_or_1d(y, warn=True)\n",
            "/usr/local/lib/python3.8/dist-packages/sklearn/neural_network/_multilayer_perceptron.py:1599: DataConversionWarning: A column-vector y was passed when a 1d array was expected. Please change the shape of y to (n_samples, ), for example using ravel().\n",
            "  y = column_or_1d(y, warn=True)\n",
            "/usr/local/lib/python3.8/dist-packages/sklearn/neural_network/_multilayer_perceptron.py:1599: DataConversionWarning: A column-vector y was passed when a 1d array was expected. Please change the shape of y to (n_samples, ), for example using ravel().\n",
            "  y = column_or_1d(y, warn=True)\n",
            "/usr/local/lib/python3.8/dist-packages/sklearn/neural_network/_multilayer_perceptron.py:1599: DataConversionWarning: A column-vector y was passed when a 1d array was expected. Please change the shape of y to (n_samples, ), for example using ravel().\n",
            "  y = column_or_1d(y, warn=True)\n",
            "/usr/local/lib/python3.8/dist-packages/sklearn/neural_network/_multilayer_perceptron.py:1599: DataConversionWarning: A column-vector y was passed when a 1d array was expected. Please change the shape of y to (n_samples, ), for example using ravel().\n",
            "  y = column_or_1d(y, warn=True)\n",
            "/usr/local/lib/python3.8/dist-packages/sklearn/neural_network/_multilayer_perceptron.py:1599: DataConversionWarning: A column-vector y was passed when a 1d array was expected. Please change the shape of y to (n_samples, ), for example using ravel().\n",
            "  y = column_or_1d(y, warn=True)\n",
            "/usr/local/lib/python3.8/dist-packages/sklearn/neural_network/_multilayer_perceptron.py:1599: DataConversionWarning: A column-vector y was passed when a 1d array was expected. Please change the shape of y to (n_samples, ), for example using ravel().\n",
            "  y = column_or_1d(y, warn=True)\n",
            "/usr/local/lib/python3.8/dist-packages/sklearn/neural_network/_multilayer_perceptron.py:1599: DataConversionWarning: A column-vector y was passed when a 1d array was expected. Please change the shape of y to (n_samples, ), for example using ravel().\n",
            "  y = column_or_1d(y, warn=True)\n",
            "/usr/local/lib/python3.8/dist-packages/sklearn/neural_network/_multilayer_perceptron.py:1599: DataConversionWarning: A column-vector y was passed when a 1d array was expected. Please change the shape of y to (n_samples, ), for example using ravel().\n",
            "  y = column_or_1d(y, warn=True)\n",
            "/usr/local/lib/python3.8/dist-packages/sklearn/neural_network/_multilayer_perceptron.py:1599: DataConversionWarning: A column-vector y was passed when a 1d array was expected. Please change the shape of y to (n_samples, ), for example using ravel().\n",
            "  y = column_or_1d(y, warn=True)\n"
          ]
        },
        {
          "output_type": "execute_result",
          "data": {
            "text/plain": [
              "    hidden  r2 train   r2 test\n",
              "0        1  0.982181  0.977837\n",
              "1        2  0.991234  0.998876\n",
              "2        3  0.997989  0.855697\n",
              "3        4  0.999998  0.988191\n",
              "4        5  0.999996  0.992721\n",
              "5        6  0.999998  0.991916\n",
              "6        7  0.999991  0.998032\n",
              "7        8  0.999999  0.995827\n",
              "8        9  1.000000  0.968358\n",
              "9       10  0.999999  0.973049\n",
              "10      11  0.999982  0.999072\n",
              "11      12  0.999989  0.993203\n",
              "12      13  0.999999  0.987159\n",
              "13      14  1.000000  0.983457"
            ],
            "text/html": [
              "\n",
              "  <div id=\"df-fc275f9f-bdde-4272-a03b-33011839336f\">\n",
              "    <div class=\"colab-df-container\">\n",
              "      <div>\n",
              "<style scoped>\n",
              "    .dataframe tbody tr th:only-of-type {\n",
              "        vertical-align: middle;\n",
              "    }\n",
              "\n",
              "    .dataframe tbody tr th {\n",
              "        vertical-align: top;\n",
              "    }\n",
              "\n",
              "    .dataframe thead th {\n",
              "        text-align: right;\n",
              "    }\n",
              "</style>\n",
              "<table border=\"1\" class=\"dataframe\">\n",
              "  <thead>\n",
              "    <tr style=\"text-align: right;\">\n",
              "      <th></th>\n",
              "      <th>hidden</th>\n",
              "      <th>r2 train</th>\n",
              "      <th>r2 test</th>\n",
              "    </tr>\n",
              "  </thead>\n",
              "  <tbody>\n",
              "    <tr>\n",
              "      <th>0</th>\n",
              "      <td>1</td>\n",
              "      <td>0.982181</td>\n",
              "      <td>0.977837</td>\n",
              "    </tr>\n",
              "    <tr>\n",
              "      <th>1</th>\n",
              "      <td>2</td>\n",
              "      <td>0.991234</td>\n",
              "      <td>0.998876</td>\n",
              "    </tr>\n",
              "    <tr>\n",
              "      <th>2</th>\n",
              "      <td>3</td>\n",
              "      <td>0.997989</td>\n",
              "      <td>0.855697</td>\n",
              "    </tr>\n",
              "    <tr>\n",
              "      <th>3</th>\n",
              "      <td>4</td>\n",
              "      <td>0.999998</td>\n",
              "      <td>0.988191</td>\n",
              "    </tr>\n",
              "    <tr>\n",
              "      <th>4</th>\n",
              "      <td>5</td>\n",
              "      <td>0.999996</td>\n",
              "      <td>0.992721</td>\n",
              "    </tr>\n",
              "    <tr>\n",
              "      <th>5</th>\n",
              "      <td>6</td>\n",
              "      <td>0.999998</td>\n",
              "      <td>0.991916</td>\n",
              "    </tr>\n",
              "    <tr>\n",
              "      <th>6</th>\n",
              "      <td>7</td>\n",
              "      <td>0.999991</td>\n",
              "      <td>0.998032</td>\n",
              "    </tr>\n",
              "    <tr>\n",
              "      <th>7</th>\n",
              "      <td>8</td>\n",
              "      <td>0.999999</td>\n",
              "      <td>0.995827</td>\n",
              "    </tr>\n",
              "    <tr>\n",
              "      <th>8</th>\n",
              "      <td>9</td>\n",
              "      <td>1.000000</td>\n",
              "      <td>0.968358</td>\n",
              "    </tr>\n",
              "    <tr>\n",
              "      <th>9</th>\n",
              "      <td>10</td>\n",
              "      <td>0.999999</td>\n",
              "      <td>0.973049</td>\n",
              "    </tr>\n",
              "    <tr>\n",
              "      <th>10</th>\n",
              "      <td>11</td>\n",
              "      <td>0.999982</td>\n",
              "      <td>0.999072</td>\n",
              "    </tr>\n",
              "    <tr>\n",
              "      <th>11</th>\n",
              "      <td>12</td>\n",
              "      <td>0.999989</td>\n",
              "      <td>0.993203</td>\n",
              "    </tr>\n",
              "    <tr>\n",
              "      <th>12</th>\n",
              "      <td>13</td>\n",
              "      <td>0.999999</td>\n",
              "      <td>0.987159</td>\n",
              "    </tr>\n",
              "    <tr>\n",
              "      <th>13</th>\n",
              "      <td>14</td>\n",
              "      <td>1.000000</td>\n",
              "      <td>0.983457</td>\n",
              "    </tr>\n",
              "  </tbody>\n",
              "</table>\n",
              "</div>\n",
              "      <button class=\"colab-df-convert\" onclick=\"convertToInteractive('df-fc275f9f-bdde-4272-a03b-33011839336f')\"\n",
              "              title=\"Convert this dataframe to an interactive table.\"\n",
              "              style=\"display:none;\">\n",
              "        \n",
              "  <svg xmlns=\"http://www.w3.org/2000/svg\" height=\"24px\"viewBox=\"0 0 24 24\"\n",
              "       width=\"24px\">\n",
              "    <path d=\"M0 0h24v24H0V0z\" fill=\"none\"/>\n",
              "    <path d=\"M18.56 5.44l.94 2.06.94-2.06 2.06-.94-2.06-.94-.94-2.06-.94 2.06-2.06.94zm-11 1L8.5 8.5l.94-2.06 2.06-.94-2.06-.94L8.5 2.5l-.94 2.06-2.06.94zm10 10l.94 2.06.94-2.06 2.06-.94-2.06-.94-.94-2.06-.94 2.06-2.06.94z\"/><path d=\"M17.41 7.96l-1.37-1.37c-.4-.4-.92-.59-1.43-.59-.52 0-1.04.2-1.43.59L10.3 9.45l-7.72 7.72c-.78.78-.78 2.05 0 2.83L4 21.41c.39.39.9.59 1.41.59.51 0 1.02-.2 1.41-.59l7.78-7.78 2.81-2.81c.8-.78.8-2.07 0-2.86zM5.41 20L4 18.59l7.72-7.72 1.47 1.35L5.41 20z\"/>\n",
              "  </svg>\n",
              "      </button>\n",
              "      \n",
              "  <style>\n",
              "    .colab-df-container {\n",
              "      display:flex;\n",
              "      flex-wrap:wrap;\n",
              "      gap: 12px;\n",
              "    }\n",
              "\n",
              "    .colab-df-convert {\n",
              "      background-color: #E8F0FE;\n",
              "      border: none;\n",
              "      border-radius: 50%;\n",
              "      cursor: pointer;\n",
              "      display: none;\n",
              "      fill: #1967D2;\n",
              "      height: 32px;\n",
              "      padding: 0 0 0 0;\n",
              "      width: 32px;\n",
              "    }\n",
              "\n",
              "    .colab-df-convert:hover {\n",
              "      background-color: #E2EBFA;\n",
              "      box-shadow: 0px 1px 2px rgba(60, 64, 67, 0.3), 0px 1px 3px 1px rgba(60, 64, 67, 0.15);\n",
              "      fill: #174EA6;\n",
              "    }\n",
              "\n",
              "    [theme=dark] .colab-df-convert {\n",
              "      background-color: #3B4455;\n",
              "      fill: #D2E3FC;\n",
              "    }\n",
              "\n",
              "    [theme=dark] .colab-df-convert:hover {\n",
              "      background-color: #434B5C;\n",
              "      box-shadow: 0px 1px 3px 1px rgba(0, 0, 0, 0.15);\n",
              "      filter: drop-shadow(0px 1px 2px rgba(0, 0, 0, 0.3));\n",
              "      fill: #FFFFFF;\n",
              "    }\n",
              "  </style>\n",
              "\n",
              "      <script>\n",
              "        const buttonEl =\n",
              "          document.querySelector('#df-fc275f9f-bdde-4272-a03b-33011839336f button.colab-df-convert');\n",
              "        buttonEl.style.display =\n",
              "          google.colab.kernel.accessAllowed ? 'block' : 'none';\n",
              "\n",
              "        async function convertToInteractive(key) {\n",
              "          const element = document.querySelector('#df-fc275f9f-bdde-4272-a03b-33011839336f');\n",
              "          const dataTable =\n",
              "            await google.colab.kernel.invokeFunction('convertToInteractive',\n",
              "                                                     [key], {});\n",
              "          if (!dataTable) return;\n",
              "\n",
              "          const docLinkHtml = 'Like what you see? Visit the ' +\n",
              "            '<a target=\"_blank\" href=https://colab.research.google.com/notebooks/data_table.ipynb>data table notebook</a>'\n",
              "            + ' to learn more about interactive tables.';\n",
              "          element.innerHTML = '';\n",
              "          dataTable['output_type'] = 'display_data';\n",
              "          await google.colab.output.renderOutput(dataTable, element);\n",
              "          const docLink = document.createElement('div');\n",
              "          docLink.innerHTML = docLinkHtml;\n",
              "          element.appendChild(docLink);\n",
              "        }\n",
              "      </script>\n",
              "    </div>\n",
              "  </div>\n",
              "  "
            ]
          },
          "metadata": {},
          "execution_count": 64
        }
      ]
    },
    {
      "cell_type": "code",
      "source": [
        "# define a rede neural \n",
        "N_Hidden= 5\n",
        "clf = MLPRegressor(solver='lbfgs',activation='tanh',alpha=1e-5,hidden_layer_sizes=(N_Hidden), \n",
        "                    random_state=1)\n",
        "clf.fit(x_train, y_train)"
      ],
      "metadata": {
        "colab": {
          "base_uri": "https://localhost:8080/"
        },
        "id": "MwWt-NA2hopK",
        "outputId": "b2ad5740-4d45-409b-c047-301c8afc35f4"
      },
      "execution_count": 65,
      "outputs": [
        {
          "output_type": "stream",
          "name": "stderr",
          "text": [
            "/usr/local/lib/python3.8/dist-packages/sklearn/neural_network/_multilayer_perceptron.py:1599: DataConversionWarning: A column-vector y was passed when a 1d array was expected. Please change the shape of y to (n_samples, ), for example using ravel().\n",
            "  y = column_or_1d(y, warn=True)\n"
          ]
        },
        {
          "output_type": "execute_result",
          "data": {
            "text/plain": [
              "MLPRegressor(activation='tanh', alpha=1e-05, hidden_layer_sizes=5,\n",
              "             random_state=1, solver='lbfgs')"
            ]
          },
          "metadata": {},
          "execution_count": 65
        }
      ]
    },
    {
      "cell_type": "code",
      "metadata": {
        "id": "S-ZMrvP9zk0R"
      },
      "source": [
        "# usa a rede neural treina em calculos para treino e teste\n",
        "y_calc_train=clf.predict(x_train)\n",
        "y_calc_test=clf.predict(x_test)"
      ],
      "execution_count": 66,
      "outputs": []
    },
    {
      "cell_type": "code",
      "metadata": {
        "id": "z0k-MXzVzk0V"
      },
      "source": [
        "# transforma a saida da rede em dataframe \n",
        "y_calc_train=pd.DataFrame(y_calc_train)\n",
        "y_calc_test=pd.DataFrame(y_calc_test)"
      ],
      "execution_count": 67,
      "outputs": []
    },
    {
      "cell_type": "code",
      "metadata": {
        "id": "C-1ktMvKzk0Z"
      },
      "source": [
        "# transforma dos dados calculados na forma original (nao normatizado)\n",
        "y_calc_train, y_calc_test = z2val(y_calc_train,yold), z2val(y_calc_test,yold)\n",
        "y_train, y_test = z2val(y_train,yold), z2val(y_test,yold)"
      ],
      "execution_count": 68,
      "outputs": []
    },
    {
      "cell_type": "code",
      "metadata": {
        "id": "qxgAeFwl64Db",
        "colab": {
          "base_uri": "https://localhost:8080/",
          "height": 279
        },
        "outputId": "e00feafa-c477-4456-8615-7148cde9ce40"
      },
      "source": [
        "# expressa os dois dados em figura\n",
        "fig = plt.figure()\n",
        "ax1 = fig.add_subplot(111)\n",
        "\n",
        "ax1.scatter(y_test,y_calc_test, s=10, c='b', marker=\"s\", label='teste')\n",
        "ax1.scatter(y_train,y_calc_train, s=10, c='r', marker=\"o\", label='treino')\n",
        "plt.legend(loc='upper left')\n",
        "plt.ylabel('Y ANN')\n",
        "plt.xlabel('Y real')\n",
        "plt.show()"
      ],
      "execution_count": 69,
      "outputs": [
        {
          "output_type": "display_data",
          "data": {
            "text/plain": [
              "<Figure size 432x288 with 1 Axes>"
            ],
            "image/png": "[encoded data removed]"
          },
          "metadata": {
            "needs_background": "light"
          }
        }
      ]
    },
    {
      "cell_type": "code",
      "source": [
        "r2_test= r2_score(y_test,y_calc_test)\n",
        "r2_train = r2_score(y_train,y_calc_train)\n",
        "print('r2 (train)=',r2_train)\n",
        "print('r2 (test)=',r2_test)"
      ],
      "metadata": {
        "id": "lkzcUc2X_T5K",
        "colab": {
          "base_uri": "https://localhost:8080/"
        },
        "outputId": "aafc1cd5-1fb3-43e1-f734-68dbf36f2cd5"
      },
      "execution_count": 70,
      "outputs": [
        {
          "output_type": "stream",
          "name": "stdout",
          "text": [
            "r2 (train)= 0.9999961274625884\n",
            "r2 (test)= 0.9927207292047671\n"
          ]
        }
      ]
    },
    {
      "cell_type": "code",
      "source": [
        "y_calc_train"
      ],
      "metadata": {
        "colab": {
          "base_uri": "https://localhost:8080/"
        },
        "id": "xAc0bGdFc5hM",
        "outputId": "fd984126-8ad1-4fbe-f7d4-c1ef34304cd1"
      },
      "execution_count": 71,
      "outputs": [
        {
          "output_type": "execute_result",
          "data": {
            "text/plain": [
              "array([[41.67241233],\n",
              "       [13.58744229],\n",
              "       [47.87014357],\n",
              "       [42.70153165],\n",
              "       [10.21345207],\n",
              "       [44.221072  ],\n",
              "       [28.10706021],\n",
              "       [30.91968157],\n",
              "       [28.38862101],\n",
              "       [10.94686537],\n",
              "       [28.10706021],\n",
              "       [25.96530531]])"
            ]
          },
          "metadata": {},
          "execution_count": 71
        }
      ]
    },
    {
      "cell_type": "code",
      "source": [
        "y_train"
      ],
      "metadata": {
        "colab": {
          "base_uri": "https://localhost:8080/"
        },
        "id": "H3At8KB5dvzm",
        "outputId": "0b5a6095-3106-49b7-c038-40d3ae897250"
      },
      "execution_count": 72,
      "outputs": [
        {
          "output_type": "execute_result",
          "data": {
            "text/plain": [
              "array([[41.658     ],\n",
              "       [13.61173333],\n",
              "       [47.85835   ],\n",
              "       [42.6768    ],\n",
              "       [10.2423    ],\n",
              "       [44.26233333],\n",
              "       [28.1069    ],\n",
              "       [30.9133    ],\n",
              "       [28.3996    ],\n",
              "       [10.90296667],\n",
              "       [28.13126   ],\n",
              "       [25.94373333]])"
            ]
          },
          "metadata": {},
          "execution_count": 72
        }
      ]
    },
    {
      "cell_type": "code",
      "source": [
        "DAT"
      ],
      "metadata": {
        "colab": {
          "base_uri": "https://localhost:8080/",
          "height": 551
        },
        "id": "lUUmj7mQdCze",
        "outputId": "5118fec0-9035-4f26-a3e0-f6048fdbd030"
      },
      "execution_count": 73,
      "outputs": [
        {
          "output_type": "execute_result",
          "data": {
            "text/plain": [
              "   Run       SO    IN         GL          Et        Et2       Fi          ST  \\\n",
              "0    1   35.000  15.0   24.807500  10.242300  37.089625  25.8914   24.807500   \n",
              "1    2   35.000  45.0   27.008600  13.101000  47.441608  25.5885   27.008600   \n",
              "2    3  165.000  15.0   94.748500  41.658000  31.999078  45.3776   94.748500   \n",
              "3    4  165.000  45.0  105.314300  48.905000  37.565772  52.7557  105.314300   \n",
              "4    5   25.445  30.0   19.150100   9.469000  47.165523  32.5240   19.150100   \n",
              "5    6  174.500  30.0   90.474800  42.676800  30.996982  42.8579   90.474800   \n",
              "6    7  100.000  12.8   68.676800  28.399600  35.994423  39.0770   68.676800   \n",
              "7    8  100.000  47.2   67.400500  30.913300  39.180355  37.2130   67.400500   \n",
              "8    9  100.000  30.0   68.617800  28.131260  35.654322  43.6960   68.617800   \n",
              "9   10  100.000  30.0   66.871400  28.106900  35.623447  41.4865   66.871400   \n",
              "10  11  100.000  30.0   67.574700  28.281800  35.845120  40.4555   67.574700   \n",
              "11  12   90.000  25.0   66.272810  25.943733  36.535324  37.1844   66.272810   \n",
              "12  13   35.000  20.0   30.161067  10.902967  39.482045  41.1771   30.161067   \n",
              "13  14  150.000  20.0   95.275800  44.262333  37.399521  36.2640   95.275800   \n",
              "14  15  165.000  40.0  124.647267  47.858350  36.761801  41.0036  124.647267   \n",
              "15  PC   35.000  45.0   32.955630  13.611733  49.291086  26.7228   32.955630   \n",
              "\n",
              "           Y1  \n",
              "0   80.796694  \n",
              "1   94.925190  \n",
              "2   86.040945  \n",
              "3   90.875124  \n",
              "4   96.763634  \n",
              "5   92.308845  \n",
              "6   80.924732  \n",
              "7   89.755558  \n",
              "8   80.229021  \n",
              "9   82.252978  \n",
              "10  81.903417  \n",
              "11  76.608364  \n",
              "12  70.741960  \n",
              "13  90.914007  \n",
              "14  75.137036  \n",
              "15  80.828201  "
            ],
            "text/html": [
              "\n",
              "  <div id=\"df-8c2bc771-222b-47da-9806-3bc43f7a5996\">\n",
              "    <div class=\"colab-df-container\">\n",
              "      <div>\n",
              "<style scoped>\n",
              "    .dataframe tbody tr th:only-of-type {\n",
              "        vertical-align: middle;\n",
              "    }\n",
              "\n",
              "    .dataframe tbody tr th {\n",
              "        vertical-align: top;\n",
              "    }\n",
              "\n",
              "    .dataframe thead th {\n",
              "        text-align: right;\n",
              "    }\n",
              "</style>\n",
              "<table border=\"1\" class=\"dataframe\">\n",
              "  <thead>\n",
              "    <tr style=\"text-align: right;\">\n",
              "      <th></th>\n",
              "      <th>Run</th>\n",
              "      <th>SO</th>\n",
              "      <th>IN</th>\n",
              "      <th>GL</th>\n",
              "      <th>Et</th>\n",
              "      <th>Et2</th>\n",
              "      <th>Fi</th>\n",
              "      <th>ST</th>\n",
              "      <th>Y1</th>\n",
              "    </tr>\n",
              "  </thead>\n",
              "  <tbody>\n",
              "    <tr>\n",
              "      <th>0</th>\n",
              "      <td>1</td>\n",
              "      <td>35.000</td>\n",
              "      <td>15.0</td>\n",
              "      <td>24.807500</td>\n",
              "      <td>10.242300</td>\n",
              "      <td>37.089625</td>\n",
              "      <td>25.8914</td>\n",
              "      <td>24.807500</td>\n",
              "      <td>80.796694</td>\n",
              "    </tr>\n",
              "    <tr>\n",
              "      <th>1</th>\n",
              "      <td>2</td>\n",
              "      <td>35.000</td>\n",
              "      <td>45.0</td>\n",
              "      <td>27.008600</td>\n",
              "      <td>13.101000</td>\n",
              "      <td>47.441608</td>\n",
              "      <td>25.5885</td>\n",
              "      <td>27.008600</td>\n",
              "      <td>94.925190</td>\n",
              "    </tr>\n",
              "    <tr>\n",
              "      <th>2</th>\n",
              "      <td>3</td>\n",
              "      <td>165.000</td>\n",
              "      <td>15.0</td>\n",
              "      <td>94.748500</td>\n",
              "      <td>41.658000</td>\n",
              "      <td>31.999078</td>\n",
              "      <td>45.3776</td>\n",
              "      <td>94.748500</td>\n",
              "      <td>86.040945</td>\n",
              "    </tr>\n",
              "    <tr>\n",
              "      <th>3</th>\n",
              "      <td>4</td>\n",
              "      <td>165.000</td>\n",
              "      <td>45.0</td>\n",
              "      <td>105.314300</td>\n",
              "      <td>48.905000</td>\n",
              "      <td>37.565772</td>\n",
              "      <td>52.7557</td>\n",
              "      <td>105.314300</td>\n",
              "      <td>90.875124</td>\n",
              "    </tr>\n",
              "    <tr>\n",
              "      <th>4</th>\n",
              "      <td>5</td>\n",
              "      <td>25.445</td>\n",
              "      <td>30.0</td>\n",
              "      <td>19.150100</td>\n",
              "      <td>9.469000</td>\n",
              "      <td>47.165523</td>\n",
              "      <td>32.5240</td>\n",
              "      <td>19.150100</td>\n",
              "      <td>96.763634</td>\n",
              "    </tr>\n",
              "    <tr>\n",
              "      <th>5</th>\n",
              "      <td>6</td>\n",
              "      <td>174.500</td>\n",
              "      <td>30.0</td>\n",
              "      <td>90.474800</td>\n",
              "      <td>42.676800</td>\n",
              "      <td>30.996982</td>\n",
              "      <td>42.8579</td>\n",
              "      <td>90.474800</td>\n",
              "      <td>92.308845</td>\n",
              "    </tr>\n",
              "    <tr>\n",
              "      <th>6</th>\n",
              "      <td>7</td>\n",
              "      <td>100.000</td>\n",
              "      <td>12.8</td>\n",
              "      <td>68.676800</td>\n",
              "      <td>28.399600</td>\n",
              "      <td>35.994423</td>\n",
              "      <td>39.0770</td>\n",
              "      <td>68.676800</td>\n",
              "      <td>80.924732</td>\n",
              "    </tr>\n",
              "    <tr>\n",
              "      <th>7</th>\n",
              "      <td>8</td>\n",
              "      <td>100.000</td>\n",
              "      <td>47.2</td>\n",
              "      <td>67.400500</td>\n",
              "      <td>30.913300</td>\n",
              "      <td>39.180355</td>\n",
              "      <td>37.2130</td>\n",
              "      <td>67.400500</td>\n",
              "      <td>89.755558</td>\n",
              "    </tr>\n",
              "    <tr>\n",
              "      <th>8</th>\n",
              "      <td>9</td>\n",
              "      <td>100.000</td>\n",
              "      <td>30.0</td>\n",
              "      <td>68.617800</td>\n",
              "      <td>28.131260</td>\n",
              "      <td>35.654322</td>\n",
              "      <td>43.6960</td>\n",
              "      <td>68.617800</td>\n",
              "      <td>80.229021</td>\n",
              "    </tr>\n",
              "    <tr>\n",
              "      <th>9</th>\n",
              "      <td>10</td>\n",
              "      <td>100.000</td>\n",
              "      <td>30.0</td>\n",
              "      <td>66.871400</td>\n",
              "      <td>28.106900</td>\n",
              "      <td>35.623447</td>\n",
              "      <td>41.4865</td>\n",
              "      <td>66.871400</td>\n",
              "      <td>82.252978</td>\n",
              "    </tr>\n",
              "    <tr>\n",
              "      <th>10</th>\n",
              "      <td>11</td>\n",
              "      <td>100.000</td>\n",
              "      <td>30.0</td>\n",
              "      <td>67.574700</td>\n",
              "      <td>28.281800</td>\n",
              "      <td>35.845120</td>\n",
              "      <td>40.4555</td>\n",
              "      <td>67.574700</td>\n",
              "      <td>81.903417</td>\n",
              "    </tr>\n",
              "    <tr>\n",
              "      <th>11</th>\n",
              "      <td>12</td>\n",
              "      <td>90.000</td>\n",
              "      <td>25.0</td>\n",
              "      <td>66.272810</td>\n",
              "      <td>25.943733</td>\n",
              "      <td>36.535324</td>\n",
              "      <td>37.1844</td>\n",
              "      <td>66.272810</td>\n",
              "      <td>76.608364</td>\n",
              "    </tr>\n",
              "    <tr>\n",
              "      <th>12</th>\n",
              "      <td>13</td>\n",
              "      <td>35.000</td>\n",
              "      <td>20.0</td>\n",
              "      <td>30.161067</td>\n",
              "      <td>10.902967</td>\n",
              "      <td>39.482045</td>\n",
              "      <td>41.1771</td>\n",
              "      <td>30.161067</td>\n",
              "      <td>70.741960</td>\n",
              "    </tr>\n",
              "    <tr>\n",
              "      <th>13</th>\n",
              "      <td>14</td>\n",
              "      <td>150.000</td>\n",
              "      <td>20.0</td>\n",
              "      <td>95.275800</td>\n",
              "      <td>44.262333</td>\n",
              "      <td>37.399521</td>\n",
              "      <td>36.2640</td>\n",
              "      <td>95.275800</td>\n",
              "      <td>90.914007</td>\n",
              "    </tr>\n",
              "    <tr>\n",
              "      <th>14</th>\n",
              "      <td>15</td>\n",
              "      <td>165.000</td>\n",
              "      <td>40.0</td>\n",
              "      <td>124.647267</td>\n",
              "      <td>47.858350</td>\n",
              "      <td>36.761801</td>\n",
              "      <td>41.0036</td>\n",
              "      <td>124.647267</td>\n",
              "      <td>75.137036</td>\n",
              "    </tr>\n",
              "    <tr>\n",
              "      <th>15</th>\n",
              "      <td>PC</td>\n",
              "      <td>35.000</td>\n",
              "      <td>45.0</td>\n",
              "      <td>32.955630</td>\n",
              "      <td>13.611733</td>\n",
              "      <td>49.291086</td>\n",
              "      <td>26.7228</td>\n",
              "      <td>32.955630</td>\n",
              "      <td>80.828201</td>\n",
              "    </tr>\n",
              "  </tbody>\n",
              "</table>\n",
              "</div>\n",
              "      <button class=\"colab-df-convert\" onclick=\"convertToInteractive('df-8c2bc771-222b-47da-9806-3bc43f7a5996')\"\n",
              "              title=\"Convert this dataframe to an interactive table.\"\n",
              "              style=\"display:none;\">\n",
              "        \n",
              "  <svg xmlns=\"http://www.w3.org/2000/svg\" height=\"24px\"viewBox=\"0 0 24 24\"\n",
              "       width=\"24px\">\n",
              "    <path d=\"M0 0h24v24H0V0z\" fill=\"none\"/>\n",
              "    <path d=\"M18.56 5.44l.94 2.06.94-2.06 2.06-.94-2.06-.94-.94-2.06-.94 2.06-2.06.94zm-11 1L8.5 8.5l.94-2.06 2.06-.94-2.06-.94L8.5 2.5l-.94 2.06-2.06.94zm10 10l.94 2.06.94-2.06 2.06-.94-2.06-.94-.94-2.06-.94 2.06-2.06.94z\"/><path d=\"M17.41 7.96l-1.37-1.37c-.4-.4-.92-.59-1.43-.59-.52 0-1.04.2-1.43.59L10.3 9.45l-7.72 7.72c-.78.78-.78 2.05 0 2.83L4 21.41c.39.39.9.59 1.41.59.51 0 1.02-.2 1.41-.59l7.78-7.78 2.81-2.81c.8-.78.8-2.07 0-2.86zM5.41 20L4 18.59l7.72-7.72 1.47 1.35L5.41 20z\"/>\n",
              "  </svg>\n",
              "      </button>\n",
              "      \n",
              "  <style>\n",
              "    .colab-df-container {\n",
              "      display:flex;\n",
              "      flex-wrap:wrap;\n",
              "      gap: 12px;\n",
              "    }\n",
              "\n",
              "    .colab-df-convert {\n",
              "      background-color: #E8F0FE;\n",
              "      border: none;\n",
              "      border-radius: 50%;\n",
              "      cursor: pointer;\n",
              "      display: none;\n",
              "      fill: #1967D2;\n",
              "      height: 32px;\n",
              "      padding: 0 0 0 0;\n",
              "      width: 32px;\n",
              "    }\n",
              "\n",
              "    .colab-df-convert:hover {\n",
              "      background-color: #E2EBFA;\n",
              "      box-shadow: 0px 1px 2px rgba(60, 64, 67, 0.3), 0px 1px 3px 1px rgba(60, 64, 67, 0.15);\n",
              "      fill: #174EA6;\n",
              "    }\n",
              "\n",
              "    [theme=dark] .colab-df-convert {\n",
              "      background-color: #3B4455;\n",
              "      fill: #D2E3FC;\n",
              "    }\n",
              "\n",
              "    [theme=dark] .colab-df-convert:hover {\n",
              "      background-color: #434B5C;\n",
              "      box-shadow: 0px 1px 3px 1px rgba(0, 0, 0, 0.15);\n",
              "      filter: drop-shadow(0px 1px 2px rgba(0, 0, 0, 0.3));\n",
              "      fill: #FFFFFF;\n",
              "    }\n",
              "  </style>\n",
              "\n",
              "      <script>\n",
              "        const buttonEl =\n",
              "          document.querySelector('#df-8c2bc771-222b-47da-9806-3bc43f7a5996 button.colab-df-convert');\n",
              "        buttonEl.style.display =\n",
              "          google.colab.kernel.accessAllowed ? 'block' : 'none';\n",
              "\n",
              "        async function convertToInteractive(key) {\n",
              "          const element = document.querySelector('#df-8c2bc771-222b-47da-9806-3bc43f7a5996');\n",
              "          const dataTable =\n",
              "            await google.colab.kernel.invokeFunction('convertToInteractive',\n",
              "                                                     [key], {});\n",
              "          if (!dataTable) return;\n",
              "\n",
              "          const docLinkHtml = 'Like what you see? Visit the ' +\n",
              "            '<a target=\"_blank\" href=https://colab.research.google.com/notebooks/data_table.ipynb>data table notebook</a>'\n",
              "            + ' to learn more about interactive tables.';\n",
              "          element.innerHTML = '';\n",
              "          dataTable['output_type'] = 'display_data';\n",
              "          await google.colab.output.renderOutput(dataTable, element);\n",
              "          const docLink = document.createElement('div');\n",
              "          docLink.innerHTML = docLinkHtml;\n",
              "          element.appendChild(docLink);\n",
              "        }\n",
              "      </script>\n",
              "    </div>\n",
              "  </div>\n",
              "  "
            ]
          },
          "metadata": {},
          "execution_count": 73
        }
      ]
    },
    {
      "cell_type": "code",
      "metadata": {
        "id": "ffcIWpGGzk0j"
      },
      "source": [
        "def function(x, clf=clf):\n",
        "  n = len(x)\n",
        "  x=x.reshape((1, n))\n",
        "  df = pd.DataFrame(x)\n",
        "  Y=clf.predict(df)\n",
        "  fun=Y*(-1)\n",
        "  return fun\n"
      ],
      "execution_count": 74,
      "outputs": []
    },
    {
      "cell_type": "code",
      "metadata": {
        "id": "hUwDOiuTzk0p"
      },
      "source": [
        "nrows,ncols= x_train.shape\n",
        "bounds = [(-1,1)]*ncols\n",
        "Condicoes = optimize.differential_evolution(function,bounds,\n",
        "                                      init=\"latinhypercube\", # obs: init=\"random\"\n",
        "                                      maxiter=100, popsize=50,recombination=0.5)\n"
      ],
      "execution_count": 75,
      "outputs": []
    },
    {
      "cell_type": "code",
      "source": [
        "n = len(bounds)\n",
        "Condicoes=pd.DataFrame(Condicoes.x.reshape(1, n))\n",
        "Condicoes= z2val(Condicoes,xold)\n",
        "resp = pd.DataFrame(Condicoes,columns=Col_Indep)\n",
        "print(resp)\n",
        "Y=clf.predict(Condicoes).reshape(-1,1)\n",
        "Y =  z2val(Y,yold)\n",
        "print(Y)"
      ],
      "metadata": {
        "id": "w5XI1BFm04nX",
        "colab": {
          "base_uri": "https://localhost:8080/"
        },
        "outputId": "d69ee186-d0f4-455d-af93-8991f222f8ec"
      },
      "execution_count": 76,
      "outputs": [
        {
          "output_type": "stream",
          "name": "stdout",
          "text": [
            "          SO         IN\n",
            "0  150.42232  41.296238\n",
            "[[55.20223567]]\n"
          ]
        }
      ]
    },
    {
      "cell_type": "code",
      "source": [
        "# separa as colunas de interesse\n",
        "x_train, y_train = DAT[Col_Indep],DAT[names]\n",
        "x_train, y_train = zscore(x_train,xold), zscore(y_train,yold)"
      ],
      "metadata": {
        "id": "xGiIQcHNRl98"
      },
      "execution_count": 77,
      "outputs": []
    },
    {
      "cell_type": "code",
      "source": [
        "df = optmANN(x_train,x_train,y_train,y_train)\n",
        "df"
      ],
      "metadata": {
        "id": "YhjkTEEaSLpE",
        "outputId": "be042a8c-30e4-4e39-ac4e-ebc8ee0fd022",
        "colab": {
          "base_uri": "https://localhost:8080/",
          "height": 1000
        }
      },
      "execution_count": 78,
      "outputs": [
        {
          "output_type": "stream",
          "name": "stderr",
          "text": [
            "/usr/local/lib/python3.8/dist-packages/sklearn/neural_network/_multilayer_perceptron.py:1599: DataConversionWarning: A column-vector y was passed when a 1d array was expected. Please change the shape of y to (n_samples, ), for example using ravel().\n",
            "  y = column_or_1d(y, warn=True)\n",
            "/usr/local/lib/python3.8/dist-packages/sklearn/neural_network/_multilayer_perceptron.py:1599: DataConversionWarning: A column-vector y was passed when a 1d array was expected. Please change the shape of y to (n_samples, ), for example using ravel().\n",
            "  y = column_or_1d(y, warn=True)\n",
            "/usr/local/lib/python3.8/dist-packages/sklearn/neural_network/_multilayer_perceptron.py:1599: DataConversionWarning: A column-vector y was passed when a 1d array was expected. Please change the shape of y to (n_samples, ), for example using ravel().\n",
            "  y = column_or_1d(y, warn=True)\n",
            "/usr/local/lib/python3.8/dist-packages/sklearn/neural_network/_multilayer_perceptron.py:1599: DataConversionWarning: A column-vector y was passed when a 1d array was expected. Please change the shape of y to (n_samples, ), for example using ravel().\n",
            "  y = column_or_1d(y, warn=True)\n",
            "/usr/local/lib/python3.8/dist-packages/sklearn/neural_network/_multilayer_perceptron.py:1599: DataConversionWarning: A column-vector y was passed when a 1d array was expected. Please change the shape of y to (n_samples, ), for example using ravel().\n",
            "  y = column_or_1d(y, warn=True)\n",
            "/usr/local/lib/python3.8/dist-packages/sklearn/neural_network/_multilayer_perceptron.py:1599: DataConversionWarning: A column-vector y was passed when a 1d array was expected. Please change the shape of y to (n_samples, ), for example using ravel().\n",
            "  y = column_or_1d(y, warn=True)\n",
            "/usr/local/lib/python3.8/dist-packages/sklearn/neural_network/_multilayer_perceptron.py:549: ConvergenceWarning: lbfgs failed to converge (status=1):\n",
            "STOP: TOTAL NO. of ITERATIONS REACHED LIMIT.\n",
            "\n",
            "Increase the number of iterations (max_iter) or scale the data as shown in:\n",
            "    https://scikit-learn.org/stable/modules/preprocessing.html\n",
            "  self.n_iter_ = _check_optimize_result(\"lbfgs\", opt_res, self.max_iter)\n",
            "/usr/local/lib/python3.8/dist-packages/sklearn/neural_network/_multilayer_perceptron.py:1599: DataConversionWarning: A column-vector y was passed when a 1d array was expected. Please change the shape of y to (n_samples, ), for example using ravel().\n",
            "  y = column_or_1d(y, warn=True)\n",
            "/usr/local/lib/python3.8/dist-packages/sklearn/neural_network/_multilayer_perceptron.py:1599: DataConversionWarning: A column-vector y was passed when a 1d array was expected. Please change the shape of y to (n_samples, ), for example using ravel().\n",
            "  y = column_or_1d(y, warn=True)\n",
            "/usr/local/lib/python3.8/dist-packages/sklearn/neural_network/_multilayer_perceptron.py:1599: DataConversionWarning: A column-vector y was passed when a 1d array was expected. Please change the shape of y to (n_samples, ), for example using ravel().\n",
            "  y = column_or_1d(y, warn=True)\n",
            "/usr/local/lib/python3.8/dist-packages/sklearn/neural_network/_multilayer_perceptron.py:1599: DataConversionWarning: A column-vector y was passed when a 1d array was expected. Please change the shape of y to (n_samples, ), for example using ravel().\n",
            "  y = column_or_1d(y, warn=True)\n",
            "/usr/local/lib/python3.8/dist-packages/sklearn/neural_network/_multilayer_perceptron.py:1599: DataConversionWarning: A column-vector y was passed when a 1d array was expected. Please change the shape of y to (n_samples, ), for example using ravel().\n",
            "  y = column_or_1d(y, warn=True)\n",
            "/usr/local/lib/python3.8/dist-packages/sklearn/neural_network/_multilayer_perceptron.py:1599: DataConversionWarning: A column-vector y was passed when a 1d array was expected. Please change the shape of y to (n_samples, ), for example using ravel().\n",
            "  y = column_or_1d(y, warn=True)\n",
            "/usr/local/lib/python3.8/dist-packages/sklearn/neural_network/_multilayer_perceptron.py:1599: DataConversionWarning: A column-vector y was passed when a 1d array was expected. Please change the shape of y to (n_samples, ), for example using ravel().\n",
            "  y = column_or_1d(y, warn=True)\n",
            "/usr/local/lib/python3.8/dist-packages/sklearn/neural_network/_multilayer_perceptron.py:1599: DataConversionWarning: A column-vector y was passed when a 1d array was expected. Please change the shape of y to (n_samples, ), for example using ravel().\n",
            "  y = column_or_1d(y, warn=True)\n"
          ]
        },
        {
          "output_type": "execute_result",
          "data": {
            "text/plain": [
              "    hidden  r2 train   r2 test\n",
              "0        1  0.983865  0.983865\n",
              "1        2  0.995061  0.995061\n",
              "2        3  0.999687  0.999687\n",
              "3        4  0.999813  0.999813\n",
              "4        5  0.999948  0.999948\n",
              "5        6  0.999879  0.999879\n",
              "6        7  0.999932  0.999932\n",
              "7        8  0.999948  0.999948\n",
              "8        9  0.999944  0.999944\n",
              "9       10  0.999944  0.999944\n",
              "10      11  0.999948  0.999948\n",
              "11      12  0.999936  0.999936\n",
              "12      13  0.999943  0.999943\n",
              "13      14  0.999948  0.999948"
            ],
            "text/html": [
              "\n",
              "  <div id=\"df-abde0780-f4e0-4521-85bc-8a3e07bef310\">\n",
              "    <div class=\"colab-df-container\">\n",
              "      <div>\n",
              "<style scoped>\n",
              "    .dataframe tbody tr th:only-of-type {\n",
              "        vertical-align: middle;\n",
              "    }\n",
              "\n",
              "    .dataframe tbody tr th {\n",
              "        vertical-align: top;\n",
              "    }\n",
              "\n",
              "    .dataframe thead th {\n",
              "        text-align: right;\n",
              "    }\n",
              "</style>\n",
              "<table border=\"1\" class=\"dataframe\">\n",
              "  <thead>\n",
              "    <tr style=\"text-align: right;\">\n",
              "      <th></th>\n",
              "      <th>hidden</th>\n",
              "      <th>r2 train</th>\n",
              "      <th>r2 test</th>\n",
              "    </tr>\n",
              "  </thead>\n",
              "  <tbody>\n",
              "    <tr>\n",
              "      <th>0</th>\n",
              "      <td>1</td>\n",
              "      <td>0.983865</td>\n",
              "      <td>0.983865</td>\n",
              "    </tr>\n",
              "    <tr>\n",
              "      <th>1</th>\n",
              "      <td>2</td>\n",
              "      <td>0.995061</td>\n",
              "      <td>0.995061</td>\n",
              "    </tr>\n",
              "    <tr>\n",
              "      <th>2</th>\n",
              "      <td>3</td>\n",
              "      <td>0.999687</td>\n",
              "      <td>0.999687</td>\n",
              "    </tr>\n",
              "    <tr>\n",
              "      <th>3</th>\n",
              "      <td>4</td>\n",
              "      <td>0.999813</td>\n",
              "      <td>0.999813</td>\n",
              "    </tr>\n",
              "    <tr>\n",
              "      <th>4</th>\n",
              "      <td>5</td>\n",
              "      <td>0.999948</td>\n",
              "      <td>0.999948</td>\n",
              "    </tr>\n",
              "    <tr>\n",
              "      <th>5</th>\n",
              "      <td>6</td>\n",
              "      <td>0.999879</td>\n",
              "      <td>0.999879</td>\n",
              "    </tr>\n",
              "    <tr>\n",
              "      <th>6</th>\n",
              "      <td>7</td>\n",
              "      <td>0.999932</td>\n",
              "      <td>0.999932</td>\n",
              "    </tr>\n",
              "    <tr>\n",
              "      <th>7</th>\n",
              "      <td>8</td>\n",
              "      <td>0.999948</td>\n",
              "      <td>0.999948</td>\n",
              "    </tr>\n",
              "    <tr>\n",
              "      <th>8</th>\n",
              "      <td>9</td>\n",
              "      <td>0.999944</td>\n",
              "      <td>0.999944</td>\n",
              "    </tr>\n",
              "    <tr>\n",
              "      <th>9</th>\n",
              "      <td>10</td>\n",
              "      <td>0.999944</td>\n",
              "      <td>0.999944</td>\n",
              "    </tr>\n",
              "    <tr>\n",
              "      <th>10</th>\n",
              "      <td>11</td>\n",
              "      <td>0.999948</td>\n",
              "      <td>0.999948</td>\n",
              "    </tr>\n",
              "    <tr>\n",
              "      <th>11</th>\n",
              "      <td>12</td>\n",
              "      <td>0.999936</td>\n",
              "      <td>0.999936</td>\n",
              "    </tr>\n",
              "    <tr>\n",
              "      <th>12</th>\n",
              "      <td>13</td>\n",
              "      <td>0.999943</td>\n",
              "      <td>0.999943</td>\n",
              "    </tr>\n",
              "    <tr>\n",
              "      <th>13</th>\n",
              "      <td>14</td>\n",
              "      <td>0.999948</td>\n",
              "      <td>0.999948</td>\n",
              "    </tr>\n",
              "  </tbody>\n",
              "</table>\n",
              "</div>\n",
              "      <button class=\"colab-df-convert\" onclick=\"convertToInteractive('df-abde0780-f4e0-4521-85bc-8a3e07bef310')\"\n",
              "              title=\"Convert this dataframe to an interactive table.\"\n",
              "              style=\"display:none;\">\n",
              "        \n",
              "  <svg xmlns=\"http://www.w3.org/2000/svg\" height=\"24px\"viewBox=\"0 0 24 24\"\n",
              "       width=\"24px\">\n",
              "    <path d=\"M0 0h24v24H0V0z\" fill=\"none\"/>\n",
              "    <path d=\"M18.56 5.44l.94 2.06.94-2.06 2.06-.94-2.06-.94-.94-2.06-.94 2.06-2.06.94zm-11 1L8.5 8.5l.94-2.06 2.06-.94-2.06-.94L8.5 2.5l-.94 2.06-2.06.94zm10 10l.94 2.06.94-2.06 2.06-.94-2.06-.94-.94-2.06-.94 2.06-2.06.94z\"/><path d=\"M17.41 7.96l-1.37-1.37c-.4-.4-.92-.59-1.43-.59-.52 0-1.04.2-1.43.59L10.3 9.45l-7.72 7.72c-.78.78-.78 2.05 0 2.83L4 21.41c.39.39.9.59 1.41.59.51 0 1.02-.2 1.41-.59l7.78-7.78 2.81-2.81c.8-.78.8-2.07 0-2.86zM5.41 20L4 18.59l7.72-7.72 1.47 1.35L5.41 20z\"/>\n",
              "  </svg>\n",
              "      </button>\n",
              "      \n",
              "  <style>\n",
              "    .colab-df-container {\n",
              "      display:flex;\n",
              "      flex-wrap:wrap;\n",
              "      gap: 12px;\n",
              "    }\n",
              "\n",
              "    .colab-df-convert {\n",
              "      background-color: #E8F0FE;\n",
              "      border: none;\n",
              "      border-radius: 50%;\n",
              "      cursor: pointer;\n",
              "      display: none;\n",
              "      fill: #1967D2;\n",
              "      height: 32px;\n",
              "      padding: 0 0 0 0;\n",
              "      width: 32px;\n",
              "    }\n",
              "\n",
              "    .colab-df-convert:hover {\n",
              "      background-color: #E2EBFA;\n",
              "      box-shadow: 0px 1px 2px rgba(60, 64, 67, 0.3), 0px 1px 3px 1px rgba(60, 64, 67, 0.15);\n",
              "      fill: #174EA6;\n",
              "    }\n",
              "\n",
              "    [theme=dark] .colab-df-convert {\n",
              "      background-color: #3B4455;\n",
              "      fill: #D2E3FC;\n",
              "    }\n",
              "\n",
              "    [theme=dark] .colab-df-convert:hover {\n",
              "      background-color: #434B5C;\n",
              "      box-shadow: 0px 1px 3px 1px rgba(0, 0, 0, 0.15);\n",
              "      filter: drop-shadow(0px 1px 2px rgba(0, 0, 0, 0.3));\n",
              "      fill: #FFFFFF;\n",
              "    }\n",
              "  </style>\n",
              "\n",
              "      <script>\n",
              "        const buttonEl =\n",
              "          document.querySelector('#df-abde0780-f4e0-4521-85bc-8a3e07bef310 button.colab-df-convert');\n",
              "        buttonEl.style.display =\n",
              "          google.colab.kernel.accessAllowed ? 'block' : 'none';\n",
              "\n",
              "        async function convertToInteractive(key) {\n",
              "          const element = document.querySelector('#df-abde0780-f4e0-4521-85bc-8a3e07bef310');\n",
              "          const dataTable =\n",
              "            await google.colab.kernel.invokeFunction('convertToInteractive',\n",
              "                                                     [key], {});\n",
              "          if (!dataTable) return;\n",
              "\n",
              "          const docLinkHtml = 'Like what you see? Visit the ' +\n",
              "            '<a target=\"_blank\" href=https://colab.research.google.com/notebooks/data_table.ipynb>data table notebook</a>'\n",
              "            + ' to learn more about interactive tables.';\n",
              "          element.innerHTML = '';\n",
              "          dataTable['output_type'] = 'display_data';\n",
              "          await google.colab.output.renderOutput(dataTable, element);\n",
              "          const docLink = document.createElement('div');\n",
              "          docLink.innerHTML = docLinkHtml;\n",
              "          element.appendChild(docLink);\n",
              "        }\n",
              "      </script>\n",
              "    </div>\n",
              "  </div>\n",
              "  "
            ]
          },
          "metadata": {},
          "execution_count": 78
        }
      ]
    },
    {
      "cell_type": "code",
      "source": [
        "# define a rede neural \n",
        "N_Hidden= 3\n",
        "clf = MLPRegressor(solver='lbfgs',activation='tanh',alpha=1e-5,hidden_layer_sizes=(N_Hidden), \n",
        "                    random_state=1)\n",
        "clf.fit(x_train, y_train)"
      ],
      "metadata": {
        "id": "HOM-6ctSTK_N",
        "outputId": "55142810-ab54-44da-85cc-642e2a89c6b1",
        "colab": {
          "base_uri": "https://localhost:8080/"
        }
      },
      "execution_count": 79,
      "outputs": [
        {
          "output_type": "stream",
          "name": "stderr",
          "text": [
            "/usr/local/lib/python3.8/dist-packages/sklearn/neural_network/_multilayer_perceptron.py:1599: DataConversionWarning: A column-vector y was passed when a 1d array was expected. Please change the shape of y to (n_samples, ), for example using ravel().\n",
            "  y = column_or_1d(y, warn=True)\n"
          ]
        },
        {
          "output_type": "execute_result",
          "data": {
            "text/plain": [
              "MLPRegressor(activation='tanh', alpha=1e-05, hidden_layer_sizes=3,\n",
              "             random_state=1, solver='lbfgs')"
            ]
          },
          "metadata": {},
          "execution_count": 79
        }
      ]
    },
    {
      "cell_type": "code",
      "source": [
        "def function(x, clf=clf):\n",
        "  n = len(x)\n",
        "  x=x.reshape((1, n))\n",
        "  df = pd.DataFrame(x)\n",
        "  Y=clf.predict(df)\n",
        "  fun=Y*(-1)\n",
        "  return fun\n"
      ],
      "metadata": {
        "id": "DoDV64E1TXtK"
      },
      "execution_count": 80,
      "outputs": []
    },
    {
      "cell_type": "code",
      "source": [
        "nrows,ncols= x_train.shape\n",
        "bounds = [(-1,1)]*ncols\n",
        "Condicoes = optimize.differential_evolution(function,bounds,\n",
        "                                      init=\"latinhypercube\", # obs: init=\"random\"\n",
        "                                      maxiter=100, popsize=50,recombination=0.5)"
      ],
      "metadata": {
        "id": "FHofUkpATTKM"
      },
      "execution_count": 81,
      "outputs": []
    },
    {
      "cell_type": "code",
      "source": [
        "n = len(bounds)\n",
        "Condicoes=pd.DataFrame(Condicoes.x.reshape(1, n))\n",
        "Y=clf.predict(Condicoes).reshape(-1,1)\n",
        "\n",
        "Condicoes= z2val(Condicoes,xold)\n",
        "resp = pd.DataFrame(Condicoes,columns=Col_Indep)\n",
        "print(resp)\n",
        "Y =  z2val(Y,yold)\n",
        "print(Y)"
      ],
      "metadata": {
        "id": "0FrR05prTcPj",
        "outputId": "1494efd7-7e73-478e-bb42-197f92e6c98e",
        "colab": {
          "base_uri": "https://localhost:8080/"
        }
      },
      "execution_count": 82,
      "outputs": [
        {
          "output_type": "stream",
          "name": "stdout",
          "text": [
            "          SO         IN\n",
            "0  150.42232  41.296238\n",
            "[[48.14821453]]\n"
          ]
        }
      ]
    }
  ]
}